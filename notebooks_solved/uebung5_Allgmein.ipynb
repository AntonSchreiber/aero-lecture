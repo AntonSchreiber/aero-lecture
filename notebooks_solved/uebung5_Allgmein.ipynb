{
 "cells": [
  {
   "cell_type": "markdown",
   "metadata": {},
   "source": [
    "# **Antworten zu den Fragen aus Übung 4**"
   ]
  },
  {
   "cell_type": "markdown",
   "metadata": {},
   "source": [
    "In Aufgabe 4.2 a) sollte der Oswald-Faktor für Ellipsenflügel verschiedener Streckungen berechnet werden. Es wurde gefragt, **welcher Verlauf sich für einen elliptischen Flügel ergeben sollte und ein möglicher Grund für Abweichungen genannt werden.** \n",
    "\n",
    "*Antwort*\n",
    "\n",
    "Weiterhin sollte in 4.2 b) der Oswald-Faktor für einen Trapezflügel verschiedener Streckungen sowohl mit dem Traglinienverfahren als auch mit der Prandtl'schen Tragflügeltheorie bestimmt werden. **Wie könnte man herausfinden, welches Verhalten richtig ist?**\n",
    "\n",
    "*Antwort*"
   ]
  },
  {
   "cell_type": "markdown",
   "metadata": {},
   "source": [
    "# **Übung 4: Das Traglinienverfahren und die Prandtl'sche Tragflügeltheorie Teil 2**"
   ]
  },
  {
   "cell_type": "markdown",
   "metadata": {},
   "source": [
    "evtl Theorie zu Rollmanövern und Kurvenflug"
   ]
  }
 ],
 "metadata": {
  "language_info": {
   "name": "python"
  }
 },
 "nbformat": 4,
 "nbformat_minor": 2
}

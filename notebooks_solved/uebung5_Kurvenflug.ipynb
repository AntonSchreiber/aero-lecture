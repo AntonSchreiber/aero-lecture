{
 "cells": [
  {
   "cell_type": "markdown",
   "metadata": {},
   "source": [
    "# **Übung 5: Der Tragflügel im stationären Kurvenflug**"
   ]
  },
  {
   "cell_type": "markdown",
   "metadata": {},
   "source": [
    "Im stationären Kurvenflug entsteht eine unsymmetrische Anströmung, die ein Rollmoment am Flügel verursacht. Dieses Rollmoment muss durch einen Querruderausschlag kompensiert werden. Berechnen Sie den notwendigen Ruderausschlag für einen Rechteck- flügel von 15m Spannweite bei einem Hängewinkel von φ = 30◦. Die Klappentiefe soll lQ = 0,2l betragen. Die Position des Klappenbeginns soll bei 65% der Halbspannweite liegen."
   ]
  },
  {
   "cell_type": "code",
   "execution_count": null,
   "metadata": {},
   "outputs": [],
   "source": [
    "# Importieren von Python-Biblioteken\n",
    "import numpy as np\n",
    "import matplotlib.pyplot as plt\n",
    "import pandas as pd\n",
    "\n",
    "# Erhöhen der Plot-Auflösung\n",
    "plt.rcParams[\"figure.dpi\"] = 140"
   ]
  },
  {
   "cell_type": "markdown",
   "metadata": {},
   "source": [
    "### **5.1.1 Geometrische Parameter und Randbedinungen**"
   ]
  },
  {
   "cell_type": "code",
   "execution_count": null,
   "metadata": {},
   "outputs": [],
   "source": [
    "# Konstant\n",
    "U_inf = 20.0                    # Bahngeschwindigkeit der Flügelwurzel [m/s]\n",
    "rho = 1.225                     # Dichte [kg/m^3]\n",
    "l_i = 1.0                       # Flügeltiefe Rumpfmitte [m]\n",
    "l_a = 1.0                       # Flügeltiefe außen [m]\n",
    "l_r = 0.2                       # Rudertiefe [m]\n",
    "b = 15.0                        # Spannweite [m]\n",
    "phi = 30 * np.pi / 180          # Hängewinkel\n",
    "N = 500                         # Anzahl Elementarflügel\n",
    "delta_b = b/ N                  # Elementarflügelbreite"
   ]
  },
  {
   "cell_type": "markdown",
   "metadata": {},
   "source": [
    "#### 🟠"
   ]
  },
  {
   "cell_type": "code",
   "execution_count": null,
   "metadata": {},
   "outputs": [],
   "source": [
    "# Diese Parameter können verändert werden\n",
    "alpha = 10.0                    # Anstellwinel [deg]\n",
    "xi = 30.0                       # Klappenwinkel [deg]\n",
    "r = 80.0                        # Kurvenradius [m]"
   ]
  },
  {
   "cell_type": "markdown",
   "metadata": {},
   "source": [
    "#### Berechnung weiterer geometrischer Parameter"
   ]
  },
  {
   "cell_type": "code",
   "execution_count": null,
   "metadata": {},
   "outputs": [],
   "source": [
    "alpha = alpha / 180 * np.pi     # Anstellwinel [rad] \n",
    "xi = xi / 180 * np.pi           # Anstellwinel [rad] \n",
    "\n",
    "# Berechnung der Halbspannweite, Flügelfläche und Sreckung\n",
    "s = b / 2 \n",
    "S = b/2 * (l_a + l_i)  \n",
    "AR = b**2 / S     \n",
    "\n",
    "# Verhältnis Rudertiefe-Flügeltiefe und spannweitige Position\n",
    "lamda = l_r / l_i\n",
    "y_ruder = 0.65 * s\n",
    "\n",
    "# Berechnung des Nullanstellwinkels des Klappenprofils\n",
    "alpha_0 = - 2 / np.pi * (np.asin(np.sqrt(lamda)) + np.sqrt(lamda * (1 - lamda))) * xi\n",
    "\n",
    "# Berechnung der Drehgeschwindigkeit\n",
    "psi = U_inf / r\n",
    "\n",
    "\n",
    "print(\"Spannweitige Position der Ruder:         \", \"%.3f\" % y_ruder, \"m\")\n",
    "print(\"Drehgeschwindigkeit:                     \", \"%.3f\" % (psi * 180 / np.pi), \"°/s\")\n",
    "print(\"Nullanstellwinkel des Klappenprofils:    \", str(round(alpha_0 * 180 / np.pi, 2)) + \"°\")"
   ]
  },
  {
   "cell_type": "markdown",
   "metadata": {},
   "source": [
    "### **5.1.2 Berechnung der Hufeisenwirbel-Koordinaten**"
   ]
  },
  {
   "cell_type": "code",
   "execution_count": null,
   "metadata": {},
   "outputs": [],
   "source": [
    "def x_position(y, l_i, l_a, s, aufpunkt=False):\n",
    "    \"\"\"Berechnet die Tiefenposition der Punkte A und B und des Aufpunkts C\"\"\"\n",
    "\n",
    "    tiefe = 0.75 if aufpunkt else 0.25\n",
    "    return abs(y) / s * (l_i - l_a) / 2 + tiefe * (l_i - abs(y) / s * (l_i - l_a))\n",
    "\n",
    "\n",
    "def compute_coords(s, N, delta_b, l_i, l_a):\n",
    "    \"\"\"Berechnet die Hufeisenwirbel-Koordinaten aus Basis der Flügelgeometrie und Anzahl der Elementarflügel\"\"\"\n",
    "\n",
    "    # Spannweitige Positionen der Punkte A, B und Aufpunkt C\n",
    "    y_a = np.array([-s +  j    * delta_b for j in range(N)])\n",
    "    y_b = np.array([-s + (j+1) * delta_b for j in range(N)])\n",
    "    y_c = np.array([-s + delta_b/2 + i*delta_b for i in range(N)])\n",
    "    \n",
    "    # Tiefenposition der Punkte A und B und des Aufpunkts C\n",
    "    x_a = np.array([x_position(y_i, l_i, l_a, s) for y_i in y_a])\n",
    "    x_b = np.array([x_position(y_i, l_i, l_a, s) for y_i in y_b])\n",
    "    x_c = np.array([x_position(y_i, l_i, l_a, s, True) for y_i in y_c])\n",
    "\n",
    "    # Spannweitige Positionen der bis ins Unendliche reichenden nichttragenden Wirbel\n",
    "    y_aoo = np.array([-s +  j    * delta_b for j in range(N)])\n",
    "    y_boo = np.array([-s + (j+1) * delta_b for j in range(N)])\n",
    "\n",
    "    # Tiefenposition der bis ins Unendliche reichenden nichttragenden Wirbel\n",
    "    x_aoo = x_a + 100*s\n",
    "    x_boo = x_b + 100*s\n",
    "\n",
    "    return y_a, y_b, y_c, x_a, x_b, x_c, y_aoo, y_boo, x_aoo, x_boo\n",
    "\n",
    "# Berechnen aller Hufeisenwirbel-Koordinaten\n",
    "y_a, y_b, y_c, x_a, x_b, x_c, y_aoo, y_boo, x_aoo, x_boo = compute_coords(s, N, delta_b, l_i, l_a)"
   ]
  },
  {
   "cell_type": "markdown",
   "metadata": {},
   "source": [
    "### **5.1.3 Berechnung der Koeffizientenmatrix**"
   ]
  },
  {
   "cell_type": "code",
   "execution_count": null,
   "metadata": {},
   "outputs": [],
   "source": [
    "def compute_coeff_matrices(y_a, y_b, y_c, x_a, x_b, x_c):\n",
    "    \"\"\"Berechnet die drei Anteile der Koeffizientenmatrix\"\"\"\n",
    "    \n",
    "    # Initialisieren der Matrizen\n",
    "    a_AB = np.zeros((x_a.size, x_a.size), dtype=float)\n",
    "    a_Aoo = np.zeros((x_a.size, x_a.size), dtype=float)\n",
    "    a_Boo = np.zeros((x_a.size, x_a.size), dtype=float)\n",
    "\n",
    "    # Berechnen der Anteile der gebundenen Wirbel\n",
    "    for j in range(N):\n",
    "        for i in range(N):\n",
    "            a_AB[i, j] = 1 / (4*np.pi) * (1/((x_c[i] - x_a[j])*(y_c[i] - y_b[j]) - (y_c[i] - y_a[j])*(x_c[i] - x_b[j]))) * (((x_b[j] - x_a[j])*(x_c[i] - x_a[j]) + (y_b[j] - y_a[j])*(y_c[i] - y_a[j]))/ np.sqrt((x_c[i] - x_a[j])**2 + (y_c[i] - y_a[j])**2) - ((x_b[j] - x_a[j])*(x_c[i] - x_b[j]) + (y_b[j] - y_a[j])*(y_c[i] - y_b[j]))/ np.sqrt((x_c[i] - x_b[j])**2 + (y_c[i] - y_b[j])**2))\n",
    "\n",
    "    # Berechnen der Anteile der freien Wirbel der linken Seite\n",
    "    for j in range(N):\n",
    "        for i in range(N):\n",
    "            a_Aoo[i, j] = 1 / (4*np.pi) * 1/(y_a[j] - y_c[i]) * ((x_c[i] - x_a[j])/ (np.sqrt((x_c[i] - x_a[j])**2 + (y_c[i] - y_a[j])**2)) + 1)\n",
    "\n",
    "    # Berechnen der Anteile der freien Wirbel der rechten Seite\n",
    "    for j in range(N):\n",
    "        for i in range(N):\n",
    "            a_Boo[i, j] = 1 / (4*np.pi) * 1/(y_b[j] - y_c[i]) * ((x_c[i] - x_b[j])/ (np.sqrt((x_c[i] - x_b[j])**2 + (y_c[i] - y_b[j])**2)) + 1)\n",
    "    \n",
    "    return a_AB, a_Aoo, a_Boo"
   ]
  },
  {
   "cell_type": "markdown",
   "metadata": {},
   "source": [
    "### **5.1.4 Berechnung von Kräften und Beiwerten**\n",
    "#### Auftrieb und Rollmoment"
   ]
  },
  {
   "cell_type": "code",
   "execution_count": null,
   "metadata": {},
   "outputs": [],
   "source": [
    "def compute_forces_coeffs(alpha_g, a, s):\n",
    "    \"\"\" Berechnet Kräfte und Beiwerte \"\"\"\n",
    "\n",
    "    # Anpassen des Anstellwinkelvektors um den Beitrag, der aus den Querruderausschlägen resultiert\n",
    "    for i in range(alpha_g.shape[0]):\n",
    "        if y_c[i] < -y_ruder:\n",
    "            alpha_g[i] += alpha_0\n",
    "        elif y_c[i] > y_ruder:\n",
    "            alpha_g[i] -= alpha_0\n",
    "\n",
    "    # Berechnen der effektiven Anströmgeschwindigkeit in Abhängigkeit der Spannweite, da durch die Drehung des Flügels eine zusätzliche Geschwindigkeitskomponente entsteht\n",
    "    U_y_c = U_inf + psi * y_c * np.cos(phi)\n",
    "\n",
    "    # Berechnen von Zirkulation und Auftrieb\n",
    "    Gamma = np.linalg.solve(a, alpha_g * (- U_y_c)) \n",
    "    A_i = rho * U_y_c * Gamma * delta_b\n",
    "    A = np.sum(A_i)\n",
    "    C_A = 2 * A / rho / U_inf**2 / S\n",
    "\n",
    "    # Berechnen des Rollmoments\n",
    "    L = np.sum(-y_c * A_i)\n",
    "    C_L = 2 * L / rho / U_inf**2 / S / s\n",
    "\n",
    "    return C_A, C_L, A_i, U_y_c"
   ]
  },
  {
   "cell_type": "code",
   "execution_count": null,
   "metadata": {},
   "outputs": [],
   "source": [
    "# Berechnen der Anteile der Koeffizientenmatrix\n",
    "a_AB, a_Aoo, a_Boo = compute_coeff_matrices(y_a, y_b, y_c, x_a, x_b, x_c)\n",
    "a = a_AB + a_Aoo - a_Boo                                # Koeffizientenmatrix\n",
    "alpha_g = np.full((a.shape[0]), alpha, dtype=float)     # Anstellwinkelvektor\n",
    "\n",
    "# Berechnen der Kräfte und Beiwerte\n",
    "C_A, C_L, A_i, U_y_c = compute_forces_coeffs(alpha_g, a, s)\n",
    "\n",
    "print(\"Auftriebsbeiwert:     \", \"%.3f\" % C_A)\n",
    "print(\"Rollmomentbeiwert:   \", \"%.3f\" % C_L)"
   ]
  },
  {
   "cell_type": "markdown",
   "metadata": {},
   "source": [
    "#### Auftriebsverteilung "
   ]
  },
  {
   "cell_type": "code",
   "execution_count": null,
   "metadata": {},
   "outputs": [],
   "source": [
    "# Hinzufügen von Endpunkten zum plotten\n",
    "A_i = np.insert(A_i, 0, 0)\n",
    "A_i = np.append(A_i, 0)\n",
    "y_c = np.insert(y_c, 0, -s)\n",
    "y_c = np.append(y_c, s)\n",
    "\n",
    "# Plotten der Auftriebsverteilungen\n",
    "plt.figure(figsize=(6, 3))\n",
    "plt.plot(y_c, A_i, '-', color=\"firebrick\", label='Auftriebsverteilung')\n",
    "plt.plot(y_c[1:-1], U_y_c, '--', color=\"black\", label='Effektive Anströmgeschwindigkeit')\n",
    "plt.xlabel('Spannweite [m]')\n",
    "plt.ylabel('Auftrieb [N]')\n",
    "plt.title('Auftriebsverteilung')\n",
    "plt.legend()\n",
    "plt.show()"
   ]
  },
  {
   "cell_type": "markdown",
   "metadata": {},
   "source": [
    "## **Aufgabe 4: Ermittlung des notwendigen Klappenausschlags im stationären Kurvenflug**\n",
    "\n",
    "a) bei einem Auftriebsbeiwert von $C_A = 0.4$ und einem Kurvenradius von $r = 80m$. \n",
    "\n",
    "b) bei einem Auftriebsbeiwert von $C_A = 0.3$ und einem Kurvenradius von $r = 120m$.\n",
    "\n",
    "c) selber Auftriebsbeiwert wie in a) aber Kurvenadius wie in b)"
   ]
  },
  {
   "cell_type": "code",
   "execution_count": null,
   "metadata": {},
   "outputs": [],
   "source": [
    "# Initialisieren der benötigten Parameter\n",
    "C_A_study = [0.4, 0.3, 0.4]\n",
    "r_study = [80, 120, 120]\n",
    "result = []\n",
    "\n",
    "for i in range(len(C_A_study)):\n",
    "    print(f\"Berechne benötigten Klappenausschlag für stationären Kurvenflug bei: \\n C_A={C_A_study[i]}, r={r_study[i]}m \\n\")\n",
    "    partial_res = []\n",
    "\n",
    "    for j in range(2):\n",
    "        # Setze alpha und xi auf entsprechende Werte [0, 1]\n",
    "        alpha = 1 if j==0 else 0\n",
    "        xi = 0 if j==0 else 1\n",
    "\n",
    "        # Berechnung des Nullanstellwinkels des Klappenprofils und der Drehgeschwindigkeit\n",
    "        alpha_0 = - 2 / np.pi * (np.asin(np.sqrt(lamda)) + np.sqrt(lamda * (1 - lamda))) * xi\n",
    "        psi = U_inf / r_study[i]\n",
    "\n",
    "        # Berechnen der Hufeisenwirbel-Koordinaten und Koeffizientenmatrix\n",
    "        y_a, y_b, y_c, x_a, x_b, x_c, y_aoo, y_boo, x_aoo, x_boo = compute_coords(s, N, delta_b, l_i, l_a)\n",
    "        a_AB, a_Aoo, a_Boo = compute_coeff_matrices(y_a, y_b, y_c, x_a, x_b, x_c)\n",
    "        a = a_AB + a_Aoo - a_Boo    \n",
    "\n",
    "        # Berechnen der Kräfte und Beiwerte\n",
    "        C_A, C_L, _, _ = compute_forces_coeffs(np.full((a.shape[0]), alpha, dtype=float), a, s)\n",
    "        partial_res.append(round(C_A, 3))\n",
    "        partial_res.append(round(C_L, 3))\n",
    "    \n",
    "    # Ermittlung der resultierenden Kombination von Klappen- und Anstellwinkel\n",
    "    xi_required = C_A_study[i] / (partial_res[2] - partial_res[0] * partial_res[3] / partial_res[1])\n",
    "    alpha_required = - partial_res[3] / partial_res[1] * xi_required\n",
    "\n",
    "    partial_res.append(round(xi_required, 2))\n",
    "    partial_res.append(round(xi_required * 180 / np.pi, 2))\n",
    "    partial_res.append(round(alpha_required, 2))\n",
    "    partial_res.append(round(alpha_required * 180 / np.pi, 2))\n",
    "\n",
    "    result.append(partial_res)"
   ]
  },
  {
   "cell_type": "code",
   "execution_count": null,
   "metadata": {},
   "outputs": [],
   "source": [
    "# Ergebnisse plotten\n",
    "fig= plt.figure(figsize=(9, 5))\n",
    "colColours = [\"lightgray\", \"lightcoral\", \"yellowgreen\", \"skyblue\"]\n",
    "\n",
    "# Erstelle ein DataFrame\n",
    "data = {\n",
    "    \"\": [r\"$U_\\infty$ [$m/s$]\", r\"$C_A$ [-]\", r\"$r$ [$m$]\", r\"$\\partial C_A / \\partial \\alpha$ [$rad^{-1}$]\", r\"$\\partial C_L / \\partial \\alpha$ [$rad^{-1}$]\", r\"$\\partial C_A / \\partial \\xi$ [$rad^{-1}$]\", r\"$\\partial C_L / \\partial \\xi$ [$rad^{-1}$]\", r\"notwendiges $\\xi$ [$rad$]\", r\"notwendiges $\\xi$ [$^\\circ$]\", r\"notwendiges $\\alpha$ [$rad$]\", r\"notwendiges $\\alpha$ [$^\\circ$]\"],\n",
    "    \"a)\": [20, C_A_study[0], r_study[0]] + result[0],\n",
    "    \"b)\": [20, C_A_study[1], r_study[1]] + result[1],\n",
    "    \"c)\": [20, C_A_study[2], r_study[2]] + result[2]\n",
    "}\n",
    "df = pd.DataFrame(data)\n",
    "\n",
    "# Erstelle die Tabelle\n",
    "plt.axis('tight')\n",
    "plt.axis('off')\n",
    "table = plt.table(cellText=df.values, colLabels=df.columns, colColours=colColours, colWidths= [0.4, 0.2, 0.2, 0.2], cellLoc='center', loc='center')\n",
    "\n",
    "# Zell-Eigenschaften anpassen\n",
    "for key, cell in table.get_celld().items():\n",
    "    cell.set_height(0.09)\n",
    "    cell.set_fontsize(12)\n",
    "\n",
    "for i in range(4):\n",
    "    table[(9, i)].set_facecolor(colColours[i])\n",
    "    table[(11, i)].set_facecolor(colColours[i])"
   ]
  }
 ],
 "metadata": {
  "kernelspec": {
   "display_name": ".venv",
   "language": "python",
   "name": "python3"
  },
  "language_info": {
   "codemirror_mode": {
    "name": "ipython",
    "version": 3
   },
   "file_extension": ".py",
   "mimetype": "text/x-python",
   "name": "python",
   "nbconvert_exporter": "python",
   "pygments_lexer": "ipython3",
   "version": "3.12.4"
  }
 },
 "nbformat": 4,
 "nbformat_minor": 2
}

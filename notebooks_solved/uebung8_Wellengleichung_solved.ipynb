{
 "cells": [
  {
   "cell_type": "markdown",
   "metadata": {},
   "source": [
    "# **Übung 8, Teil 1: Numerische Lösung der Wellengleichung erster Ordnung**"
   ]
  },
  {
   "cell_type": "code",
   "execution_count": 1,
   "metadata": {},
   "outputs": [],
   "source": [
    "import numpy as np\n",
    "import matplotlib.pyplot as plt\n",
    "import matplotlib.animation as animation\n",
    "from IPython.display import HTML\n",
    "\n",
    "# Erhöhen der Plot-Auflösung\n",
    "plt.rcParams[\"figure.dpi\"] = 140\n",
    "\n",
    "XLIM = [0, 1]\n",
    "YLIM1 = [-1.1, 1.1]\n",
    "YLIM2 = [-0.5, 1.5]"
   ]
  },
  {
   "cell_type": "markdown",
   "metadata": {},
   "source": [
    "### **8.1.1 Numerische Parameter**"
   ]
  },
  {
   "cell_type": "code",
   "execution_count": 2,
   "metadata": {},
   "outputs": [],
   "source": [
    "# Konstant\n",
    "m = 50              # Anzahl räumlicher Stützstellen\n",
    "c = 1               # Ausbreitungsgeschwindigkeit"
   ]
  },
  {
   "cell_type": "markdown",
   "metadata": {},
   "source": [
    "# 🟠"
   ]
  },
  {
   "cell_type": "code",
   "execution_count": 3,
   "metadata": {},
   "outputs": [],
   "source": [
    "# Dieser Parameter kann verändert werden\n",
    "dt = 0.02          # Zeitschrittweite"
   ]
  },
  {
   "cell_type": "code",
   "execution_count": null,
   "metadata": {},
   "outputs": [],
   "source": [
    "total_time = 1.2 / abs(c)     # Simulationszeit\n",
    "dx = 1 / m          # räumliche Schrittweite (auf 1m)\n",
    "n = int(total_time / dt)\n",
    "\n",
    "print(\"Räumlich:    \", m, \"Stützstellen pro Meter ergibt eine räumliche Schritteweite von\", \"%.2f\" % dx, \"m\")\n",
    "print(\"Zeitlich:    \", dt, \"s Zeitschrittweite über\", total_time, \"s ergibt\", n, \"Zeitschritte\")"
   ]
  },
  {
   "cell_type": "markdown",
   "metadata": {},
   "source": [
    "### **8.1.2 Gitterpunkte und Anfangslösung erzeugen**"
   ]
  },
  {
   "cell_type": "code",
   "execution_count": 5,
   "metadata": {},
   "outputs": [],
   "source": [
    "# Funktion zum setzten der Anfangsbedingung (Testfunktion)\n",
    "def initial_cond(x):\n",
    "    return np.cos(4 * np.pi * x) "
   ]
  },
  {
   "cell_type": "code",
   "execution_count": 6,
   "metadata": {},
   "outputs": [],
   "source": [
    "# Gitterpunkte \n",
    "x = np.linspace(0, 1, m + 1)   \n",
    "\n",
    "# Lösungsmatrix für phi initialisieren:\n",
    "#   - die räumliche Ausbreitung zum Zeitpunkt t ist in Spalte t untergebracht phi[:, t]\n",
    "#   - die zeitliche Ausbreitung am Ort x ist in Reihe x untergebracht phi[x, :]\n",
    "phi = np.zeros((m + 1, n + 1))   \n",
    "\n",
    "# Anfangsbedingung\n",
    "phi[:, 0] = initial_cond(x)"
   ]
  },
  {
   "cell_type": "code",
   "execution_count": null,
   "metadata": {},
   "outputs": [],
   "source": [
    "# Visualisierung der Anfangslösung\n",
    "plt.figure(figsize=(6, 3))\n",
    "plt.plot(x, phi[:, 0], color=\"gray\")\n",
    "plt.title('Anfangslösung der Wellengleichung')\n",
    "plt.xlabel('x')\n",
    "plt.ylabel(r'$\\phi(x, t=0)$')\n",
    "plt.grid(True)\n",
    "plt.xlim(XLIM)\n",
    "plt.ylim(YLIM1)\n",
    "plt.tight_layout()\n",
    "plt.show()"
   ]
  },
  {
   "cell_type": "markdown",
   "metadata": {},
   "source": [
    "### **8.1.3 Löser Schleife**"
   ]
  },
  {
   "cell_type": "code",
   "execution_count": 8,
   "metadata": {},
   "outputs": [],
   "source": [
    "# Funktion zum setzten der Randbedingungen\n",
    "def apply_BC(phi, j):\n",
    "    if c < 0:\n",
    "        phi[0, j] = phi[1, j - 1]  \n",
    "        phi[-1, j] = 1 \n",
    "    else:\n",
    "        phi[-1, j] = phi[-2, j - 1]\n",
    "        phi[0, j] = 1    \n",
    "    return phi\n",
    "\n",
    "\n",
    "# Löser-Schleife\n",
    "def simple_solver(phi, dt, c, dx, n, m):\n",
    "    \"\"\" \n",
    "    Zeitlich:   Einstufiges, explizites Zeitschrittverfahren (1. Ordnung) \n",
    "    Räumlich:   Aufwind-Schema (Rückwärtsschema 1. Ordnung)\n",
    "    \"\"\"\n",
    "    for j in range(1, n + 1):\n",
    "        phi = apply_BC(phi, j)\n",
    "        for i in range(1, m):\n",
    "            phi[i, j] = phi[i, j-1] - dt * (c * (phi[i, j-1] - phi[i - 1, j-1]) / dx)\n",
    "            \n",
    "    return phi"
   ]
  },
  {
   "cell_type": "code",
   "execution_count": 9,
   "metadata": {},
   "outputs": [],
   "source": [
    "# Löser-Schleife\n",
    "phi = simple_solver(phi, dt, c, dx, n, m)\n",
    "\n",
    "# Animation der Lösung\n",
    "def animation_phi(title, YLIM, phi=phi):\n",
    "    fig, ax = plt.subplots(figsize=(6, 3))\n",
    "    ax.set_xlim(XLIM)\n",
    "    ax.set_ylim(YLIM)\n",
    "    ax.set_title(f\"{title}, t = 0\")\n",
    "    ax.plot(x, phi[:, 0], lw=2, color=\"gray\", label='Anfangslösung')\n",
    "    line, = ax.plot([], [], lw=2, color=\"firebrick\", label='Lösung')\n",
    "    ax.set_xlabel('x')\n",
    "    ax.set_ylabel(r'$\\phi(x, t)$')\n",
    "    ax.grid(True)\n",
    "    ax.legend(loc=\"lower center\")\n",
    "    plt.tight_layout()\n",
    "\n",
    "    def animate(j):\n",
    "        line.set_data(x, phi[:, j])\n",
    "        ax.set_title(f\"{title}, t = {j*dt:.2f} s\")\n",
    "        return line,\n",
    "\n",
    "    ani = animation.FuncAnimation(fig, animate, frames=n, interval=50, blit=True)\n",
    "    plt.close(fig)\n",
    "    return ani"
   ]
  },
  {
   "cell_type": "code",
   "execution_count": null,
   "metadata": {},
   "outputs": [],
   "source": [
    "ani = animation_phi(\"Lösung der Wellengleichung\", YLIM=YLIM1)\n",
    "HTML(ani.to_jshtml())"
   ]
  },
  {
   "cell_type": "markdown",
   "metadata": {},
   "source": [
    "## **Aufgabe 1 a) Berechnungsvorschrift für zulässige Zeitschrittweite**\n",
    "\n",
    "Ergänzen Sie das Programm um eine Berechnungsvorschrift für die zulässige Zeitschrittweite. Überprüfen Sie die Zeitschrittweitenberechnung durch Variation der relevanten Simulationsparameter (z.B. Ausbreitungsgeschwindigkeit c). Führen Sie anschließend die CFL-Zahl als frei wählbaren Parameter `clf` ein und stellen Sie ihren Einfluss auf die Lösung dar."
   ]
  },
  {
   "cell_type": "markdown",
   "metadata": {},
   "source": [
    "# 🟠"
   ]
  },
  {
   "cell_type": "code",
   "execution_count": 11,
   "metadata": {},
   "outputs": [],
   "source": [
    "# Ausbreitungsgeschwindigkeit variieren\n",
    "c = 5     "
   ]
  },
  {
   "cell_type": "code",
   "execution_count": 12,
   "metadata": {},
   "outputs": [],
   "source": [
    "# Berechnungsvorschrift für dt\n",
    "#    - der Zeitschritt muss limitiert werden, damit die Welle in der Zeit dt einen Weg <= dx zurücklegt\n",
    "#    - für größere Werte von dt breitet sich Information räumlich schneller aus als sie zeitlich abgebildet werden kann\n",
    "def get_dt():\n",
    "    dt = cfl * dx / abs(c)\n",
    "    return dt\n",
    "\n",
    "cfl = 1"
   ]
  },
  {
   "cell_type": "code",
   "execution_count": null,
   "metadata": {},
   "outputs": [],
   "source": [
    "dt = get_dt()\n",
    "total_time = 1.2 / abs(c) \n",
    "n = int(total_time / dt)\n",
    "\n",
    "print(\"Räumlich:    \", m, \"Stützstellen pro Meter ergibt eine räumliche Schritteweite von\", \"%.2f\" % dx, \"m\")\n",
    "print(\"Zeitlich:    \", dt, \"s Zeitschrittweite über\", total_time, \"s ergibt\", n, \"Zeitschritte\")"
   ]
  },
  {
   "cell_type": "code",
   "execution_count": null,
   "metadata": {},
   "outputs": [],
   "source": [
    "# phi neu initialisieren\n",
    "phi = np.zeros((m + 1, n + 1))   \n",
    "\n",
    "# AB\n",
    "phi[:, 0] = initial_cond(x)\n",
    "\n",
    "# Löser-Schleife\n",
    "phi = simple_solver(phi, dt, c, dx, n, m)\n",
    "\n",
    "ani = animation_phi(\"Lösung mit Berechnungsvorschrift\", YLIM=YLIM1)\n",
    "HTML(ani.to_jshtml())"
   ]
  },
  {
   "cell_type": "markdown",
   "metadata": {},
   "source": [
    "Die Berechnungsvorschrift `dt = dx / abs(c)` erzeugt für alle positiven Werte von c eine stabile Lösung. Man kann darauf basierend die CFL Zahl definieren:\n",
    "\\begin{equation}\n",
    "CFL = c * \\frac{\\Delta t}{\\Delta x}\n",
    "\\end{equation}\n",
    "Damit ändert sich die Berechnungsvorschrift zu `dt = cfl * dx / abs(c)`."
   ]
  },
  {
   "cell_type": "code",
   "execution_count": null,
   "metadata": {},
   "outputs": [],
   "source": [
    "# Konstante Parameter setzen\n",
    "cfl_study = [0.8, 1.0, 1.2]\n",
    "c = 1 \n",
    "total_time = 0.5 / abs(c) \n",
    "\n",
    "# Abbildung mit drei plots untereinander initialisieren\n",
    "fig, axes = plt.subplots(3, 1, figsize=(6, 8), sharex=True)\n",
    "\n",
    "\n",
    "for k, cfl in enumerate(cfl_study):\n",
    "    # Zeitschritt(-weite)\n",
    "    dt = get_dt()\n",
    "    n = int(total_time / dt)\n",
    "\n",
    "    # Lösungsmatrix mit AB initialisieren\n",
    "    phi = np.zeros((m + 1, n + 1))   \n",
    "    phi[:, 0] = initial_cond(x)\n",
    "\n",
    "    # Löser-Schleife:\n",
    "    phi = simple_solver(phi, dt, c, dx, n, m)\n",
    "\n",
    "    # Ergebnis plotten\n",
    "    axes[k].plot(x, phi[:, 0], lw=2, color=\"gray\", label='Anfangslösung')\n",
    "    axes[k].plot(x, phi[:, -1], lw=2, color=\"firebrick\", label='Lösung')\n",
    "    axes[k].set_title(\"CFL = {}\".format(cfl))\n",
    "    axes[k].set_xlim(XLIM)\n",
    "    axes[k].set_xlabel('x')\n",
    "    axes[k].set_ylabel(r'$\\phi(x, t)$')\n",
    "    axes[k].grid(True)\n",
    "    axes[k].legend(loc=\"lower center\")\n",
    "plt.tight_layout()"
   ]
  },
  {
   "cell_type": "markdown",
   "metadata": {},
   "source": [
    "## **Aufgabe 1 b) Negative Ausbreitungsrichtung**\n",
    "\n",
    "Kehren Sie Ausbreitungsrichtung in der Wellengleichung um und ändern Sie die räumliche Diskretisierung so, dass Sie für beide Ausbreitungsrichtungen stabil ist. Demonstrieren Sie dies durch geeignete Tests.\n"
   ]
  },
  {
   "cell_type": "markdown",
   "metadata": {},
   "source": [
    "# 🟠"
   ]
  },
  {
   "cell_type": "code",
   "execution_count": 16,
   "metadata": {},
   "outputs": [],
   "source": [
    "# Ausbreitungsgeschwidnigkeit varriieren (negativ/ positiv)\n",
    "c = -1"
   ]
  },
  {
   "cell_type": "code",
   "execution_count": 17,
   "metadata": {},
   "outputs": [],
   "source": [
    "# Löser-Schleife anpassen\n",
    "def simple_solver_extended(phi, dt, c, dx, n, m):\n",
    "    \"\"\" \n",
    "    Zeitlich:   Einstufiges, explizites Zeitschrittverfahren (1. Ordnung) \n",
    "    Räumlich:   Aufwind-Schema (Vorwärts- und Rückwärtsschema 1. Ordnung)\n",
    "    \"\"\"\n",
    "    for j in range(1, n+1):\n",
    "        phi = apply_BC(phi, j)\n",
    "        for i in range(1, m):\n",
    "            if c < 0:\n",
    "                phi[i, j] = phi[i, j-1] - dt * (c * (phi[i+1, j-1] - phi[i, j-1]) / dx)\n",
    "            else:\n",
    "                phi[i, j] = phi[i, j-1] - dt * (c * (phi[i, j-1] - phi[i - 1, j-1]) / dx)\n",
    "            \n",
    "    return phi"
   ]
  },
  {
   "cell_type": "code",
   "execution_count": null,
   "metadata": {},
   "outputs": [],
   "source": [
    "# Zeitschritt(-weite) neu berechnen\n",
    "cfl = 1\n",
    "dt = get_dt()\n",
    "total_time = 1.2 / abs(c) \n",
    "n = int(total_time / dt)\n",
    "\n",
    "# Lösungsmatrix mit AB erzeugen\n",
    "phi = np.zeros((m + 1, n + 1)) \n",
    "phi[:, 0] = initial_cond(x)\n",
    "\n",
    "# Neue Implementierung der Löser-Schleife\n",
    "phi = simple_solver_extended(phi, dt, c, dx, n, m)\n",
    "\n",
    "ani = animation_phi(\"Lösung mit negativer Ausbreitungsgeschwindigkeit\", YLIM=YLIM1)\n",
    "HTML(ani.to_jshtml())"
   ]
  },
  {
   "cell_type": "markdown",
   "metadata": {},
   "source": [
    "## **Aufgabe 1 c) Einfluss der räumlichen Diskretisierung bei verschiedenen Schemata**\n",
    "\n",
    "Das nachfolgende Skript verwendet ein Aufwind-Schema sowie ein zentrales Schema mit 4. Differenzen in Verbindung mit einem dreistufigen Runge-Kutta Zeitschrittverfahren. Variieren Sie systematisch die Anzahl der Stützstellen `m`, um den Einfluss der räumlichen Auflösung auf die Ergebnisse für beide Diskretisierungsschemata darzustellen.\n"
   ]
  },
  {
   "cell_type": "code",
   "execution_count": 19,
   "metadata": {},
   "outputs": [],
   "source": [
    "# Funktion zum setzten der Randbedingungen für Runge-Kutta Verfahren\n",
    "def apply_BC_RK(phi):\n",
    "    if c < 0:\n",
    "        phi[0] = 2 * phi[1] - phi[2]\n",
    "        phi[-1] = 1 \n",
    "    else:\n",
    "        phi[0] = 1 \n",
    "        phi[-1] = 2 * phi[-2] - phi[-3]   \n",
    "    return phi\n",
    "\n",
    "\n",
    "def three_stage_RK_upwind(phi, a1, a2, dt, c, dx, n, m):\n",
    "    \"\"\" \n",
    "    Zeitlich:   Dreistufiges Runge-Kutta Verfahren (1. Ordnung)\n",
    "    Räumlich:   Aufwind-Schema (1. Ordnung)\n",
    "    \"\"\"\n",
    "    for j in range(1, n+1):\n",
    "        # Stufe 1\n",
    "        phi = apply_BC(phi, j)\n",
    "        for i in range(1, m):\n",
    "            if c<0:\n",
    "                a1[i, 0] = phi[i, j-1] - 0.15 * dt * (c * (phi[i+1, j-1] - phi[i, j-1]) / dx)\n",
    "            else:\n",
    "                a1[i, 0] = phi[i, j-1] - 0.15 * dt * (c * (phi[i, j-1] - phi[i - 1, j-1]) / dx)\n",
    "\n",
    "        # Stufe 2\n",
    "        a1 = apply_BC_RK(a1)\n",
    "        for i in range(1, m):\n",
    "            if c<0:\n",
    "                a2[i, 0] = phi[i, j-1] - 0.5 * dt * (c * (a1[i+1, 0] - a1[i, 0]) / dx)\n",
    "            else:\n",
    "                a2[i, 0] = phi[i, j-1] - 0.5 * dt * (c * (a1[i, 0] - a1[i-1, 0]) / dx)\n",
    "                \n",
    "        # Stufe 3\n",
    "        a2 = apply_BC_RK(a2)\n",
    "        for i in range(1, m):\n",
    "            if c<0:\n",
    "                phi[i, j] = phi[i, j-1] - 1.0 * dt * (c * (a2[i+1, 0] - a2[i, 0]) / dx)\n",
    "            else:\n",
    "                phi[i, j] = phi[i, j-1] - 1.0 * dt * (c * (a2[i, 0] - a2[i-1, 0]) / dx)\n",
    "        \n",
    "    return phi\n",
    "\n",
    "\n",
    "def d4(u, i, j, c, m):\n",
    "    \"\"\" Berechnung von vierten Differenzen \"\"\"\n",
    "    \n",
    "    u_iplus2 = 2 * u[i+1, j] - u[i, j] if i == m - 1 else u[i+2, j]\n",
    "    u_iminus2 = 2 * u[i-1, j] - u[i, j] if i == 1 else u[i-2, j]\n",
    "\n",
    "    # Berechnung der vierten Differenzen \n",
    "    return (abs(c) * (u_iplus2 - 3 * u[i+1, j] + 3 * u[i, j] - u[i-1, j]) - abs(c) * (u[i+1, j] - 3 * u[i, j] + 3 * u[i-1, j] - u_iminus2)) / dx\n",
    "\n",
    "\n",
    "def three_stage_RK_central_diff(phi, a1, a2, dt, c, dx, n, m, k4):\n",
    "    \"\"\" \n",
    "    Zeitlich:   Dreistufiges Runge-Kutta Verfahren (1. Ordnung)\n",
    "    Räumlich:   Zentrales Schema mit vierten Differenzen (2. Ordnung)\n",
    "    \"\"\"\n",
    "    for j in range(1, n+1):\n",
    "        # Stufe 1\n",
    "        phi = apply_BC(phi, j)\n",
    "        for i in range(1, m):\n",
    "            a1[i, 0] = phi[i, j-1] - 0.15 * dt * (c * (phi[i+1, j-1] - phi[i-1, j-1]) / 2 / dx + k4 * d4(phi, i, j-1, c, m))\n",
    "\n",
    "        # Stufe 2\n",
    "        a1 = apply_BC_RK(a1)\n",
    "        for i in range(1, m):\n",
    "            a2[i, 0] = phi[i, j-1] - 0.5 * dt * (c * (a1[i+1, 0] - a1[i-1, 0]) / 2 / dx + k4 * d4(a1, i, 0, c, m))\n",
    "                \n",
    "        # Stufe 3\n",
    "        a2 = apply_BC_RK(a2)\n",
    "        for i in range(1, m):\n",
    "            phi[i, j] = phi[i, j-1] - 1.0 * dt * (c * (a2[i+1, 0] - a2[i-1, 0]) / 2 / dx + k4 * d4(a2, i, 0, c, m))\n",
    "        \n",
    "    return phi"
   ]
  },
  {
   "cell_type": "markdown",
   "metadata": {},
   "source": [
    "# 🟠"
   ]
  },
  {
   "cell_type": "code",
   "execution_count": 20,
   "metadata": {},
   "outputs": [],
   "source": [
    "# Anzahl der Stützstellen variieren\n",
    "m = 50"
   ]
  },
  {
   "cell_type": "code",
   "execution_count": 21,
   "metadata": {},
   "outputs": [],
   "source": [
    "# Konstanten\n",
    "c = 0.1\n",
    "cfl = 1\n",
    "k4 = 1 / 32\n",
    "\n",
    "# Simulationsparameter neu berechnen\n",
    "x = np.linspace(0, 1, m + 1)  \n",
    "dx = 1 / m\n",
    "dt = get_dt()\n",
    "total_time = 0.5 / abs(c) \n",
    "n = int(total_time / dt)"
   ]
  },
  {
   "cell_type": "code",
   "execution_count": 22,
   "metadata": {},
   "outputs": [],
   "source": [
    "# Aufwind-Schema initialisieren\n",
    "phi_upwind = np.zeros((m + 1, n + 1))\n",
    "phi_upwind[:, 0] = initial_cond(x)\n",
    "a1 = np.zeros((m + 1, 1))\n",
    "a2 = np.zeros((m + 1, 1))\n",
    "\n",
    "# Lösung mit Aufwind-Schema\n",
    "phi_upwind = three_stage_RK_upwind(phi_upwind, a1, a2, dt, c, dx, n, m)\n",
    "\n",
    "# Zentrale-Differenzen-Schema initialisieren\n",
    "phi_central_diff = np.zeros((m + 1, n + 1))\n",
    "phi_central_diff[:, 0] = initial_cond(x)\n",
    "a1 = np.zeros((m + 1, 1))\n",
    "a2 = np.zeros((m + 1, 1))\n",
    "\n",
    "# Lösung mit zentralem Schema\n",
    "phi_central_diff = three_stage_RK_central_diff(phi_central_diff, a1, a2, dt, c, dx, n, m, k4)"
   ]
  },
  {
   "cell_type": "code",
   "execution_count": null,
   "metadata": {},
   "outputs": [],
   "source": [
    "# Ergebnisse plotten\n",
    "fig, axes = plt.subplots(1, 2, figsize=(12, 3), sharey=True)\n",
    "\n",
    "for i, ax in enumerate(axes):\n",
    "    title_pre = \"Aufwind-\" if i == 0 else \"Zentrales \"\n",
    "    phi = phi_upwind if i == 0 else phi_central_diff\n",
    "\n",
    "    ax.plot(x, phi[:, 0], lw=2, color=\"gray\", label='Anfangslösung')\n",
    "    ax.plot(x, phi[:, -1], lw=2, color=\"firebrick\", label='Lösung')\n",
    "    ax.set_title(title_pre + \"Schema\" + f\" (m = {m})\")\n",
    "    ax.set_xlim(XLIM)\n",
    "    ax.set_xlabel('x')\n",
    "    ax.set_ylabel(r'$\\phi(x, t)$')\n",
    "    ax.grid(True)\n",
    "    ax.legend(loc=\"lower center\")"
   ]
  },
  {
   "cell_type": "markdown",
   "metadata": {},
   "source": [
    "## **Aufgabe 1 d) Implementierung künstlicher Dissipation**\n",
    "\n",
    "In dieser Teilaufgabe wird eine neue Testfunktion in Form einer Stufe mit Sprung von 0 auf 1 verwendet. Wenden Sie die Verfahren auf die neue Anfangslösung mit Diskontinuität an. Ergänzen Sie das zentrale Schema um eine geeignete künstliche Dissipation und dokumentieren Sie ihre stabilisierende Wirkung.\n",
    "\n"
   ]
  },
  {
   "cell_type": "code",
   "execution_count": 24,
   "metadata": {},
   "outputs": [],
   "source": [
    "# Funktion zum Setzen der Anfangslösung mit Diskontinuität\n",
    "def initial_cond(x):\n",
    "    phi_0 = np.ones_like(x)\n",
    "    phi_0[x < 0.2] = 0  \n",
    "\n",
    "    return phi_0\n",
    "\n",
    "\n",
    "# Funktion zum Setzen der Randbedingungen\n",
    "def apply_BC(phi, j):\n",
    "    if c < 0:\n",
    "        phi[0, j] = phi[1, j - 1]  \n",
    "        phi[-1, j] = 1 \n",
    "    else:\n",
    "        phi[0, j] = 0           # theoretisch überflüssig, da phi als Matrix mit Werten 0 initialisiert wird\n",
    "        phi[-1, j] = phi[-2, j - 1] \n",
    "    return phi\n",
    "\n",
    "\n",
    "# Funktion zum Setzen der Randbedingungen für Runge-Kutta Verfahren\n",
    "def apply_BC_RK(phi):\n",
    "    if c < 0:\n",
    "        phi[0] = 2 * phi[1] - phi[2]\n",
    "        phi[-1] = 1 \n",
    "    else:\n",
    "        phi[0] = 0              # theoretisch überflüssig, da phi als Matrix mit Werten 0 initialisiert wird\n",
    "        phi[-1] = 2 * phi[-2] - phi[-3]  \n",
    "    return phi\n",
    "\n",
    "\n",
    "def d2(u, i, j, c):\n",
    "    \"\"\" Berechnung von zweiten Differenzen (Dissipationstermen)\"\"\"\n",
    "    return abs(c) * (u[i+1, j] - 2 * u[i, j] + u[i-1, j]) / dx\n",
    "\n",
    "\n",
    "def three_stage_RK_central_diff_dissipation(phi, a1, a2, dt, c, dx, n, m, k2):\n",
    "    \"\"\" \n",
    "    Zeitlich:   Dreistufiges Runge-Kutta Verfahren (1. Ordnung)\n",
    "    Räumlich:   Zentrales Schema mit vierten Differenzen (2. Ordnung)\n",
    "    \"\"\"\n",
    "    for j in range(1, n+1):\n",
    "        # Stufe 1\n",
    "        phi = apply_BC(phi, j)\n",
    "        for i in range(1, m):\n",
    "            a1[i, 0] = phi[i, j-1] - 0.15 * dt * (c * (phi[i+1, j-1] - phi[i-1, j-1]) / 2 / dx - k2 * d2(phi, i, j-1, c))\n",
    "\n",
    "        # Stufe 2\n",
    "        a1 = apply_BC_RK(a1)\n",
    "        for i in range(1, m):\n",
    "            a2[i, 0] = phi[i, j-1] - 0.5 * dt * (c * (a1[i+1, 0] - a1[i-1, 0]) / 2 / dx - k2 * d2(a1, i, 0, c))\n",
    "                \n",
    "        # Stufe 3\n",
    "        a2 = apply_BC_RK(a2)\n",
    "        for i in range(1, m):\n",
    "            phi[i, j] = phi[i, j-1] - 1.0 * dt * (c * (a2[i+1, 0] - a2[i-1, 0]) / 2 / dx - k2 * d2(a2, i, 0, c))\n",
    "        \n",
    "    return phi"
   ]
  },
  {
   "cell_type": "code",
   "execution_count": null,
   "metadata": {},
   "outputs": [],
   "source": [
    "# Visualisierung der Anfangslösung\n",
    "plt.figure(figsize=(6, 3))\n",
    "plt.plot(x, initial_cond(x), color=\"gray\")\n",
    "plt.title('Neue Testfunktion mit Sprung')\n",
    "plt.xlabel('x')\n",
    "plt.ylabel(r'$\\phi(x, t=0)$')\n",
    "plt.grid(True)\n",
    "plt.xlim(XLIM)\n",
    "plt.ylim(YLIM2)\n",
    "plt.tight_layout()\n",
    "plt.show()"
   ]
  },
  {
   "cell_type": "code",
   "execution_count": 26,
   "metadata": {},
   "outputs": [],
   "source": [
    "# Konstanten\n",
    "m = 200\n",
    "c = 0.1\n",
    "cfl = 1\n",
    "k2 = 0.5      # Skalierungsterm\n",
    "\n",
    "# Simulationsparameter neu berechnen\n",
    "x = np.linspace(0, 1, m + 1)  \n",
    "dx = 1 / m\n",
    "dt = get_dt()\n",
    "total_time = 1 / abs(c) \n",
    "n = int(total_time / dt)\n",
    "\n",
    "# Aufwind-Schema initialisieren\n",
    "phi_upwind = np.zeros((m + 1, n + 1))\n",
    "phi_upwind[:, 0] = initial_cond(x)\n",
    "a1 = np.zeros((m + 1, 1))\n",
    "a2 = np.zeros((m + 1, 1))\n",
    "\n",
    "# Lösung mit Aufwind-Schema\n",
    "phi_upwind = three_stage_RK_upwind(phi_upwind, a1, a2, dt, c, dx, n, m)\n",
    "\n",
    "# Zentrale-Differenzen-Schema initialisieren\n",
    "phi_central_diff = np.zeros((m + 1, n + 1))\n",
    "phi_central_diff[:, 0] = initial_cond(x)\n",
    "a1 = np.zeros((m + 1, 1))\n",
    "a2 = np.zeros((m + 1, 1))\n",
    "\n",
    "# Lösung mit zentralem Schema\n",
    "phi_central_diff = three_stage_RK_central_diff_dissipation(phi_central_diff, a1, a2, dt, c, dx, n, m, k2)"
   ]
  },
  {
   "cell_type": "code",
   "execution_count": null,
   "metadata": {},
   "outputs": [],
   "source": [
    "ani = animation_phi(\"Diskontinuität gelöst mit Aufwind-Schema\", YLIM=YLIM2, phi=phi_upwind)\n",
    "HTML(ani.to_jshtml())"
   ]
  },
  {
   "cell_type": "code",
   "execution_count": null,
   "metadata": {},
   "outputs": [],
   "source": [
    "ani = animation_phi(\"Diskontinuität gelöst mit Zentralem Schema\", YLIM=YLIM2, phi=phi_central_diff)\n",
    "HTML(ani.to_jshtml())"
   ]
  }
 ],
 "metadata": {
  "kernelspec": {
   "display_name": ".venv",
   "language": "python",
   "name": "python3"
  },
  "language_info": {
   "codemirror_mode": {
    "name": "ipython",
    "version": 3
   },
   "file_extension": ".py",
   "mimetype": "text/x-python",
   "name": "python",
   "nbconvert_exporter": "python",
   "pygments_lexer": "ipython3",
   "version": "3.12.4"
  }
 },
 "nbformat": 4,
 "nbformat_minor": 2
}

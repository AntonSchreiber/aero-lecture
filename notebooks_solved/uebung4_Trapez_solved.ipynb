{
 "cells": [
  {
   "cell_type": "markdown",
   "metadata": {},
   "source": [
    "# Übung 4: Trapezflügel"
   ]
  },
  {
   "cell_type": "code",
   "execution_count": 1,
   "metadata": {},
   "outputs": [],
   "source": [
    "# Importieren von Python-Biblioteken\n",
    "import numpy as np\n",
    "import matplotlib.pyplot as plt\n",
    "import pandas as pd\n",
    "from ipywidgets import IntSlider, FloatSlider, fixed, VBox, HBox, Label\n",
    "import ipywidgets as widgets\n",
    "\n",
    "# Erhöhen der Plot-Auflösung\n",
    "plt.rcParams[\"figure.dpi\"] = 140"
   ]
  },
  {
   "cell_type": "markdown",
   "metadata": {},
   "source": [
    "### 4.1.1 Visualisierung: Trapezflügel"
   ]
  },
  {
   "cell_type": "code",
   "execution_count": 2,
   "metadata": {},
   "outputs": [],
   "source": [
    "def trapezfluegel(l_a, AR, l_i=1.0) -> np.array:\n",
    "    \"\"\"Generiert die Planform eines Trapezflügels auf Basis der gegebenen Flügeltiefen und Streckung\"\"\"\n",
    "\n",
    "    # Berechnung der Halbspannweite\n",
    "    b = (l_a + l_i) * AR / 2\n",
    "    s = b / 2\n",
    "\n",
    "    # Definition aller Eckpunkte\n",
    "    points = np.array([\n",
    "        [0, 0], [s, -l_a/2 + l_i/2], [s, l_a/2 + l_i/2], [0, l_i], \n",
    "        [-s, l_a/2 + l_i/2], [-s, -l_a/2  + l_i/2], [0, 0]])\n",
    "    \n",
    "    return points\n",
    "\n",
    "\n",
    "def plot_trapezfluegel(l_a, AR):\n",
    "    \"\"\"Plottet die Planform eines Trapezflügels auf Basis der gegebenen Flügeltiefen und Streckung\"\"\"\n",
    "    \n",
    "    # Flügeleckpunkte generieren\n",
    "    points = trapezfluegel(l_a, AR)\n",
    "\n",
    "    # Geometrie plotten\n",
    "    plt.figure(figsize=(7, 3))\n",
    "    plt.plot(points[:,0], points[:, 1], '-', color=\"black\")\n",
    "    plt.vlines(0, 0, 1, \"black\", \"--\")\n",
    "    plt.xlabel('Spannweite [m]')\n",
    "    plt.ylabel('Flügeltiefe [m]')\n",
    "    plt.title('Trapezflügel')\n",
    "    plt.gca().invert_yaxis()\n",
    "    plt.axis('equal')\n",
    "    plt.show()\n",
    "\n",
    "\n",
    "def widget_trapezfluegel():\n",
    "    \"\"\"Erzeugt ein widget, mit dem sich die Planform eines Trapezflügels interaktiv visualisieren lässt\"\"\"\n",
    "\n",
    "    slider_l_a = VBox([Label('Flügeltiefe außen'), FloatSlider(value=0.5, min=0, max=1.0, step=0.1)])\n",
    "    slider_AR = VBox([Label('Streckung'), FloatSlider(value=10, min=5, max=20, step=1)])\n",
    "\n",
    "    # Interaktiver plot\n",
    "    ui = VBox([slider_l_a, slider_AR])\n",
    "    ui = VBox([ui], layout=widgets.Layout(justify_content='center'))\n",
    "    out = widgets.interactive_output(plot_trapezfluegel, {'l_a': slider_l_a.children[1], 'AR': slider_AR.children[1]})\n",
    "\n",
    "    return HBox([out, ui])"
   ]
  },
  {
   "cell_type": "code",
   "execution_count": null,
   "metadata": {},
   "outputs": [],
   "source": [
    "display(widget_trapezfluegel())"
   ]
  },
  {
   "cell_type": "markdown",
   "metadata": {},
   "source": [
    "### 4.1.2 Geometrische Parameter und Randbedinungen"
   ]
  },
  {
   "cell_type": "code",
   "execution_count": 4,
   "metadata": {},
   "outputs": [],
   "source": [
    "# Konstant\n",
    "alpha = 5                       # Anstellwinel [deg]\n",
    "alpha = np.deg2rad(alpha)       # Anstellwinel [rad]  \n",
    "U_inf = 10.0                    # Anströmgeschwindigkeit [m/s]\n",
    "rho = 1.225                     # Dichte [kg/m^3]\n",
    "l_i = 1.0                       # Flügeltiefe Wurzel [m]"
   ]
  },
  {
   "cell_type": "markdown",
   "metadata": {},
   "source": [
    "# 🟠"
   ]
  },
  {
   "cell_type": "code",
   "execution_count": 5,
   "metadata": {},
   "outputs": [],
   "source": [
    "# Diese Parameter können verändert werden\n",
    "l_a = 0.5                       # Flügeltiefe außen [m]\n",
    "AR = 10                         # Streckung/ Aspect Ratio"
   ]
  },
  {
   "cell_type": "markdown",
   "metadata": {},
   "source": [
    "#### Berechnung weiterer geometrischer Parameter"
   ]
  },
  {
   "cell_type": "code",
   "execution_count": null,
   "metadata": {},
   "outputs": [],
   "source": [
    "# Berechnung der Halbspannweite\n",
    "b = (l_i + l_a) * AR / 2\n",
    "s = b / 2 \n",
    "\n",
    "# Berechnung der Flügelfläche aus Halbspannweite und Flügeltiefen\n",
    "S = b/2 * (l_a + l_i)       \n",
    "\n",
    "print(\"Spannweite:                  \", \"%.2f\" % b, \"m\")\n",
    "print(\"Halbspannweite:              \", \"%.2f\" % s, \"m\")\n",
    "print(\"Flügelfläche:                \", \"%.2f\" % S, \"m^2\")"
   ]
  },
  {
   "cell_type": "markdown",
   "metadata": {},
   "source": [
    "### 4.1.3 Visualisierung der Diskretisierung"
   ]
  },
  {
   "cell_type": "code",
   "execution_count": 7,
   "metadata": {},
   "outputs": [],
   "source": [
    "def tiefe_trapez(y, l_a, s) -> float:\n",
    "    \"\"\"Berechnet mit gegebenen Geometriepartametern eines Trapezflügels die lokale Flügeltiefe für eine spannweitige Position\"\"\"\n",
    "    return 1 + (l_a - 1) * (abs(y) / s)\n",
    "    \n",
    "\n",
    "def plot_diskretisierung_trapez(l_a, AR, s, N):\n",
    "    \"\"\"Plottet die Diskretisierung eines Trapezflügels auf Basis der Anzahl der Elementarflügel\"\"\"\n",
    "    points = trapezfluegel(l_a, AR)\n",
    "    \n",
    "    # Diskretisierung der Halbspannweite\n",
    "    y_values = np.linspace(-s, s, N+1)\n",
    "    chord_values = [tiefe_trapez(y, l_a, s) for y in y_values]\n",
    "    \n",
    "    # Geometrie plotten\n",
    "    plt.figure(figsize=(6, 3))\n",
    "    plt.plot(points[:,0], points[:, 1], '-', color=\"black\")\n",
    "\n",
    "    # Elementarflügel plotten\n",
    "    for i in range(N):\n",
    "        plt.plot([y_values[i], y_values[i]], [-chord_values[i]/2 + l_i/2, chord_values[i]/2 + l_i/2], 'g-')\n",
    "    \n",
    "    plt.vlines(0, 0, 1, \"black\", \"--\")\n",
    "    plt.xlabel('Spannweite [m]')\n",
    "    plt.ylabel('Flügeltiefe [m]')\n",
    "    plt.title('Diskretisierung Trapezflügel')\n",
    "    plt.axis('equal')\n",
    "    plt.gca().invert_yaxis()\n",
    "    plt.show()\n",
    "\n",
    "\n",
    "def widget_diskretisierung_trapez(l_a, AR, s):\n",
    "    \"\"\"Erzeugt ein widget, mit dem sich die Diskretisierung eines Trapezflügels interaktiv visualisieren lässt\"\"\"\n",
    "\n",
    "    slider_N = VBox([Label('Anzahl der Elementarflügel'), IntSlider(value=30, min=1, max=100, step=1)])\n",
    "\n",
    "    # Interaktiver plot\n",
    "    ui = VBox([slider_N])\n",
    "    ui = VBox([ui], layout=widgets.Layout(justify_content='center'))\n",
    "    out = widgets.interactive_output(plot_diskretisierung_trapez, {'l_a': fixed(l_a), 'AR': fixed(AR), \"s\": fixed(s), 'N': slider_N.children[1]})\n",
    "    return HBox([out, ui])"
   ]
  },
  {
   "cell_type": "code",
   "execution_count": null,
   "metadata": {},
   "outputs": [],
   "source": [
    "display(widget_diskretisierung_trapez(l_a, AR, s))"
   ]
  },
  {
   "cell_type": "markdown",
   "metadata": {},
   "source": [
    "### 4.1.4 Berechnung der Hufeisenwirbel-Koordinaten\n",
    "Zur Bestimmung der $N$ (Variable n) unbekannten Wirbelstärken $\\Gamma$ wird die kinematische Strömungsbedingung in den $N$ (Variable $m$) Aufpunkten erfüllt, und man hat ein lineares Gleichungssystem zu lösen. Dafür werden die Koordinaten des tragenden Wirbels entlang der örtlichen $l_p/4$-Linie (indizes a, b) am Rand jedes Elementarflügels sowie die der Aufpunkte im $3l_p/4$–Punkt des Mittelschnittes jedes Elementarflügels (index c) bestimmt. Der Koordinatenursprung (x, y) = (0, 0) liegt hierbei dort, wo sich die Symmetrieachse des Flügels (Rumpf) und die Vorderkante."
   ]
  },
  {
   "cell_type": "markdown",
   "metadata": {},
   "source": [
    "# 🟠"
   ]
  },
  {
   "cell_type": "code",
   "execution_count": 9,
   "metadata": {},
   "outputs": [],
   "source": [
    "# Diese Parameter können verändert werden\n",
    "N = 500                             # Anzahl der Elementarflügel"
   ]
  },
  {
   "cell_type": "code",
   "execution_count": 10,
   "metadata": {},
   "outputs": [],
   "source": [
    "# Breite eines Elementarflügels\n",
    "delta_b = b/N    \n",
    "\n",
    "def x_position(y, l_i, l_a, s, aufpunkt=False):\n",
    "    \"\"\"Berechnet die Tiefenposition der Punkte A und B und des Aufpunkts C\"\"\"\n",
    "\n",
    "    tiefe = 0.75 if aufpunkt else 0.25\n",
    "    return abs(y) / s * (l_i - l_a) / 2 + tiefe * (l_i - abs(y) / s * (l_i - l_a))\n",
    "\n",
    "\n",
    "def compute_coords(s, N, delta_b, l_i, l_a):\n",
    "    \"\"\"Berechnet die Hufeisenwirbel-Koordinaten aus Basis der Flügelgeometrie und Anzahl der Elementarflügel\"\"\"\n",
    "\n",
    "    # Spannweitige Positionen der Punkte A, B und Aufpunkt C\n",
    "    y_a = np.array([-s +  j    * delta_b for j in range(N)])\n",
    "    y_b = np.array([-s + (j+1) * delta_b for j in range(N)])\n",
    "    y_c = np.array([-s + delta_b/2 + i*delta_b for i in range(N)])\n",
    "    \n",
    "    # Tiefenposition der Punkte A und B und des Aufpunkts C\n",
    "    x_a = np.array([x_position(y_i, l_i, l_a, s) for y_i in y_a])\n",
    "    x_b = np.array([x_position(y_i, l_i, l_a, s) for y_i in y_b])\n",
    "    x_c = np.array([x_position(y_i, l_i, l_a, s, True) for y_i in y_c])\n",
    "\n",
    "    # Spannweitige Positionen der bis ins Unendliche reichenden nichttragenden Wirbel\n",
    "    y_aoo = np.array([-s +  j    * delta_b for j in range(N)])\n",
    "    y_boo = np.array([-s + (j+1) * delta_b for j in range(N)])\n",
    "\n",
    "    # Tiefenposition der bis ins Unendliche reichenden nichttragenden Wirbel\n",
    "    x_aoo = x_a + 100*s\n",
    "    x_boo = x_b + 100*s\n",
    "\n",
    "    return y_a, y_b, y_c, x_a, x_b, x_c, y_aoo, y_boo, x_aoo, x_boo\n",
    "\n",
    "\n",
    "# Berechnen aller Hufeisenwirbel-Koordinaten\n",
    "y_a, y_b, y_c, x_a, x_b, x_c, y_aoo, y_boo, x_aoo, x_boo = compute_coords(s, N, delta_b, l_i, l_a)"
   ]
  },
  {
   "cell_type": "markdown",
   "metadata": {},
   "source": [
    "### 4.1.5 Berechnung der Koeffizientenmatrix"
   ]
  },
  {
   "cell_type": "markdown",
   "metadata": {},
   "source": [
    "Die Koeffizientenmatrix `a` ist die Summe der gebundenen und freien Wirbel.\n",
    "Die Koeffizientenmatrix der induzierenden Wirbel `a_ind` ist die Summe der freien Wirbel.\n",
    "Die Wirbelstärken `Gamma` werden aus Inverser der Koeffizientenmatrix, Anstellwinkelvektor und Anströmgeschwindigkeit berechnet."
   ]
  },
  {
   "cell_type": "code",
   "execution_count": 11,
   "metadata": {},
   "outputs": [],
   "source": [
    "def compute_coeff_matrices(y_a, y_b, y_c, x_a, x_b, x_c):\n",
    "    \"\"\"Berechnet die drei Anteile der Koeffizientenmatrix\"\"\"\n",
    "    \n",
    "    # Initialisieren der Matrizen\n",
    "    a_AB = np.zeros((x_a.size, x_a.size))\n",
    "    a_Aoo = np.zeros((x_a.size, x_a.size))\n",
    "    a_Boo = np.zeros((x_a.size, x_a.size))\n",
    "\n",
    "    # Berechnen der Anteile der gebundenen Wirbel\n",
    "    for j in range(N):\n",
    "        for i in range(N):\n",
    "            a_AB[i, j] = 1 / (4*np.pi) * (1/((x_c[i] - x_a[j])*(y_c[i] - y_b[j]) - (y_c[i] - y_a[j])*(x_c[i] - x_b[j]))) * (((x_b[j] - x_a[j])*(x_c[i] - x_a[j]) + (y_b[j] - y_a[j])*(y_c[i] - y_a[j]))/ np.sqrt((x_c[i] - x_a[j])**2 + (y_c[i] - y_a[j])**2) - ((x_b[j] - x_a[j])*(x_c[i] - x_b[j]) + (y_b[j] - y_a[j])*(y_c[i] - y_b[j]))/ np.sqrt((x_c[i] - x_b[j])**2 + (y_c[i] - y_b[j])**2))\n",
    "\n",
    "    # Berechnen der Anteile der freien Wirbel der linken Seite\n",
    "    for j in range(N):\n",
    "        for i in range(N):\n",
    "            a_Aoo[i, j] = 1 / (4*np.pi) * 1/(y_a[j] - y_c[i]) * ((x_c[i] - x_a[j])/ (np.sqrt((x_c[i] - x_a[j])**2 + (y_c[i] - y_a[j])**2)) + 1)\n",
    "\n",
    "    # Berechnen der Anteile der freien Wirbel der rechten Seite\n",
    "    for j in range(N):\n",
    "        for i in range(N):\n",
    "            a_Boo[i, j] = 1 / (4*np.pi) * 1/(y_b[j] - y_c[i]) * ((x_c[i] - x_b[j])/ (np.sqrt((x_c[i] - x_b[j])**2 + (y_c[i] - y_b[j])**2)) + 1)\n",
    "    \n",
    "    return a_AB, a_Aoo, a_Boo"
   ]
  },
  {
   "cell_type": "code",
   "execution_count": 12,
   "metadata": {},
   "outputs": [],
   "source": [
    "# Berechnen der Anteile der Koeffizientenmatrix\n",
    "a_AB, a_Aoo, a_Boo = compute_coeff_matrices(y_a, y_b, y_c, x_a, x_b, x_c)\n",
    "\n",
    "a = a_AB + a_Aoo - a_Boo                # Koeffizientenmatrix\n",
    "a_ind = a_Aoo - a_Boo                   # Koeffizientenmatrix der induzierenden Wirbel\n",
    "alpha_g = np.full((a.shape[0]), alpha)    # Anstellwinkelvektor\n",
    "\n",
    "# Löst das lineare Gleichungssystem Ax = b, wobei\n",
    "# A - Koeffizientenmatrix a\n",
    "# x - Zirkulationsvektor Gamma\n",
    "# B - Koeffizientenvektor alpha_g * (- U_inf)\n",
    "Gamma = np.linalg.solve(a, alpha_g * (- U_inf)) "
   ]
  },
  {
   "cell_type": "markdown",
   "metadata": {},
   "source": [
    "### 4.1.6 Berechnung von Kräften und Beiwerten\n",
    "#### Auftrieb und Widerstand"
   ]
  },
  {
   "cell_type": "code",
   "execution_count": null,
   "metadata": {},
   "outputs": [],
   "source": [
    "# Berechnung des Auftriebs nach Kutta-Joukowsky\n",
    "A_j = rho * delta_b * U_inf * Gamma\n",
    "A = np.sum(A_j)\n",
    "\n",
    "# Berechnung des induzierten Widerstands\n",
    "w_m = a_ind @ Gamma\n",
    "W_ind = np.sum(-rho *w_m @ Gamma * delta_b)\n",
    "\n",
    "print(\"Auftrieb:                    \", \"%.2f\" % A, \"N\")\n",
    "print(\"Induzierter Widerstand:      \", \"%.2f\" % W_ind, \"N\")"
   ]
  },
  {
   "cell_type": "markdown",
   "metadata": {},
   "source": [
    "#### Auftriebsverteilung"
   ]
  },
  {
   "cell_type": "code",
   "execution_count": null,
   "metadata": {},
   "outputs": [],
   "source": [
    "# Hinzufügen von Endpunkten zum plotten\n",
    "A_j = np.insert(A_j, 0, 0)\n",
    "A_j = np.append(A_j, 0)\n",
    "y_c = np.insert(y_c, 0, -s)\n",
    "y_c = np.append(y_c, s)\n",
    "\n",
    "# Berechnen der Fläche unter der berechneten Auftriebsverteilung\n",
    "area_distr = np.trapezoid(A_j, y_c)\n",
    "\n",
    "# Erzeugen einer elliptischen Auftriebsverteilung\n",
    "y_elliptisch = np.linspace(-s, s, len(y_c))\n",
    "A_elliptisch_raw = np.sqrt(1 - (y_elliptisch / s) ** 2)\n",
    "\n",
    "# Skalieren der elliptischen Verteilung, sodass die resultierende Auftriebskraft identisch ist\n",
    "area_elliptisch_raw = np.trapezoid(A_elliptisch_raw, y_elliptisch)\n",
    "scale_factor = area_distr / area_elliptisch_raw\n",
    "A_elliptisch = A_elliptisch_raw * scale_factor\n",
    "\n",
    "# Plotten der Auftriebsverteilungen\n",
    "plt.figure(figsize=(6, 3))\n",
    "plt.plot(y_c, A_j, '-', color=\"black\", label='Berechnete Auftriebsverteilung')\n",
    "plt.plot(y_elliptisch, A_elliptisch, '--', color=\"red\", label='Elliptische Auftriebsverteilung')\n",
    "plt.xlabel('Spannweite [m]')\n",
    "plt.ylabel('Auftrieb [N]')\n",
    "plt.title('Auftriebsverteilung')\n",
    "plt.legend()\n",
    "plt.show()"
   ]
  },
  {
   "cell_type": "markdown",
   "metadata": {},
   "source": [
    "#### Aerodynamische Beiwerte und Oswald-Faktor"
   ]
  },
  {
   "cell_type": "code",
   "execution_count": null,
   "metadata": {},
   "outputs": [],
   "source": [
    "# Auftriebsbeiwert\n",
    "C_A = 2*A / rho / U_inf**2 / S\n",
    "\n",
    "# Widerstandsbeiwert (induziert)\n",
    "C_W_ind = 2*W_ind / rho / U_inf**2 / S\n",
    "\n",
    "# Induzierter Widerstand der elliptischen Zirkulationsverteilung\n",
    "C_W_ind_ell = C_A**2 / AR / np.pi\n",
    "\n",
    "# Oswald Faktor\n",
    "Oswald = C_W_ind_ell / C_W_ind\n",
    "\n",
    "print(\"Auftriebsbeiwert:                \", \"%.5f\" % C_A)\n",
    "print(\"Widerstandsbeiwert:              \", \"%.5f\" % C_W_ind)\n",
    "print(\"Widerstandsbeiwert (Ellipse):    \", \"%.5f\" % C_W_ind_ell)\n",
    "print(\"Oswald-Faktor:                   \", \"%.3f\" % Oswald)"
   ]
  },
  {
   "cell_type": "markdown",
   "metadata": {},
   "source": [
    "## Aufgabe 1 a) Konvergenzstudie\n",
    "\n",
    "Untersuchen Sie am Beispiel des Rechteckflügels mit $l_i=1$ und $\\Lambda = 10$ das Konvergenzverhalten der aerodynamischen Beiwerte ($C_W$, $C_A$) und des Oswald Faktors hinsichtlich der Abhängigkeit von der Anzahl der Elementarflügel (räumliche Diskretisierung).\n",
    "Entscheiden Sie sich für eine Diskretisierung für alle folgenden Aufgabenteile und begründen Sie diese Entscheidung."
   ]
  },
  {
   "cell_type": "code",
   "execution_count": 16,
   "metadata": {},
   "outputs": [],
   "source": [
    "# Rechteckflügel Geometrie\n",
    "l_i = 1\n",
    "l_a = 1\n",
    "AR = 10\n",
    "\n",
    "# Berechnung der Halbspannweite und Fläche\n",
    "b = (l_i + l_a) * AR / 2\n",
    "s = b / 2 \n",
    "S = b**2 / AR    "
   ]
  },
  {
   "cell_type": "code",
   "execution_count": 17,
   "metadata": {},
   "outputs": [],
   "source": [
    "# diese Berechnung wird noch häufiger verwendet, deswegen modularisiert\n",
    "def compute_Oswald(Oswald, a_AB, a_Aoo, a_Boo, alpha, U_inf, rho, delta_b, S, C_A_list = None, C_W_ind_list = None):\n",
    "    \"\"\"Berechnet den Oswald-Faktor basierend auf den Koeffizientenmatrizen, Strömungsbedingungen und Flügelfläche\"\"\"\n",
    "\n",
    "    # Berechnen von Koeffizientenmatrizen und Anstellwinkelvektor\n",
    "    a = a_AB + a_Aoo - a_Boo              \n",
    "    a_ind = a_Aoo - a_Boo                 \n",
    "    alpha_g = np.full((a.shape[0]), alpha)  \n",
    "\n",
    "    # Berechnen der Kräfte\n",
    "    Gamma = np.linalg.solve(a, alpha_g * (- U_inf))\n",
    "    A = np.sum(rho * delta_b * U_inf * Gamma)\n",
    "    w_ind = a_ind @ Gamma\n",
    "    W_ind = np.sum(-rho *w_ind @ Gamma * delta_b)\n",
    "\n",
    "    # Berechnen der Beiwerte\n",
    "    C_A = 2*A / (rho * U_inf**2 * S)\n",
    "    C_W_ind = 2*W_ind / (rho * U_inf**2 * S)\n",
    "    C_W_ind_ell = C_A**2 / AR / np.pi\n",
    "\n",
    "    # Falls alle Ergebnisse der Beiwerte benötigt werden, wird nur ausgeführt wenn Listen mitgegeben wurden\n",
    "    if type(C_A_list)==list and type(C_W_ind_list)==list:\n",
    "        C_A_list.append(C_A)\n",
    "        C_W_ind_list.append(C_W_ind)\n",
    "\n",
    "    # Berechnen des Oswald-Faktors\n",
    "    Oswald.append(C_W_ind_ell / C_W_ind)\n",
    "\n",
    "    return Oswald, C_A_list, C_W_ind_list"
   ]
  },
  {
   "cell_type": "markdown",
   "metadata": {},
   "source": [
    "#### Iterationsschleife"
   ]
  },
  {
   "cell_type": "code",
   "execution_count": 18,
   "metadata": {},
   "outputs": [],
   "source": [
    "# Initialisieren der benötigten Variablen\n",
    "N_study = [10, 15, 25, 50, 100, 200, 500, 750, 1000]\n",
    "C_A, C_W_ind, Oswald = [], [], []\n",
    "\n",
    "# Iteration über verschiedene N\n",
    "for c, N in enumerate(N_study):\n",
    "    # Berechnung der Breite eines Elementarflügels\n",
    "    delta_b = b/N\n",
    "    \n",
    "    # Berechnen aller Hufeisenwirbel-Koordinaten\n",
    "    y_a, y_b, y_c, x_a, x_b, x_c, y_aoo, y_boo, x_aoo, x_boo = compute_coords(s, N, delta_b, l_i, l_a) \n",
    "\n",
    "    # Berechnen der Anteile der Koeffizientenmatrix\n",
    "    a_AB, a_Aoo, a_Boo = compute_coeff_matrices(y_a, y_b, y_c, x_a, x_b, x_c)\n",
    "\n",
    "    # Berechnen der Zirkulation, Kräfte und schließlich des Oswald-Faktors\n",
    "    Oswald, C_A, C_W_ind = compute_Oswald(Oswald, a_AB, a_Aoo, a_Boo, alpha, U_inf, rho, delta_b, S, C_A, C_W_ind)"
   ]
  },
  {
   "cell_type": "markdown",
   "metadata": {},
   "source": [
    "#### Ergebnisse visualisieren"
   ]
  },
  {
   "cell_type": "code",
   "execution_count": null,
   "metadata": {},
   "outputs": [],
   "source": [
    "# Erstelle ein DataFrame\n",
    "data = {\n",
    "    r'$N$': N_study,\n",
    "    r'$C_A$': [round(num, 3) for num in C_A],\n",
    "    r'$C_{W,ind}$': [round(num, 3) for num in C_W_ind],\n",
    "    r'$e$': [round(num, 3) for num in Oswald]\n",
    "}\n",
    "df = pd.DataFrame(data)\n",
    "\n",
    "fig, axs = plt.subplots(2, 2, figsize=(12, 7))\n",
    "\n",
    "# Plot für C_A\n",
    "axs[1][0].plot(N_study, C_A, marker='o', linestyle='-', color='C0')\n",
    "axs[1][0].set_xlabel(r\"N\")\n",
    "axs[1][0].set_ylabel(r'$C_A$')\n",
    "axs[1][0].set_title(\"Auftriebsbeiwert\")\n",
    "\n",
    "# Plot für C_W_ind\n",
    "axs[1][1].plot(N_study, C_W_ind, marker='s', linestyle='-', color='C1')\n",
    "axs[1][1].set_xlabel(r\"N\")\n",
    "axs[1][1].set_ylabel(r'$C_{W,ind}$')\n",
    "axs[1][1].set_title(\"Widerstandsbeiwert (induziert)\")\n",
    "\n",
    "# Plot für Oswald\n",
    "axs[0][1].plot(N_study, Oswald, marker='^', linestyle='-', color='C2')\n",
    "axs[0][1].set_xlabel(r\"N\")\n",
    "axs[0][1].set_ylabel(r'$e$')\n",
    "axs[0][1].set_title(\"Oswald Faktor\")\n",
    "\n",
    "# Erstelle die Tabelle\n",
    "axs[0][0].axis('tight')\n",
    "axs[0][0].axis('off')\n",
    "table = axs[0][0].table(cellText=df.values, colLabels=df.columns, colColours=[\"lightgray\", \"C0\", \"C1\", \"C2\"], cellLoc='center', loc='center')\n",
    "\n",
    "# Increase row height and font size\n",
    "for key, cell in table.get_celld().items():\n",
    "    cell.set_height(0.1)\n",
    "    cell.set_fontsize(12)\n",
    "\n",
    "plt.tight_layout()\n",
    "plt.show()"
   ]
  },
  {
   "cell_type": "code",
   "execution_count": 20,
   "metadata": {},
   "outputs": [],
   "source": [
    "# Mit einer Anzahl von 500 Elementarflügeln wird ein genügend genaues Ergebnis erzielt, die Lösung konvergiert\n",
    "N = 500"
   ]
  },
  {
   "cell_type": "markdown",
   "metadata": {},
   "source": [
    "## Aufgabe 1 b) Einfluss der Zuspitzung\n",
    "\n",
    "Optimieren Sie vier Trapezflügel mit $\\Lambda = 3, 7, 10, 20$ und $l_i = 1$ über eine Variation der Flügeltiefe an der Flügelspitze hin zu einer möglichst widerstandsarmen Zirkulationsverteilung. Aus der letzten Aufgabe ergab sich das eine Anzahl von 500 Elementarflügeln für eine ausreichende Konvergenz genügt."
   ]
  },
  {
   "cell_type": "markdown",
   "metadata": {},
   "source": [
    "#### Iterationsschleife"
   ]
  },
  {
   "cell_type": "code",
   "execution_count": 21,
   "metadata": {},
   "outputs": [],
   "source": [
    "# Initialisieren der benötigten Variablen\n",
    "AR_study = [3, 7, 10, 20]\n",
    "l_a_study = [0.0, 0.01, 0.03, 0.05, 0.1, 0.15, 0.2, 0.23, 0.25, 0.3, 0.35, 0.5, 0.75, 1]\n",
    "result = {\"lambda\": l_a_study}\n",
    "\n",
    "# Iteration über verschiedene AR und l_a\n",
    "for AR in AR_study:\n",
    "    Oswald = []\n",
    "    for l_a in l_a_study:\n",
    "\n",
    "        # Berechnung der Halbspannweite, Fläche und Elementarflügelbreite\n",
    "        b = (l_i + l_a) * AR / 2\n",
    "        s = b / 2 \n",
    "        S = b/2 * (l_a + l_i)  \n",
    "        delta_b = b/N\n",
    "\n",
    "        # Berechnen aller Hufeisenwirbel-Koordinaten\n",
    "        y_a, y_b, y_c, x_a, x_b, x_c, y_aoo, y_boo, x_aoo, x_boo = compute_coords(s, N, delta_b, l_i, l_a) \n",
    "\n",
    "        # Berechnen der Anteile der Koeffizientenmatrix\n",
    "        a_AB, a_Aoo, a_Boo = compute_coeff_matrices(y_a, y_b, y_c, x_a, x_b, x_c)\n",
    "        \n",
    "        # Berechnen der Zirkulation, Kräfte und schließlich des Oswald-Faktors\n",
    "        Oswald, _, _ = compute_Oswald(Oswald, a_AB, a_Aoo, a_Boo, alpha, U_inf, rho, delta_b, S)\n",
    "    \n",
    "    result[str(AR)] = Oswald"
   ]
  },
  {
   "cell_type": "markdown",
   "metadata": {},
   "source": [
    "#### Ergebnisse visualisieren"
   ]
  },
  {
   "cell_type": "code",
   "execution_count": null,
   "metadata": {},
   "outputs": [],
   "source": [
    "# Ergebnisse plotten\n",
    "fig, ax = plt.subplots(1, 2, figsize=(12, 5))\n",
    "\n",
    "# Erstelle ein DataFrame\n",
    "df = {\n",
    "    r'$\\lambda$': l_a_study,\n",
    "    r\"$\\Lambda = 3$\": [round(num, 3) for num in result[\"3\"]],\n",
    "    r\"$\\Lambda = 7$\": [round(num, 3) for num in result[\"7\"]],\n",
    "    r\"$\\Lambda = 10$\": [round(num, 3) for num in result[\"10\"]],\n",
    "    r\"$\\Lambda = 20$\": [round(num, 3) for num in result[\"20\"]]\n",
    "}\n",
    "df = pd.DataFrame(df)\n",
    "colColours = [\"lightgray\", \"C0\", \"C1\", \"C3\", \"C4\"]\n",
    "\n",
    "for i, (key, val) in enumerate(result.items()):\n",
    "    if key == \"lambda\":\n",
    "        pass\n",
    "    else:\n",
    "        ax[1].plot(l_a_study, val, \"o-\", label=r\"$\\Lambda$ = \" + key, color=colColours[i])\n",
    "\n",
    "ax[1].set_xlabel(r'$\\lambda$')\n",
    "ax[1].set_ylabel(\"Oswald Faktor\")\n",
    "ax[1].set_xlim([0, 1])\n",
    "\n",
    "# Erstellen der Tabelle\n",
    "columns = [r\"$\\lambda$\", r\"$\\Lambda = 3$\", r\"$\\Lambda = 7$\", r\"$\\Lambda = 10$\", r\"$\\Lambda = 20$\"]\n",
    "ax[0].axis('tight')\n",
    "ax[0].axis('off')\n",
    "table = ax[0].table(cellText=df.values, colLabels=df.columns, colWidths= [0.1, 0.2, 0.2, 0.2, 0.2], cellLoc='center', loc='center', fontsize=12)\n",
    "\n",
    "# Zell-Eigenschaften anpassen\n",
    "for key, cell in table.get_celld().items():\n",
    "    cell.set_height(0.07)\n",
    "    cell.set_fontsize(12)\n",
    "    cell.set_facecolor('white')\n",
    "\n",
    "# Optimum hervorheben und Header Zeile wie plots färben\n",
    "for i, color in enumerate(colColours):\n",
    "    table[(0, i)].set_facecolor(color)\n",
    "table[(10, 4)].set_facecolor('C2')\n",
    "\n",
    "plt.tight_layout()\n",
    "plt.show()"
   ]
  },
  {
   "cell_type": "markdown",
   "metadata": {},
   "source": [
    "Unter allen Konfigurationen liefert der Trapezflügel mit $\\Lambda = 20$ und $\\lambda = l_a / l_i = 0.3$ den größten Oswald-Faktor $e=0.803$. Ist dieses Ergebnis überraschend oder genau das, was man erwartet?\n",
    "\n",
    "Die gefundene Konfiguration aus Aufgabe 1 b) dient als Ausgangspunkt für Aufgabe 1 c) im Doppeltrapez Notebook `exercise04_Doppeltrapez.ipynb`."
   ]
  },
  {
   "cell_type": "markdown",
   "metadata": {},
   "source": [
    "## Aufgabe 2 b) Einfluss der Flügelstreckung\n",
    "Stellt die Unterschiede zwischen Traglinienverfahren und Prandtl'scher Tragflügeltheorie heraus. Die induzierte Geschwindigkeit des gebundenen Wirbels ergibt sich in der Prandtl'schen Tragflügeltheorie zu: $w_1 = - \\frac{\\Gamma(y)}{\\pi l(y)}$. Untersuchen Sie an einem trapezflügel mit einer Zuspitzung von $\\lambda = 0.5$ den Einfluss der Streckung auf den Oswald-Faktor mit beiden Theorien. Wie könnte man herausfinden welches Verhalten richtig ist?"
   ]
  },
  {
   "cell_type": "code",
   "execution_count": 23,
   "metadata": {},
   "outputs": [],
   "source": [
    "# aus Aufgabenstellung\n",
    "l_i = 1\n",
    "l_a = 0.5"
   ]
  },
  {
   "cell_type": "code",
   "execution_count": 24,
   "metadata": {},
   "outputs": [],
   "source": [
    "def compute_coeff_matrices_Prandtl(y_a, y_b, y_c, x_a):\n",
    "    \"\"\"Berechnet die drei Anteile der Koeffizientenmatrix für die Prandtl'sche Tragflügeltheorie\"\"\"\n",
    "    \n",
    "    # Initialisieren der Matrizen\n",
    "    a_AB = np.zeros((x_a.size, x_a.size))\n",
    "    a_Aoo = np.zeros((x_a.size, x_a.size))\n",
    "    a_Boo = np.zeros((x_a.size, x_a.size))\n",
    "\n",
    "    # Berechnen der Anteile der gebundenen Wirbel\n",
    "    for i in range(N):\n",
    "        a_AB[i, i] = -1 / np.pi / (l_i - abs(y_c[i]) / s * (l_i - l_a))\n",
    "\n",
    "    # Berechnen der Anteile der freien Wirbel der linken Seite\n",
    "    for j in range(N):\n",
    "        for i in range(N):\n",
    "            a_Aoo[i, j] = 1 / (4*np.pi) * 1/(y_a[j] - y_c[i])\n",
    "\n",
    "    # Berechnen der Anteile der freien Wirbel der rechten Seite\n",
    "    for j in range(N):\n",
    "        for i in range(N):\n",
    "            a_Boo[i, j] = 1 / (4*np.pi) * 1/(y_b[j] - y_c[i])\n",
    "    \n",
    "    return a_AB, a_Aoo, a_Boo"
   ]
  },
  {
   "cell_type": "code",
   "execution_count": 25,
   "metadata": {},
   "outputs": [],
   "source": [
    "# Initialisieren der benötigten Variablen\n",
    "AR_study = [1, 5, 10, 15, 20, 25, 30, 40, 50, 60, 70, 80, 90, 100]\n",
    "Oswald_TLV = []\n",
    "Oswald_Prandtl = []\n",
    "\n",
    "# Iteration über verschiedene Streckungen\n",
    "for i, AR in enumerate(AR_study):\n",
    "    \n",
    "    # Berechnung der Halbspannweite, Flügelfläche und Elementarflügelbreite\n",
    "    b = (l_i + l_a) * AR / 2\n",
    "    s = b / 2 \n",
    "    S = b/2 * (l_a + l_i)    \n",
    "    delta_b = b/N\n",
    "    \n",
    "    # Berechnen aller Hufeisenwirbel-Koordinaten\n",
    "    y_a, y_b, y_c, x_a, x_b, x_c, y_aoo, y_boo, x_aoo, x_boo = compute_coords(s, N, delta_b, l_i, l_a) \n",
    "\n",
    "    #### TLV ####\n",
    "    a_AB, a_Aoo, a_Boo = compute_coeff_matrices(y_a, y_b, y_c, x_a, x_b, x_c)\n",
    "    Oswald_TLV, _, _ = compute_Oswald(Oswald_TLV, a_AB, a_Aoo, a_Boo, alpha, U_inf, rho, delta_b, S)\n",
    "\n",
    "    ## Prandtl ##\n",
    "    a_AB, a_Aoo, a_Boo = compute_coeff_matrices_Prandtl(y_a, y_b, y_c, x_a)\n",
    "    Oswald_Prandtl, _, _ = compute_Oswald(Oswald_Prandtl, a_AB, a_Aoo, a_Boo, alpha, U_inf, rho, delta_b, S)"
   ]
  },
  {
   "cell_type": "code",
   "execution_count": null,
   "metadata": {},
   "outputs": [],
   "source": [
    "# Erstelle ein DataFrame\n",
    "data = {\n",
    "    r'$\\Lambda$': [int(num) for num in AR_study],\n",
    "    r'$e_{TLV}$': [round(num, 3) for num in Oswald_TLV],\n",
    "    r'$e_{Prandtl}$': [round(num, 3) for num in Oswald_Prandtl]\n",
    "}\n",
    "df = pd.DataFrame(data)\n",
    "\n",
    "# Erstelle die Subplots\n",
    "fig, axs = plt.subplots(1, 2, figsize=(12, 5), gridspec_kw={'width_ratios': [1, 2]})\n",
    "\n",
    "# Plot für Oswald\n",
    "axs[1].plot(AR_study, Oswald_TLV, marker='^', linestyle='-', color='C0', label=\"TLV\")\n",
    "axs[1].plot(AR_study, Oswald_Prandtl, marker='o', linestyle='-', color='C1', label=\"Prandtl\")\n",
    "axs[1].set_xlabel(r\"$\\Lambda$\")\n",
    "axs[1].set_ylabel(r'$e$')\n",
    "axs[1].set_title(\"Oswald-Faktor\")\n",
    "axs[1].set_ylim([0.4, 1.1])\n",
    "axs[1].set_xlim([1, 100])\n",
    "axs[1].grid(\"True\")\n",
    "\n",
    "# Erstelle die Tabelle\n",
    "axs[0].axis('tight')\n",
    "axs[0].axis('off')\n",
    "table = axs[0].table(cellText=df.values, colLabels=df.columns, colColours=[\"lightgray\", \"C0\", \"C1\"], \n",
    "                    colWidths= [0.3, 0.4, 0.4], cellLoc='center', loc='center')\n",
    "\n",
    "# Zell-Eigenschaften anpassen\n",
    "for key, cell in table.get_celld().items():\n",
    "    cell.set_height(0.07)\n",
    "    cell.set_fontsize(12)\n",
    "\n",
    "plt.legend()\n",
    "plt.tight_layout()\n",
    "plt.show()"
   ]
  }
 ],
 "metadata": {
  "kernelspec": {
   "display_name": ".venv",
   "language": "python",
   "name": "python3"
  },
  "language_info": {
   "codemirror_mode": {
    "name": "ipython",
    "version": 3
   },
   "file_extension": ".py",
   "mimetype": "text/x-python",
   "name": "python",
   "nbconvert_exporter": "python",
   "pygments_lexer": "ipython3",
   "version": "3.12.4"
  }
 },
 "nbformat": 4,
 "nbformat_minor": 2
}

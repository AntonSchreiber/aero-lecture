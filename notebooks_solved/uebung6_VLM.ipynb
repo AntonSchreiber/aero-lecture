{
 "cells": [
  {
   "cell_type": "markdown",
   "metadata": {},
   "source": [
    "# **Übung 6: Wirbelleiterverfahren**"
   ]
  },
  {
   "cell_type": "code",
   "execution_count": 796,
   "metadata": {},
   "outputs": [],
   "source": [
    "# Importieren von Python-Biblioteken\n",
    "import numpy as np\n",
    "import matplotlib.pyplot as plt\n",
    "import pandas as pd\n",
    "from ipywidgets import IntSlider, fixed, VBox, HBox, Label\n",
    "import ipywidgets as widgets\n",
    "\n",
    "# Erhöhen der Plot-Auflösung\n",
    "plt.rcParams[\"figure.dpi\"] = 140"
   ]
  },
  {
   "cell_type": "markdown",
   "metadata": {},
   "source": [
    "### 6.1.1 Visualisierung Pfeilflügel"
   ]
  },
  {
   "cell_type": "code",
   "execution_count": 797,
   "metadata": {},
   "outputs": [],
   "source": [
    "def pfeilfluegel(s, phi, c=1) -> np.array:\n",
    "    \"\"\"Generiert die Planform eines gepfeilten Rechteckflügels auf Basis der Spannweite und Pfeilung\"\"\"\n",
    "    shift = s * np.tan(np.radians(phi))\n",
    "\n",
    "    # Definition aller Eckpunkte\n",
    "    points = np.array([\n",
    "        [0, 0], [s, shift], [s, c + shift], [0, c], \n",
    "        [-s, c + shift], [-s, shift], [0, 0]])\n",
    "    \n",
    "    return points\n",
    "\n",
    "\n",
    "def plot_pfeilfluegel(s, phi):\n",
    "    \"\"\"Plottet die Planform eines gepfeilten Rechteckflügels auf Basis der Spannweite und Pfeilung\"\"\"\n",
    "    \n",
    "    # Flügeleckpunkte generieren\n",
    "    points = pfeilfluegel(s, phi)\n",
    "\n",
    "    # Geometrie plotten\n",
    "    plt.figure(figsize=(7, 3))\n",
    "    plt.plot(points[:,0], points[:, 1], '-', color=\"black\")\n",
    "    plt.vlines(0, 0, 1, \"black\", \"--\")\n",
    "    plt.xlabel('Spannweite [m]')\n",
    "    plt.ylabel('Flügeltiefe [m]')\n",
    "    plt.title('Pfeilflügel')\n",
    "    plt.gca().invert_yaxis()\n",
    "    plt.axis('equal')\n",
    "    plt.show()\n",
    "\n",
    "\n",
    "def widget_pfeilfluegel():\n",
    "    \"\"\"Erzeugt ein widget, mit dem sich die Planform eines gepfeilten Rechteckflügels interaktiv visualisieren lässt\"\"\"\n",
    "\n",
    "    slider_s = VBox([Label('Halbspannweite [m]'), IntSlider(value=3, min=1, max=20)])\n",
    "    slider_phi = VBox([Label('Pfeilwinkel [deg]'), IntSlider(value=15, min=0, max=60)])\n",
    "\n",
    "    # Interaktiver plot\n",
    "    ui = VBox([slider_s, slider_phi])\n",
    "    ui = VBox([ui], layout=widgets.Layout(justify_content='center'))\n",
    "    out = widgets.interactive_output(plot_pfeilfluegel, {'s': slider_s.children[1], 'phi': slider_phi.children[1]})\n",
    "\n",
    "    return HBox([out, ui])"
   ]
  },
  {
   "cell_type": "code",
   "execution_count": 798,
   "metadata": {},
   "outputs": [
    {
     "data": {
      "application/vnd.jupyter.widget-view+json": {
       "model_id": "e4727c3e22b945f8951003c5ccd3f81b",
       "version_major": 2,
       "version_minor": 0
      },
      "text/plain": [
       "HBox(children=(Output(), VBox(children=(VBox(children=(VBox(children=(Label(value='Halbspannweite [m]'), IntSl…"
      ]
     },
     "metadata": {},
     "output_type": "display_data"
    }
   ],
   "source": [
    "display(widget_pfeilfluegel())"
   ]
  },
  {
   "cell_type": "markdown",
   "metadata": {},
   "source": [
    "### 6.1.2 Geometrische Parameter und Randbedinungen"
   ]
  },
  {
   "cell_type": "code",
   "execution_count": 799,
   "metadata": {},
   "outputs": [],
   "source": [
    "# Konstant\n",
    "phi = np.radians(15)        # Pfeilungswinkel (in rad)\n",
    "b = 10                      # Spannweite\n",
    "s = b/2                     # Halbspannweite\n",
    "c = 1                       # Flügeltiefe\n",
    "aspect_ratio = 20           # Streckung\n",
    "U_inf = 10                  # Anströmgeschwindigkeit (in m/s)\n",
    "alpha = np.radians(5)       # Anstellwinkel (in rad)\n",
    "rho = 1                     # Luftdichte (in kg/m^3)\n",
    "k_Gamma = 0.25              # Skalierung der Wirbelposition\n",
    "k_A = 0.75                  # Skalierung des Aufpunkts"
   ]
  },
  {
   "cell_type": "markdown",
   "metadata": {},
   "source": [
    "### 6.1.3 Vernetzen des Tragflügels"
   ]
  },
  {
   "cell_type": "code",
   "execution_count": 800,
   "metadata": {},
   "outputs": [],
   "source": [
    "def plot_diskretisierung_pfeil(N, M, s=3, phi=15, c=1):\n",
    "    \"\"\"Plottet die Diskretisierung eines gepfeilten Rechteckflügels auf Basis der Anzahl der Elementarflügel\"\"\"\n",
    "\n",
    "    points = pfeilfluegel(s, phi)\n",
    "    \n",
    "    # Diskretisierung der Halbspannweite\n",
    "    y_values = np.linspace(-s, s, N+1)\n",
    "    x_values = np.linspace(0, c, M+1)\n",
    "    \n",
    "    # Geometrie plotten\n",
    "    plt.figure(figsize=(6, 3))\n",
    "    plt.plot(points[:,0], points[:, 1], '-', color=\"black\")\n",
    "\n",
    "    # Panele plotten\n",
    "    for i in range(N+1):\n",
    "        shift = abs(y_values[i]) * np.tan(np.radians(phi))\n",
    "        plt.plot([y_values[i], y_values[i]], [shift, shift + c], 'g-', linewidth=0.5)\n",
    "\n",
    "    for j in range(M+1):\n",
    "        plt.plot([-s, 0, s], [x_values[j] + shift, x_values[j], x_values[j] + shift], 'g-', linewidth=0.5)\n",
    "    \n",
    "    plt.vlines(0, 0, 1, \"black\", \"--\")\n",
    "    plt.xlabel('Spannweite [m]')\n",
    "    plt.ylabel('Flügeltiefe [m]')\n",
    "    plt.title('Diskretisierung Pfeilflügel')\n",
    "    plt.axis('equal')\n",
    "    plt.gca().invert_yaxis()\n",
    "    plt.show()\n",
    "\n",
    "\n",
    "def widget_diskretisierung_pfeil():\n",
    "    \"\"\"Erzeugt ein widget, mit dem sich die Diskretisierung eines gepfeilten Rechteckflügels interaktiv visualisieren lässt\"\"\"\n",
    "\n",
    "    slider_N = VBox([Label('Anzahl horizontaler Panele'), IntSlider(value=20, min=1, max=100)])\n",
    "    slider_M = VBox([Label('Anzahl vertikaler Panele'), IntSlider(value=5, min=1, max=60)])\n",
    "\n",
    "    # Interaktiver plot\n",
    "    ui = VBox([slider_N, slider_M])\n",
    "    ui = VBox([ui], layout=widgets.Layout(justify_content='center'))\n",
    "    out = widgets.interactive_output(plot_diskretisierung_pfeil, {'N': slider_N.children[1], 'M': slider_M.children[1]})\n",
    "    return HBox([out, ui])"
   ]
  },
  {
   "cell_type": "code",
   "execution_count": 801,
   "metadata": {},
   "outputs": [
    {
     "data": {
      "application/vnd.jupyter.widget-view+json": {
       "model_id": "47e232753c1547d98ff0af0b742bfb4a",
       "version_major": 2,
       "version_minor": 0
      },
      "text/plain": [
       "HBox(children=(Output(), VBox(children=(VBox(children=(VBox(children=(Label(value='Anzahl horizontaler Panele'…"
      ]
     },
     "metadata": {},
     "output_type": "display_data"
    }
   ],
   "source": [
    "display(widget_diskretisierung_pfeil())"
   ]
  },
  {
   "cell_type": "markdown",
   "metadata": {},
   "source": [
    "# 🟠"
   ]
  },
  {
   "cell_type": "code",
   "execution_count": 802,
   "metadata": {},
   "outputs": [],
   "source": [
    "# Diese Parameter können verändert werden\n",
    "N = 10                      # Anzahl horizontaler Panele\n",
    "M = 4                       # Anzahl vertikaler Panele"
   ]
  },
  {
   "cell_type": "markdown",
   "metadata": {},
   "source": [
    "### 6.1.4 Berechnung der Panelpunkte A, B und C"
   ]
  },
  {
   "cell_type": "code",
   "execution_count": 803,
   "metadata": {},
   "outputs": [],
   "source": [
    "def compute_coords(s, phi, N, M):\n",
    "    \"\"\"\n",
    "    Berechnet die Koordinaten der induzierenden Punkte A und B sowie der Aufpunkte C der Panele auf einem gepfeilten Rechteckflügel.\n",
    "    Die Punkte A und B werden am linken und rechten Rand auf der 1/4 Linie jedes Panels berechnet.\n",
    "    Die Aufunkte werden mittig auf der 3/4 Linie jedes Panels berechnet.\n",
    "    \n",
    "    Parameters:\n",
    "    s   : Halbspannweite [m]\n",
    "    phi : Pfeilwinkel [Grad]\n",
    "    N   : Anzahl der Panele in Spannweitenrichtung\n",
    "    M   : Anzahl der Panele in Tiefenrichtung\n",
    "    \n",
    "    Returns:\n",
    "    X_A : 2D-Array der X-Koordinaten der induzierenden Punkte A\n",
    "    Y_A : 2D-Array der Y-Koordinaten der induzierenden Punkte A\n",
    "    X_B : 2D-Array der X-Koordinaten der induzierenden Punkte B\n",
    "    X_C : 2D-Array der Y-Koordinaten der induzierenden Punkte B\n",
    "    X_C : 2D-Array der X-Koordinaten der Aufpunkte\n",
    "    Y_C : 2D-Array der Y-Koordinaten der Aufpunkte\n",
    "    \"\"\"\n",
    "    \n",
    "    # Diskretisierung der Halbspannweite und Flügeltiefe\n",
    "    y_values = np.linspace(-s, s, N+1)\n",
    "    x_values = np.linspace(0, 1, M+1)\n",
    "    \n",
    "    # Berechnung der mittigen Punkte in Spannweiten- und Tiefenrichtung\n",
    "    y_panel_centers = (y_values[:-1] + y_values[1:]) / 2\n",
    "\n",
    "    # Arrays für die Koordinaten\n",
    "    X_A = np.zeros((N, M))\n",
    "    Y_A = np.zeros((N, M))\n",
    "    X_B = np.zeros((N, M))\n",
    "    Y_B = np.zeros((N, M))\n",
    "    X_C = np.zeros((N, M))\n",
    "    Y_C = np.zeros((N, M))\n",
    "    \n",
    "    for i in range(N):\n",
    "        for j in range(M):\n",
    "            # A\n",
    "            # Shift wegen des Pfeilwinkels (Verschiebung der x-Koordinate entlang der y-Achse)\n",
    "            shift = abs(y_values[i]) * np.tan(phi)\n",
    "            X_A[i, j] = shift + x_values[j] + k_Gamma * c / M     # Punkt auf der 1/4 Linie\n",
    "            Y_A[i, j] = y_values[i]                                 # am linken Rand des Panels\n",
    "\n",
    "            # B\n",
    "            shift = abs(abs(y_values[i+1])) * np.tan(phi)\n",
    "            X_B[i, j] = shift + x_values[j] + k_Gamma * c / M     # Punkt auf der 1/4 Linie\n",
    "            Y_B[i, j] = y_values[i+1]                               # am rechten Rand des Panels\n",
    "\n",
    "            # C\n",
    "            shift = abs(y_panel_centers[i]) * np.tan(phi)\n",
    "            X_C[i, j] = shift + x_values[j] + k_A * c / M        # Aufpunkt auf der 3/4 Linie\n",
    "            Y_C[i, j] = y_panel_centers[i]                          # mittig auf dem Panel\n",
    "\n",
    "    return X_A, Y_A, X_B, Y_B, X_C, Y_C"
   ]
  },
  {
   "cell_type": "code",
   "execution_count": 804,
   "metadata": {},
   "outputs": [
    {
     "data": {
      "image/png": "[encoded data removed]",
      "text/plain": [
       "<Figure size 840x420 with 1 Axes>"
      ]
     },
     "metadata": {},
     "output_type": "display_data"
    }
   ],
   "source": [
    "X_A, Y_A, X_B, Y_B, X_C, Y_C = compute_coords(s, phi, N, M)\n",
    "\n",
    "points = pfeilfluegel(s, np.rad2deg(phi))\n",
    "    \n",
    "# Geometrie plotten\n",
    "plt.figure(figsize=(6, 3))\n",
    "plt.plot(points[:,0], points[:, 1], '-', color=\"black\")\n",
    "plt.scatter(Y_A, X_A)\n",
    "plt.scatter(Y_B, X_B)\n",
    "plt.scatter(Y_C, X_C)\n",
    "plt.vlines(0, 0, 1, \"black\", \"--\")\n",
    "plt.xlabel('Spannweite [m]')\n",
    "plt.ylabel('Flügeltiefe [m]')\n",
    "plt.title('Diskretisierung Pfeilflügel')\n",
    "plt.axis('equal')\n",
    "plt.gca().invert_yaxis()\n",
    "plt.show()"
   ]
  }
 ],
 "metadata": {
  "kernelspec": {
   "display_name": ".venv",
   "language": "python",
   "name": "python3"
  },
  "language_info": {
   "codemirror_mode": {
    "name": "ipython",
    "version": 3
   },
   "file_extension": ".py",
   "mimetype": "text/x-python",
   "name": "python",
   "nbconvert_exporter": "python",
   "pygments_lexer": "ipython3",
   "version": "3.12.4"
  }
 },
 "nbformat": 4,
 "nbformat_minor": 2
}

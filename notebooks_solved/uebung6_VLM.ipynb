{
 "cells": [
  {
   "cell_type": "markdown",
   "metadata": {},
   "source": [
    "# **Übung 6: Wirbelleiterverfahren**"
   ]
  },
  {
   "cell_type": "code",
   "execution_count": 189,
   "metadata": {},
   "outputs": [],
   "source": [
    "# Importieren von Python-Biblioteken\n",
    "import numpy as np\n",
    "import matplotlib.pyplot as plt\n",
    "import pandas as pd\n",
    "from ipywidgets import IntSlider, fixed, VBox, HBox, Label\n",
    "import ipywidgets as widgets\n",
    "\n",
    "# Erhöhen der Plot-Auflösung\n",
    "plt.rcParams[\"figure.dpi\"] = 140"
   ]
  },
  {
   "cell_type": "markdown",
   "metadata": {},
   "source": [
    "### 6.1.1 Visualisierung Pfeilflügel"
   ]
  },
  {
   "cell_type": "code",
   "execution_count": 190,
   "metadata": {},
   "outputs": [],
   "source": [
    "def pfeilfluegel(s, phi, c=1) -> np.array:\n",
    "    \"\"\"Generiert die Planform eines gepfeilten Rechteckflügels auf Basis der Spannweite und Pfeilung\"\"\"\n",
    "    shift = s * np.tan(np.radians(phi))\n",
    "\n",
    "    # Definition aller Eckpunkte\n",
    "    points = np.array([\n",
    "        [0, 0], [s, shift], [s, c + shift], [0, c], \n",
    "        [-s, c + shift], [-s, shift], [0, 0]])\n",
    "    \n",
    "    return points\n",
    "\n",
    "\n",
    "def plot_pfeilfluegel(s, phi):\n",
    "    \"\"\"Plottet die Planform eines gepfeilten Rechteckflügels auf Basis der Spannweite und Pfeilung\"\"\"\n",
    "    \n",
    "    # Flügeleckpunkte generieren\n",
    "    points = pfeilfluegel(s, phi)\n",
    "\n",
    "    # Geometrie plotten\n",
    "    plt.figure(figsize=(7, 3))\n",
    "    plt.plot(points[:,0], points[:, 1], '-', color=\"black\")\n",
    "    plt.vlines(0, 0, 1, \"black\", \"--\")\n",
    "    plt.xlabel('Spannweite [m]')\n",
    "    plt.ylabel('Flügeltiefe [m]')\n",
    "    plt.title('Pfeilflügel')\n",
    "    plt.gca().invert_yaxis()\n",
    "    plt.axis('equal')\n",
    "    plt.show()\n",
    "\n",
    "\n",
    "def widget_pfeilfluegel():\n",
    "    \"\"\"Erzeugt ein widget, mit dem sich die Planform eines gepfeilten Rechteckflügels interaktiv visualisieren lässt\"\"\"\n",
    "\n",
    "    slider_s = VBox([Label('Halbspannweite [m]'), IntSlider(value=3, min=1, max=20)])\n",
    "    slider_phi = VBox([Label('Pfeilwinkel [deg]'), IntSlider(value=15, min=0, max=60)])\n",
    "\n",
    "    # Interaktiver plot\n",
    "    ui = VBox([slider_s, slider_phi])\n",
    "    ui = VBox([ui], layout=widgets.Layout(justify_content='center'))\n",
    "    out = widgets.interactive_output(plot_pfeilfluegel, {'s': slider_s.children[1], 'phi': slider_phi.children[1]})\n",
    "\n",
    "    return HBox([out, ui])"
   ]
  },
  {
   "cell_type": "code",
   "execution_count": null,
   "metadata": {},
   "outputs": [],
   "source": [
    "display(widget_pfeilfluegel())"
   ]
  },
  {
   "cell_type": "markdown",
   "metadata": {},
   "source": [
    "### 6.1.2 Geometrische Parameter und Randbedinungen"
   ]
  },
  {
   "cell_type": "code",
   "execution_count": 192,
   "metadata": {},
   "outputs": [],
   "source": [
    "# Konstant\n",
    "phi = np.radians(15)        # Pfeilungswinkel (in rad)\n",
    "b = 15                      # Spannweite\n",
    "s = b/2                     # Halbspannweite\n",
    "c = 1                       # Flügeltiefe\n",
    "AR = 12                     # Streckung\n",
    "U_inf = 30                  # Anströmgeschwindigkeit (in m/s)\n",
    "alpha = np.radians(5)       # Anstellwinkel (in rad)\n",
    "rho = 1                     # Luftdichte (in kg/m^3)\n",
    "k_Gamma = 0.25              # Skalierung der Wirbelposition\n",
    "k_A = 0.75                  # Skalierung des Aufpunkts"
   ]
  },
  {
   "cell_type": "markdown",
   "metadata": {},
   "source": [
    "### 6.1.3 Vernetzen des Tragflügels"
   ]
  },
  {
   "cell_type": "code",
   "execution_count": 193,
   "metadata": {},
   "outputs": [],
   "source": [
    "def plot_diskretisierung_pfeil(N, M, s=3, phi=15, c=1):\n",
    "    \"\"\"Plottet die Diskretisierung eines gepfeilten Rechteckflügels auf Basis der Anzahl der Elementarflügel\"\"\"\n",
    "\n",
    "    points = pfeilfluegel(s, phi)\n",
    "    \n",
    "    # Diskretisierung der Halbspannweite\n",
    "    y_values = np.linspace(-s, s, N+1)\n",
    "    x_values = np.linspace(0, c, M+1)\n",
    "    \n",
    "    # Geometrie plotten\n",
    "    plt.figure(figsize=(6, 3))\n",
    "    plt.plot(points[:,0], points[:, 1], '-', color=\"black\")\n",
    "\n",
    "    # Panele plotten\n",
    "    for i in range(N+1):\n",
    "        shift = abs(y_values[i]) * np.tan(np.radians(phi))\n",
    "        plt.plot([y_values[i], y_values[i]], [shift, shift + c], 'g-', linewidth=0.5)\n",
    "\n",
    "    for j in range(M+1):\n",
    "        plt.plot([-s, 0, s], [x_values[j] + shift, x_values[j], x_values[j] + shift], 'g-', linewidth=0.5)\n",
    "    \n",
    "    plt.vlines(0, 0, 1, \"black\", \"--\")\n",
    "    plt.xlabel('Spannweite [m]')\n",
    "    plt.ylabel('Flügeltiefe [m]')\n",
    "    plt.title('Diskretisierung Pfeilflügel')\n",
    "    plt.axis('equal')\n",
    "    plt.gca().invert_yaxis()\n",
    "    plt.show()\n",
    "\n",
    "\n",
    "def widget_diskretisierung_pfeil():\n",
    "    \"\"\"Erzeugt ein widget, mit dem sich die Diskretisierung eines gepfeilten Rechteckflügels interaktiv visualisieren lässt\"\"\"\n",
    "\n",
    "    slider_N = VBox([Label('Anzahl horizontaler Panele'), IntSlider(value=20, min=1, max=100)])\n",
    "    slider_M = VBox([Label('Anzahl vertikaler Panele'), IntSlider(value=5, min=1, max=60)])\n",
    "\n",
    "    # Interaktiver plot\n",
    "    ui = VBox([slider_N, slider_M])\n",
    "    ui = VBox([ui], layout=widgets.Layout(justify_content='center'))\n",
    "    out = widgets.interactive_output(plot_diskretisierung_pfeil, {'N': slider_N.children[1], 'M': slider_M.children[1]})\n",
    "    return HBox([out, ui])"
   ]
  },
  {
   "cell_type": "code",
   "execution_count": null,
   "metadata": {},
   "outputs": [],
   "source": [
    "display(widget_diskretisierung_pfeil())"
   ]
  },
  {
   "cell_type": "markdown",
   "metadata": {},
   "source": [
    "# 🟠"
   ]
  },
  {
   "cell_type": "code",
   "execution_count": 195,
   "metadata": {},
   "outputs": [],
   "source": [
    "# Diese Parameter können verändert werden\n",
    "N = 60                      # Anzahl horizontaler Panele\n",
    "M = 20                       # Anzahl vertikaler Panele\n",
    "\n",
    "# 2min für 80x40 \n",
    "# Berechne Paneldimensionen\n",
    "Delta_y = b / N\n",
    "Delta_x = c / M"
   ]
  },
  {
   "cell_type": "markdown",
   "metadata": {},
   "source": [
    "### 6.1.4 Berechnung der Panelpunkte A, B und C"
   ]
  },
  {
   "cell_type": "code",
   "execution_count": 196,
   "metadata": {},
   "outputs": [],
   "source": [
    "def compute_coords(s, phi, N, M):\n",
    "    \"\"\"\n",
    "    Berechnet die Koordinaten der induzierenden Punkte A und B sowie der Aufpunkte C der Panele auf einem gepfeilten Rechteckflügel.\n",
    "    Die Punkte A und B werden am linken und rechten Rand auf der 1/4 Linie jedes Panels berechnet.\n",
    "    Die Aufunkte werden mittig auf der 3/4 Linie jedes Panels berechnet.\n",
    "    \n",
    "    Parameters:\n",
    "    s   : Halbspannweite [m]\n",
    "    phi : Pfeilwinkel [Grad]\n",
    "    N   : Anzahl der Panele in Spannweitenrichtung\n",
    "    M   : Anzahl der Panele in Tiefenrichtung\n",
    "    \n",
    "    Returns:\n",
    "    X_A : 2D-Array der X-Koordinaten der induzierenden Punkte A\n",
    "    Y_A : 2D-Array der Y-Koordinaten der induzierenden Punkte A\n",
    "    X_B : 2D-Array der X-Koordinaten der induzierenden Punkte B\n",
    "    X_C : 2D-Array der Y-Koordinaten der induzierenden Punkte B\n",
    "    X_C : 2D-Array der X-Koordinaten der Aufpunkte\n",
    "    Y_C : 2D-Array der Y-Koordinaten der Aufpunkte\n",
    "    \"\"\"\n",
    "    \n",
    "    # Diskretisierung der Halbspannweite und Flügeltiefe\n",
    "    y_values = np.linspace(-s, s, N+1)\n",
    "    x_values = np.linspace(0, 1, M+1)\n",
    "    \n",
    "    # Berechnung der mittigen Punkte in Spannweiten- und Tiefenrichtung\n",
    "    y_panel_centers = (y_values[:-1] + y_values[1:]) / 2\n",
    "\n",
    "    # Arrays für die Koordinaten\n",
    "    X_A = np.zeros((N, M))\n",
    "    Y_A = np.zeros((N, M))\n",
    "    X_B = np.zeros((N, M))\n",
    "    Y_B = np.zeros((N, M))\n",
    "    X_C = np.zeros((N, M))\n",
    "    Y_C = np.zeros((N, M))\n",
    "    \n",
    "    for i in range(N):\n",
    "        for j in range(M):\n",
    "            # A\n",
    "            # Shift wegen des Pfeilwinkels (Verschiebung der x-Koordinate entlang der y-Achse)\n",
    "            shift = abs(y_values[i]) * np.tan(phi)\n",
    "            X_A[i, j] = shift + x_values[j] + k_Gamma * c / M     # Punkt auf der 1/4 Linie\n",
    "            Y_A[i, j] = y_values[i]                                 # am linken Rand des Panels\n",
    "\n",
    "            # B\n",
    "            shift = abs(abs(y_values[i+1])) * np.tan(phi)\n",
    "            X_B[i, j] = shift + x_values[j] + k_Gamma * c / M     # Punkt auf der 1/4 Linie\n",
    "            Y_B[i, j] = y_values[i+1]                               # am rechten Rand des Panels\n",
    "\n",
    "            # C\n",
    "            shift = abs(y_panel_centers[i]) * np.tan(phi)\n",
    "            X_C[i, j] = shift + x_values[j] + k_A * c / M        # Aufpunkt auf der 3/4 Linie\n",
    "            Y_C[i, j] = y_panel_centers[i]                          # mittig auf dem Panel\n",
    "\n",
    "    return X_A, Y_A, X_B, Y_B, X_C, Y_C"
   ]
  },
  {
   "cell_type": "code",
   "execution_count": null,
   "metadata": {},
   "outputs": [],
   "source": [
    "X_A, Y_A, X_B, Y_B, X_C, Y_C = compute_coords(s, phi, N, M)\n",
    "\n",
    "print(X_A.shape)\n",
    "\n",
    "points = pfeilfluegel(s, np.rad2deg(phi))\n",
    "    \n",
    "# Geometrie plotten\n",
    "plt.figure(figsize=(6, 3))\n",
    "plt.plot(points[:,0], points[:, 1], '-', color=\"black\")\n",
    "plt.scatter(Y_A, X_A)\n",
    "plt.scatter(Y_B, X_B)\n",
    "plt.scatter(Y_C, X_C)\n",
    "plt.vlines(0, 0, 1, \"black\", \"--\")\n",
    "plt.xlabel('Spannweite [m]')\n",
    "plt.ylabel('Flügeltiefe [m]')\n",
    "plt.title('Panelpunkte')\n",
    "plt.axis('equal')\n",
    "plt.gca().invert_yaxis()\n",
    "plt.show()"
   ]
  },
  {
   "cell_type": "markdown",
   "metadata": {},
   "source": [
    "### 6.1.5 Transformation vom (i,j) in das (n) - System"
   ]
  },
  {
   "cell_type": "code",
   "execution_count": 198,
   "metadata": {},
   "outputs": [],
   "source": [
    "def matrix_to_vector(Mat):\n",
    "    \"\"\" Transformiert ein Koordinatengitter N x M in einen Vektor der Länge N * M. \"\"\"\n",
    "    # Transponieren und flach machen (flatten)\n",
    "    return Mat.T.flatten()"
   ]
  },
  {
   "cell_type": "code",
   "execution_count": 199,
   "metadata": {},
   "outputs": [],
   "source": [
    "# Transformieren von Matrizen in Vektoren\n",
    "x_a = matrix_to_vector(X_A)\n",
    "y_a = matrix_to_vector(Y_A)\n",
    "x_b = matrix_to_vector(X_B)\n",
    "y_b = matrix_to_vector(Y_B)\n",
    "x_c = matrix_to_vector(X_C)\n",
    "y_c = matrix_to_vector(Y_C)"
   ]
  },
  {
   "cell_type": "markdown",
   "metadata": {},
   "source": [
    "### 6.1.6 Berechnung der Koeffizientenmatrix"
   ]
  },
  {
   "cell_type": "code",
   "execution_count": 200,
   "metadata": {},
   "outputs": [],
   "source": [
    "def compute_coeff_matrices(y_a, y_b, y_c, x_a, x_b, x_c):\n",
    "    \"\"\"Berechnet die drei Anteile der Koeffizientenmatrix\"\"\"\n",
    "    \n",
    "    # Initialisieren der Matrizen\n",
    "    a_AB = np.zeros((x_a.size, x_a.size))\n",
    "    a_Aoo = np.zeros((x_a.size, x_a.size))\n",
    "    a_Boo = np.zeros((x_a.size, x_a.size))\n",
    "\n",
    "    # Berechnen der Anteile der gebundenen Wirbel\n",
    "    for j in range(N*M):\n",
    "        for i in range(N*M):\n",
    "            a_AB[i, j] = 1 / (4*np.pi) * (1/((x_c[i] - x_a[j])*(y_c[i] - y_b[j]) - (y_c[i] - y_a[j])*(x_c[i] - x_b[j]))) * (((x_b[j] - x_a[j])*(x_c[i] - x_a[j]) + (y_b[j] - y_a[j])*(y_c[i] - y_a[j]))/ np.sqrt((x_c[i] - x_a[j])**2 + (y_c[i] - y_a[j])**2) - ((x_b[j] - x_a[j])*(x_c[i] - x_b[j]) + (y_b[j] - y_a[j])*(y_c[i] - y_b[j]))/ np.sqrt((x_c[i] - x_b[j])**2 + (y_c[i] - y_b[j])**2))\n",
    "\n",
    "    # Berechnen der Anteile der freien Wirbel der linken Seite\n",
    "    for j in range(N*M):\n",
    "        for i in range(N*M):\n",
    "            a_Aoo[i, j] = 1 / (4*np.pi) * 1/(y_a[j] - y_c[i]) * ((x_c[i] - x_a[j])/ (np.sqrt((x_c[i] - x_a[j])**2 + (y_c[i] - y_a[j])**2)) + 1)\n",
    "\n",
    "    # Berechnen der Anteile der freien Wirbel der rechten Seite\n",
    "    for j in range(N*M):\n",
    "        for i in range(N*M):\n",
    "            a_Boo[i, j] = 1 / (4*np.pi) * 1/(y_b[j] - y_c[i]) * ((x_c[i] - x_b[j])/ (np.sqrt((x_c[i] - x_b[j])**2 + (y_c[i] - y_b[j])**2)) + 1)\n",
    "    \n",
    "    return a_AB, a_Aoo, a_Boo"
   ]
  },
  {
   "cell_type": "code",
   "execution_count": 178,
   "metadata": {},
   "outputs": [],
   "source": [
    "# Berechnen der Anteile der Koeffizientenmatrix\n",
    "a_AB, a_Aoo, a_Boo = compute_coeff_matrices(y_a, y_b, y_c, x_a, x_b, x_c)\n",
    "\n",
    "a = a_AB + a_Aoo - a_Boo                    # Koeffizientenmatrix\n",
    "a_ind_vec = a_Aoo - a_Boo                       # Koeffizientenmatrix der induzierenden Wirbel\n",
    "alpha_g_vec = np.full((a.shape[0]), alpha)      # Anstellwinkelvektor\n",
    "\n",
    "# Löst das lineare Gleichungssystem Ax = b, wobei\n",
    "# A - Koeffizientenmatrix a\n",
    "# x - Zirkulationsvektor Gamma\n",
    "# B - Koeffizientenvektor alpha_g * (- U_inf)   (kinematische Strömungsbedingung)\n",
    "Gamma_vec = np.linalg.solve(a, alpha_g_vec * (- U_inf)) "
   ]
  },
  {
   "cell_type": "markdown",
   "metadata": {},
   "source": [
    "### 6.1.5 Rücktransformation in das (i,j) - System"
   ]
  },
  {
   "cell_type": "code",
   "execution_count": 179,
   "metadata": {},
   "outputs": [],
   "source": [
    "def vector_to_matrix(vec, N, M):\n",
    "    \"\"\" Transformiert einen Vektor der Länge i*j zurück in ein Koordinatengitter (Matrix) mit Dimensionen i x j. \"\"\"\n",
    "    \n",
    "    if len(vec) != N * M:\n",
    "        raise ValueError(\"Die Länge des Vektors passt nicht zu den angegebenen Matrixdimensionen.\")\n",
    "    \n",
    "    # Zuerst formen wir den Vektor in eine Matrix um\n",
    "    Mat = np.reshape(vec, (M, N))\n",
    "    \n",
    "    # Transponieren, um die ursprüngliche Reihenfolge wiederherzustellen\n",
    "    Mat = np.transpose(Mat)\n",
    "    \n",
    "    return Mat"
   ]
  },
  {
   "cell_type": "code",
   "execution_count": 180,
   "metadata": {},
   "outputs": [],
   "source": [
    "# Rücktransformation von Vektoren in Matrizen\n",
    "Gamma = vector_to_matrix(Gamma_vec, N, M)"
   ]
  },
  {
   "cell_type": "markdown",
   "metadata": {},
   "source": [
    "### 6.1.6 Berechnung von Kräften und Beiwerten\n",
    "#### Auftrieb"
   ]
  },
  {
   "cell_type": "code",
   "execution_count": null,
   "metadata": {},
   "outputs": [],
   "source": [
    "# Berechne Gesamtzirkulation entlang der Spannweite\n",
    "Gamma_span = np.sum(Gamma, axis=1)  # Summe entlang der Sehne für jede Spannweitenposition\n",
    "\n",
    "# Berechne den Gesamtauftrieb\n",
    "A = rho * U_inf * np.sum(Gamma_span * Delta_y)\n",
    "\n",
    "# Berechne den Auftriebsbeiwert\n",
    "C_A = A / (0.5 * rho * U_inf**2 * b * c)\n",
    "\n",
    "# Berechne den Auftriebsanstieg\n",
    "C_A_alpha = C_A / alpha\n",
    "\n",
    "print(\"Auftrieb:                    \", \"%.2f\" % A, \"N\")\n",
    "print(\"Auftriebsbeiwert:            \", \"%.4f\" % C_A)\n",
    "print(\"Auftriebsanstieg:            \", \"%.2f\" % C_A_alpha)"
   ]
  },
  {
   "cell_type": "markdown",
   "metadata": {},
   "source": [
    "#### Widerstand"
   ]
  },
  {
   "cell_type": "code",
   "execution_count": 182,
   "metadata": {},
   "outputs": [],
   "source": [
    "def compute_drag(y_a, y_b, y_c, x_a, x_b, x_c, Gamma_vec):\n",
    "    \"\"\"Berechnet die drei Anteile der Koeffizientenmatrix\"\"\"\n",
    "    \n",
    "    # Initialisiere Koeffizientenmatrix für induzierten Widerstand\n",
    "    a_w_ind = np.zeros((M,N))\n",
    "\n",
    "    for j in range(N):\n",
    "        for i in range(M):\n",
    "            a_w_ind[i, j] = 1 / (4*np.pi) * (1 / (y_c[i] - y_a[j]) * (1 + ((x_c[i] - x_a[j]) / np.sqrt((x_c[i] - x_a[j])**2 + (y_c[i] - y_a[j])**2))) - 1 / (y_c[i] - y_b[j]) * (1 + ((x_c[i] - x_b[j]) / np.sqrt((x_c[i] - x_b[j])**2 + (y_c[i] - y_b[j])**2))))\n",
    "\n",
    "    w_ind = a_w_ind @ Gamma_vec"
   ]
  },
  {
   "cell_type": "code",
   "execution_count": null,
   "metadata": {},
   "outputs": [],
   "source": [
    "# Berechnung des induzierten Widerstands\n",
    "w_ind_vec = a_ind_vec @ Gamma_vec\n",
    "w_ind = vector_to_matrix(w_ind_vec, N, M)\n",
    "\n",
    "# Berechnung des induzierten Widerstands D_ind\n",
    "W_ind = - rho * U_inf * np.sum(Gamma * w_ind * Delta_y * Delta_x)\n",
    "\n",
    "# Widerstandsbeiwert (induziert)\n",
    "C_W_ind = 2*W_ind / rho / U_inf**2 / (b*c)\n",
    "\n",
    "print(\"Induzierter Widerstand:      \", \"%.2f\" % W_ind, \"N\")\n",
    "print(\"Widerstandsbeiwert:          \", \"%.4f\" % C_W_ind, \"N\")"
   ]
  },
  {
   "cell_type": "code",
   "execution_count": null,
   "metadata": {},
   "outputs": [],
   "source": [
    "def plot_zirkulation_3d(X_C, Y_C, gamma):\n",
    "    \"\"\"\n",
    "    Visualisiert die Zirkulation als 3D-Oberfläche, um den Auftrieb über den Flügel darzustellen.\n",
    "    \n",
    "    Parameters:\n",
    "    X_C  : 2D-Array der X-Koordinaten der Aufpunkte (Flügeltiefe)\n",
    "    Y_C  : 2D-Array der Y-Koordinaten der Aufpunkte (Spannweite)\n",
    "    gamma: 2D-Array der Zirkulation (Auftriebsverteilung), gleiche Dimensionen wie X_C und Y_C\n",
    "    \"\"\"\n",
    "    \n",
    "    fig = plt.figure(figsize=(10, 8))\n",
    "    ax = fig.add_subplot(111, projection='3d')\n",
    "    \n",
    "    # Plotten der 3D-Oberfläche\n",
    "    ax.plot_surface(Y_C, X_C, gamma, cmap='viridis', edgecolor='none')\n",
    "    \n",
    "    # Manuelle Achsengrenzen festlegen, um Abschnitte zu vermeiden\n",
    "    ax.set_xlim([min(Y_C.flatten()), max(Y_C.flatten())])\n",
    "    ax.set_ylim([min(X_C.flatten()), max(X_C.flatten())])\n",
    "    ax.set_zlim([min(gamma.flatten()), max(gamma.flatten())])\n",
    "    \n",
    "    # z-Achse nach links setzen\n",
    "    ax.zaxis.set_label_position('left')\n",
    "    ax.zaxis.set_ticks_position('left')\n",
    "    \n",
    "    # Labels und Titel\n",
    "    ax.set_xlabel('Spannweite [m]')\n",
    "    ax.set_ylabel('Flügeltiefe [m]')\n",
    "    ax.set_zlabel('Zirkulation [m²/s]')\n",
    "    ax.set_title('Zirkulationsverteilung auf dem Flügel')\n",
    "    \n",
    "    plt.show()\n",
    "\n",
    "# Plot-Funktion ausführen\n",
    "plot_zirkulation_3d(X_C, Y_C, Gamma)\n"
   ]
  }
 ],
 "metadata": {
  "kernelspec": {
   "display_name": ".venv",
   "language": "python",
   "name": "python3"
  },
  "language_info": {
   "codemirror_mode": {
    "name": "ipython",
    "version": 3
   },
   "file_extension": ".py",
   "mimetype": "text/x-python",
   "name": "python",
   "nbconvert_exporter": "python",
   "pygments_lexer": "ipython3",
   "version": "3.12.4"
  }
 },
 "nbformat": 4,
 "nbformat_minor": 2
}

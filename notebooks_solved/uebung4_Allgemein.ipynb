{
 "cells": [
  {
   "cell_type": "markdown",
   "metadata": {},
   "source": [
    "# **Python Tutorial**"
   ]
  },
  {
   "cell_type": "markdown",
   "metadata": {},
   "source": [
    "Willkommen zu diesem kurzen **Python** Tutorial. Python ist eine High-Level Programmiersprache, was bedeutet, dass sie in ihrer Natur weit von der Abstraktion und Komplexität eines Computers entfernt ist. Im Gegensatz zu Low-Level Programmiersprachen werden vermehrt Elemente der natürlichen Sprache eingesetzt, sie lassen sich also einfacher lesen und verstehen. Python ist dabei weit verbreitet und wird für viele Anwendungen eingesetzt, von der Web-Entwicklung bis hin zur wissenschaftlichen Datenverarbeitung.\n",
    "\n",
    "Weiterhin ist euch vielleicht aufgefallen, dass es ungewöhnlich ist FLießtext in Code-Dateien zu lesen. Jetzt gerade lest ihr einen Text, der in einer Markdown-Zelle geschrieben wurde. Dies ist möglich mit **Jupyter Notebooks**, welche geschriebenen Text, Quellcode und Visualisierungen kombinieren. Sie eignen sich hervorragend für den Unterricht und die Vermittlung von Wissen, werden aber auch von Fachleuten verwendet, z. B. um praktische Analysen und Berichte zu kombinieren.\n",
    "\n",
    "Jetzt werden wir grundlegende Elemente der Sprache Python kennenlernen, beginnend mit Variablen, Funktionen, Listen und Dictionairies.\n",
    "\n"
   ]
  },
  {
   "cell_type": "code",
   "execution_count": 209,
   "metadata": {},
   "outputs": [
    {
     "name": "stdout",
     "output_type": "stream",
     "text": [
      "a = 10\n",
      "b = 5.5\n",
      "c = Hallo, Python!\n"
     ]
    }
   ],
   "source": [
    "# Zuweisen eines Wertes zu einer Variablen\n",
    "a = 10\n",
    "b = 5.5\n",
    "c = \"Hallo, Python!\"\n",
    "\n",
    "# Variablen ausgeben\n",
    "print(\"a =\", a)\n",
    "print(\"b =\", b)\n",
    "print(\"c =\", c)"
   ]
  },
  {
   "cell_type": "markdown",
   "metadata": {},
   "source": [
    "### 2. Funktionen\n",
    "Funktionen sind wiederverwendbare Codeblöcke, die eine bestimmte Aufgabe ausführen."
   ]
  },
  {
   "cell_type": "code",
   "execution_count": 210,
   "metadata": {},
   "outputs": [
    {
     "name": "stdout",
     "output_type": "stream",
     "text": [
      "Hallo, Alice!\n"
     ]
    }
   ],
   "source": [
    "# Definieren einer Funktion\n",
    "def begruessen(name):\n",
    "    return f\"Hallo, {name}!\"\n",
    "\n",
    "# Aufrufen einer Funktion\n",
    "nachricht = begruessen(\"Alice\")\n",
    "print(nachricht)"
   ]
  },
  {
   "cell_type": "code",
   "execution_count": 211,
   "metadata": {},
   "outputs": [
    {
     "name": "stdout",
     "output_type": "stream",
     "text": [
      "Summe: 25\n"
     ]
    }
   ],
   "source": [
    "# Funktion mit mehreren Argumenten\n",
    "def addiere_zahlen(x, y):\n",
    "    return x + y\n",
    "\n",
    "ergebnis = addiere_zahlen(10, 15)\n",
    "print(\"Summe:\", ergebnis)"
   ]
  },
  {
   "cell_type": "markdown",
   "metadata": {},
   "source": [
    "### 3. Listen\n",
    "Listen sind geordnete Sammlungen von Elementen, die veränderbar sind. Sie zählen zu den Iterables, man kann sie also sehr gut in iterativen Prozessen einsetzen, bspw. Optimierung."
   ]
  },
  {
   "cell_type": "code",
   "execution_count": 212,
   "metadata": {},
   "outputs": [
    {
     "name": "stdout",
     "output_type": "stream",
     "text": [
      "Liste: [1, 2, 3, 4, 5]\n"
     ]
    }
   ],
   "source": [
    "# Erstellen einer Liste\n",
    "meine_liste = [1, 2, 3, 4, 5]\n",
    "print(\"Liste:\", meine_liste)"
   ]
  },
  {
   "cell_type": "code",
   "execution_count": 213,
   "metadata": {},
   "outputs": [
    {
     "name": "stdout",
     "output_type": "stream",
     "text": [
      "Erstes Element: 1\n",
      "Letztes Element: 5\n",
      "Liste nach Anhängen: [1, 2, 3, 4, 5, 6]\n",
      "Liste nach Entfernen von 3: [1, 2, 4, 5, 6]\n"
     ]
    }
   ],
   "source": [
    "# Elemente zugreifen\n",
    "print(\"Erstes Element:\", meine_liste[0])\n",
    "print(\"Letztes Element:\", meine_liste[-1])\n",
    "\n",
    "# Elemente hinzufügen\n",
    "meine_liste.append(6)\n",
    "print(\"Liste nach Anhängen:\", meine_liste)\n",
    "\n",
    "# Elemente entfernen\n",
    "meine_liste.remove(3)\n",
    "print(\"Liste nach Entfernen von 3:\", meine_liste)"
   ]
  },
  {
   "cell_type": "markdown",
   "metadata": {},
   "source": [
    "### 4. Dictionairies\n",
    "Dictionairies sind ungeordnete Sammlungen von Key-Value-Paaren."
   ]
  },
  {
   "cell_type": "code",
   "execution_count": 214,
   "metadata": {},
   "outputs": [
    {
     "name": "stdout",
     "output_type": "stream",
     "text": [
      "Wörterbuch: {'name': 'Alice', 'alter': 21, 'stadt': 'Bielefeld'}\n"
     ]
    }
   ],
   "source": [
    "# Erstellen eines Wörterbuchs\n",
    "mein_wb = {'name': 'Alice', 'alter': 21, 'stadt': 'Bielefeld'}\n",
    "print(\"Wörterbuch:\", mein_wb)"
   ]
  },
  {
   "cell_type": "code",
   "execution_count": 215,
   "metadata": {},
   "outputs": [
    {
     "name": "stdout",
     "output_type": "stream",
     "text": [
      "Name: Alice\n",
      "Wörterbuch nach Hinzufügen von E-Mail: {'name': 'Alice', 'alter': 21, 'stadt': 'Bielefeld', 'email': 'alice@example.com'}\n",
      "Wörterbuch nach Entfernen von Alter: {'name': 'Alice', 'stadt': 'Bielefeld', 'email': 'alice@example.com'}\n"
     ]
    }
   ],
   "source": [
    "# Werte zugreifen\n",
    "print(\"Name:\", mein_wb['name'])\n",
    "\n",
    "# Ein neues Schlüssel-Wert-Paar hinzufügen\n",
    "mein_wb['email'] = 'alice@example.com'\n",
    "print(\"Wörterbuch nach Hinzufügen von E-Mail:\", mein_wb)\n",
    "\n",
    "# Ein Schlüssel-Wert-Paar entfernen\n",
    "del mein_wb['alter']\n",
    "print(\"Wörterbuch nach Entfernen von Alter:\", mein_wb)"
   ]
  },
  {
   "cell_type": "markdown",
   "metadata": {},
   "source": [
    "## **Teil 2: Verwendung von Numpy, Matplotlib und Pandas**\n",
    "### 1. Einrichten des Environments\n",
    "Numpy, Matplotlib und Pandas sind zwar weit verbreitete Pakete, dennoch müssen sie separat installiert werden, wofür es mehrere Möglichkeiten gibt. Wenn ihr das Tutorial zur Installation mit VS Code durchlaufen habt (*README.md*), seht ihr in eurem Explorer links oben einen Ordner `.venv`, das virtuelle Environment, in das Pakete installiert werden. "
   ]
  },
  {
   "cell_type": "code",
   "execution_count": 216,
   "metadata": {},
   "outputs": [],
   "source": [
    "# Importieren der benötigten Pakete\n",
    "import numpy as np\n",
    "import matplotlib.pyplot as plt\n",
    "import pandas as pd"
   ]
  },
  {
   "cell_type": "markdown",
   "metadata": {},
   "source": [
    "Sollte dies nicht geklappt haben und ihr bekommt eine Fehlermeldung beim laufen des Codes bis zu dieser Stelle, könnt ihr folgendermaßen vorgehen: Geht in die Menüleiste nach oben und klickt auf `Terminal` und öffnet ein neues Terminal. Dort sollte so etwas stehen wie:\n",
    "(**PRÜFEN**)\n",
    "```\n",
    "(.venv) (base) name@computer_name-ordner_name % \n",
    "```\n",
    "\n",
    "`(.venv)` signalisiert, dass man sich in einem aktiven, virtuellen Environment von *virtualenv* (https://virtualenv.pypa.io/en/latest/) befindet. `(base)` signalisiert, dass man sich in einem aktiven, virtuellen Environment von *conda* (https://docs.conda.io/en/latest/) befindet. Beide sind Paket- und Umgebungsmanager, mit denen Pakete sehr einfach installiert und verwaltet werden können. Jetzt könnt ihr die Pakete über folgenden Befehl installieren:\n",
    "```\n",
    "pip install -r requirements.txt\n",
    "``` \n",
    "Wenn fertig, startet den Kernel neu über `Restart` und der Import sollte funktioniert haben."
   ]
  },
  {
   "cell_type": "markdown",
   "metadata": {},
   "source": [
    "### 2. Numpy-Grundlagen\n",
    "Numpy ist eine leistungsstarke Bibliothek für numerische Berechnungen und arbeitet mit sogenannten Arrays:"
   ]
  },
  {
   "cell_type": "code",
   "execution_count": 217,
   "metadata": {},
   "outputs": [
    {
     "name": "stdout",
     "output_type": "stream",
     "text": [
      "1D-Array: [1 2 3 4 5]\n",
      "2D-Array:\n",
      " [[1 2 3]\n",
      " [4 5 6]]\n"
     ]
    }
   ],
   "source": [
    "# Erstellen eines 1D-Arrays\n",
    "array_1d = np.array([1, 2, 3, 4, 5])\n",
    "print(\"1D-Array:\", array_1d)\n",
    "\n",
    "# Erstellen eines 2D-Arrays\n",
    "array_2d = np.array([[1, 2, 3], [4, 5, 6]])\n",
    "print(\"2D-Array:\\n\", array_2d)"
   ]
  },
  {
   "cell_type": "code",
   "execution_count": 218,
   "metadata": {},
   "outputs": [
    {
     "name": "stdout",
     "output_type": "stream",
     "text": [
      "Array nach Addition von 5: [ 6  7  8  9 10]\n",
      "Quadratwurzel des Arrays:  [1.         1.41421356 1.73205081 2.         2.23606798]\n"
     ]
    }
   ],
   "source": [
    "# Elementweise Operationen\n",
    "array_summe = array_1d + 5\n",
    "print(\"Array nach Addition von 5:\", array_summe)\n",
    "\n",
    "# Mathematische Operationen\n",
    "array_wurzel = np.sqrt(array_1d)\n",
    "print(\"Quadratwurzel des Arrays: \", array_wurzel)"
   ]
  },
  {
   "cell_type": "markdown",
   "metadata": {},
   "source": [
    "### 3. Matplotlib-Grundlagen\n",
    "Matplotlib wird zum Erstellen von statischen, animierten und interaktiven Visualisierungen in Python verwendet.\n",
    "\n"
   ]
  },
  {
   "cell_type": "code",
   "execution_count": 219,
   "metadata": {},
   "outputs": [
    {
     "data": {
      "image/png": "[encoded data removed]",
      "text/plain": [
       "<Figure size 800x400 with 1 Axes>"
      ]
     },
     "metadata": {},
     "output_type": "display_data"
    }
   ],
   "source": [
    "# Beispielhafte Daten\n",
    "x = np.linspace(0, 10, 100)\n",
    "y = np.sin(x)\n",
    "\n",
    "# Plotten\n",
    "plt.figure(figsize=(8, 4))\n",
    "plt.plot(x, y, label='sin(x)')\n",
    "plt.xlabel('x')\n",
    "plt.ylabel('sin(x)')\n",
    "plt.title('Sinus-Funktion')\n",
    "plt.show()"
   ]
  },
  {
   "cell_type": "code",
   "execution_count": 220,
   "metadata": {},
   "outputs": [
    {
     "data": {
      "image/png": "[encoded data removed]",
      "text/plain": [
       "<Figure size 800x400 with 1 Axes>"
      ]
     },
     "metadata": {},
     "output_type": "display_data"
    }
   ],
   "source": [
    "# Plot anpassen\n",
    "plt.figure(figsize=(8, 4))\n",
    "plt.plot(x, y, 'r--', label='sin(x)')\n",
    "plt.xlabel('x-Achse')\n",
    "plt.ylabel('y-Achse')\n",
    "plt.title('Angepasster Sinus-Plot')\n",
    "plt.legend()\n",
    "plt.grid(True)\n",
    "plt.show()"
   ]
  },
  {
   "cell_type": "markdown",
   "metadata": {},
   "source": [
    "### 4. Pandas-Grundlagen\n",
    "Pandas wird zur Datenmanipulation und -analyse verwendet. Es bietet Datenstrukturen und Funktionen, die benötigt werden, um strukturierte Daten nahtlos zu manipulieren. Ein DataFrame ist eine zweidimensionale beschriftete Datenstruktur mit Spalten potenziell unterschiedlicher Typen."
   ]
  },
  {
   "cell_type": "code",
   "execution_count": 221,
   "metadata": {},
   "outputs": [
    {
     "data": {
      "text/html": [
       "<div>\n",
       "<style scoped>\n",
       "    .dataframe tbody tr th:only-of-type {\n",
       "        vertical-align: middle;\n",
       "    }\n",
       "\n",
       "    .dataframe tbody tr th {\n",
       "        vertical-align: top;\n",
       "    }\n",
       "\n",
       "    .dataframe thead th {\n",
       "        text-align: right;\n",
       "    }\n",
       "</style>\n",
       "<table border=\"1\" class=\"dataframe\">\n",
       "  <thead>\n",
       "    <tr style=\"text-align: right;\">\n",
       "      <th></th>\n",
       "      <th>Name</th>\n",
       "      <th>Alter</th>\n",
       "      <th>Stadt</th>\n",
       "    </tr>\n",
       "  </thead>\n",
       "  <tbody>\n",
       "    <tr>\n",
       "      <th>0</th>\n",
       "      <td>Alice</td>\n",
       "      <td>24</td>\n",
       "      <td>New York</td>\n",
       "    </tr>\n",
       "    <tr>\n",
       "      <th>1</th>\n",
       "      <td>Bob</td>\n",
       "      <td>27</td>\n",
       "      <td>Los Angeles</td>\n",
       "    </tr>\n",
       "    <tr>\n",
       "      <th>2</th>\n",
       "      <td>Charlie</td>\n",
       "      <td>22</td>\n",
       "      <td>Chicago</td>\n",
       "    </tr>\n",
       "    <tr>\n",
       "      <th>3</th>\n",
       "      <td>David</td>\n",
       "      <td>32</td>\n",
       "      <td>Houston</td>\n",
       "    </tr>\n",
       "    <tr>\n",
       "      <th>4</th>\n",
       "      <td>Eva</td>\n",
       "      <td>29</td>\n",
       "      <td>Phoenix</td>\n",
       "    </tr>\n",
       "  </tbody>\n",
       "</table>\n",
       "</div>"
      ],
      "text/plain": [
       "      Name  Alter        Stadt\n",
       "0    Alice     24     New York\n",
       "1      Bob     27  Los Angeles\n",
       "2  Charlie     22      Chicago\n",
       "3    David     32      Houston\n",
       "4      Eva     29      Phoenix"
      ]
     },
     "execution_count": 221,
     "metadata": {},
     "output_type": "execute_result"
    }
   ],
   "source": [
    "# Erstellen eines DataFrames\n",
    "daten = {'Name': ['Alice', 'Bob', 'Charlie', 'David', 'Eva'],\n",
    "         'Alter': [24, 27, 22, 32, 29],\n",
    "         'Stadt': ['New York', 'Los Angeles', 'Chicago', 'Houston', 'Phoenix']}\n",
    "df = pd.DataFrame(daten)\n",
    "\n",
    "# Zeigt die ersten 5 Zeilen\n",
    "df.head()"
   ]
  },
  {
   "cell_type": "code",
   "execution_count": 222,
   "metadata": {},
   "outputs": [
    {
     "name": "stdout",
     "output_type": "stream",
     "text": [
      "Alter:\n",
      " 0    24\n",
      "1    27\n",
      "2    22\n",
      "3    32\n",
      "4    29\n",
      "Name: Alter, dtype: int64\n",
      "\n",
      "Erwachsene:\n",
      "     Name  Alter        Stadt\n",
      "1    Bob     27  Los Angeles\n",
      "3  David     32      Houston\n",
      "4    Eva     29      Phoenix\n",
      "\n",
      "Durchschnittsalter: 26.8\n"
     ]
    }
   ],
   "source": [
    "# Auswahl einer Spalte\n",
    "alter = df['Alter']\n",
    "print(\"Alter:\\n\", alter)\n",
    "\n",
    "# Daten filtern\n",
    "erwachsene = df[df['Alter'] > 25]\n",
    "print(\"\\nErwachsene:\\n\", erwachsene)\n",
    "\n",
    "# Daten mitteln\n",
    "durchschnittsalter = df['Alter'].mean()\n",
    "print(\"\\nDurchschnittsalter:\", durchschnittsalter)"
   ]
  },
  {
   "cell_type": "markdown",
   "metadata": {},
   "source": [
    "Pandas lässt sich gut mit Matplotlib integrieren, um schnell und einfach zu plotten."
   ]
  },
  {
   "cell_type": "code",
   "execution_count": 223,
   "metadata": {},
   "outputs": [
    {
     "data": {
      "image/png": "[encoded data removed]",
      "text/plain": [
       "<Figure size 640x480 with 1 Axes>"
      ]
     },
     "metadata": {},
     "output_type": "display_data"
    }
   ],
   "source": [
    "# Plotten von Daten aus DataFrame\n",
    "df.plot(kind='bar', x='Name', y='Alter', title='Alter der Personen', legend=False)\n",
    "plt.xlabel('Name')\n",
    "plt.ylabel('Alter')\n",
    "plt.show()"
   ]
  },
  {
   "cell_type": "markdown",
   "metadata": {},
   "source": [
    "Dieses Tutorial bot eine kurze Einführung in die Python-Grundlagen sowie in die Bibliotheken numpy, matplotlib und pandas. Diese Werkzeuge sind leistungsfähig für numerische Analysen, Datenmanipulation und Visualisierung, was für die Vorlesung *Berechnungsmethoden in der Aerodynamik* und anderen Ingenieursanwendungen essenziell ist. Experimentiert mit diesen Bibliotheken und erkundet deren Dokumentation für fortgeschrittenere Funktionen.\n",
    "\n",
    "Der nächste Teil soll eine Einführung in die Übung 4 und zum verwendeten Verfahren liefern. In Zukunft wird es immer ein Notebook `uebungxx_Allgemein.ipynb` geben, in dem zuerst Antworten auf die Fragen der vorigen Übung gegeben werden und anschließend eine Einführung zur aktuellen Übung gegeben wird."
   ]
  },
  {
   "cell_type": "markdown",
   "metadata": {},
   "source": [
    "# **Übung 4: Das Traglinienverfahren und die Prandtl'sche Tragflügeltheorie**"
   ]
  },
  {
   "cell_type": "markdown",
   "metadata": {},
   "source": [
    "Die Übung 4 ist die erste von insgesamt fünf computer-basierten Übungen und soll einen ersten Einblick in aerodynamische Optimierungsaufgaben geben und wie sie mit verschiedenen Verfahren gelöst werden können.  Die **Prandtl'sche Traglinientheorie (engl. \"lifting line theory\")** besteht seit der Zeit des ersten Weltkrieges und findet heutzutage immernoch Anwendung. Auf ihr basierend wird das numerische **Traglinienverfahren** (TLV) als analytische Methode eingesetzt, um im Flügel-Vorentwurf Vorhersagen über Effizienz und Verluste von Tragflügeln endlicher Streckung zu treffen.\n",
    "\n",
    "Was liefert die Traglinientheorie?\n",
    "- Auftriebsverteilung entlang der Spannweite\n",
    "- Auftriebskraft \n",
    "- Induzierter Widerstand (Effizienz)\n",
    "\n",
    "Was sind die Einschränkungen?\n",
    "- gilt nur für große Streckungen\n",
    "- Pfeilung kann nicht berücksichtigt werden \n",
    "- gilt nur für kleine Anstellwinkel\n",
    "\n",
    "Die ausführliche Theorie zum Verfahren findet ihr in den Skripten begleitend zur Vorlesung. In den einzelnen notebooks `uebung04_Trapez.ipynb`, `uebung04_Doppeltrapez.ipynb` und `uebung04_Ellipse.ipynb` wird jeweils zuerst geziegt, wie ein solches Traglinienverfahren (TLV) bzw. die Prandtl'sche Tragflächentheorie für die jeweilige Flügelform implementiert werden kann. Anschließend werden die Aufgaben aus der Übung gelöst. Dabei kennzeichnet das orangene Symbol 🟠 Bereiche, in denen Parameter geändert werden können bzw. sollen. Dies beinhaltet vor allem Geometrie- und Randparameter der Rechnung.\n"
   ]
  }
 ],
 "metadata": {
  "kernelspec": {
   "display_name": ".venv",
   "language": "python",
   "name": "python3"
  },
  "language_info": {
   "codemirror_mode": {
    "name": "ipython",
    "version": 3
   },
   "file_extension": ".py",
   "mimetype": "text/x-python",
   "name": "python",
   "nbconvert_exporter": "python",
   "pygments_lexer": "ipython3",
   "version": "3.12.4"
  }
 },
 "nbformat": 4,
 "nbformat_minor": 2
}

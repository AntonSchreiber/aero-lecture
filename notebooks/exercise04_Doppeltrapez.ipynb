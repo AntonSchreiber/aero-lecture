{
 "cells": [
  {
   "cell_type": "markdown",
   "metadata": {},
   "source": [
    "# Übung 4.1 : Das Traglinienverfahren und die Prandtl'sche Tragflügeltheorie - Doppeltrapezflügel"
   ]
  },
  {
   "cell_type": "markdown",
   "metadata": {},
   "source": [
    "<div style=\"text-align: justify\"> </p>Die Übung 4 ist die erste von insgesamt fünf computer-basierten Übungen und soll einen ersten Einblick in aerodynamische Optimierungsaufgaben geben und wie sie mit Algorithmen gelöst werden können. </p>\n",
    "\n",
    "Die **Prandtl'sche Traglinientheorie (engl. \"lifting line theory\")** besteht seit der Zeit des ersten Weltkrieges und findet heutzutage immernoch Anwendung. Darauf basierend wird das numerische Traglinienverfahren als analytische Methode eingesetzt, um im Flügel-Vorentwurf Vorhersagen über Effizienz und Verluste von Tragflügeln endlicher Streckung zu treffen.\n",
    "\n",
    "Was liefert die Traglinientheorie?\n",
    "- Auftriebsverteilung entlang der Spannweite\n",
    "- Auftriebskraft \n",
    "- Induzierter Widerstand (Effizienz)\n",
    "\n",
    "Was sind die Einschränkungen?\n",
    "- gilt nur für große Streckungen\n",
    "- Pfeilung kann nicht berücksichtigt werden \n",
    "- gilt nur für kleine Anstellwinkel\n",
    "\n",
    "Die ausführliche Theorie zum Verfahren findet ihr in den Skripten begleitend zur Vorlesung. Nachfolgend soll nun exemplarisch gezeigt werden, wie ein solches Traglinienverfahren (TLV) grundlegend in Python implementiert werden kann. Anschließend werden die Aufgaben aus der Übung gelöst. Das orangene Symbol 🟠 kennzeichnet Bereiche, in denen Parameter geändert werden können bzw. sollen. Dies beinhaltet vor allem Geometrie- und Randparameter der Rechnung.\n",
    " </div>"
   ]
  },
  {
   "cell_type": "code",
   "execution_count": null,
   "metadata": {},
   "outputs": [],
   "source": [
    "# Importieren von Python-Biblioteken\n",
    "import numpy as np\n",
    "import matplotlib.pyplot as plt\n",
    "import pandas as pd\n",
    "from ipywidgets import interact, IntSlider, FloatSlider, fixed, VBox, HBox, Label\n",
    "import ipywidgets as widgets\n",
    "\n",
    "# Erhöhen der Plot-Auflösung\n",
    "plt.rcParams[\"figure.dpi\"] = 140"
   ]
  },
  {
   "cell_type": "markdown",
   "metadata": {},
   "source": [
    "### 4.1.1 Visualisierung: Doppeltrapezflügel"
   ]
  },
  {
   "cell_type": "code",
   "execution_count": null,
   "metadata": {},
   "outputs": [],
   "source": [
    "def doppeltrapezfluegel(l_a, l_k, AR, l_i=1.0) -> np.array:\n",
    "    \"\"\"Generiert die Planform eines Doppeltrapezflügels auf Basis der gegebenen Flügeltiefen und Streckung\"\"\"\n",
    "\n",
    "    # Berechnung der Halbspannweite\n",
    "    b = AR * (l_k*0.75 + 0.5*(l_i-l_k)*0.75+l_a*(1-0.75)+0.5*(l_k-l_a)*0.25)\n",
    "    s = b / 2\n",
    "\n",
    "    # Kink-Position (bei 75% der Halbspannweite)\n",
    "    y_lk = 0.75 * s \n",
    "\n",
    "    # Definition aller Eckpunkte\n",
    "    points = np.array([\n",
    "        [0, l_i/2], [y_lk, l_k/2], [s, l_a/2], [s, -l_a/2], [y_lk, -l_k/2], [0, -l_i/2], \n",
    "        [-y_lk, -l_k/2], [-s, -l_a/2], [-s, l_a/2], [-y_lk, l_k/2], [0, l_i/2]\n",
    "    ])\n",
    "    points = np.array([[point[0], point[1] + l_i/2] for point in points])\n",
    "    \n",
    "    return points\n",
    "\n",
    "def plot_doppeltrapezfluegel(l_a, l_k, AR):\n",
    "    \"\"\"Plottet die Planform eines Doppeltrapezflügels auf Basis der gegebenen Flügeltiefen und Streckung\"\"\"\n",
    "\n",
    "    # Flügeleckpunkte generieren\n",
    "    points = doppeltrapezfluegel(l_a, l_k, AR)\n",
    "\n",
    "    # Geometrie plotten\n",
    "    plt.figure(figsize=(7, 3))\n",
    "    plt.plot(points[:,0], points[:, 1], '-', color=\"black\")\n",
    "    plt.vlines(0, 0, 1, \"black\", \"--\")\n",
    "    plt.xlabel('Spannweite [m]')\n",
    "    plt.ylabel('Flügeltiefe [m]')\n",
    "    plt.title('Doppeltrapezflügel')\n",
    "    plt.gca().invert_yaxis()\n",
    "    plt.axis('equal')\n",
    "    plt.show()\n",
    "\n",
    "def widget_doppeltrapezfluegel():\n",
    "    \"\"\"Erzeugt ein widget, mit dem sich die Planform eines Doppeltrapezflügels interaktiv visualisieren lässt\"\"\"\n",
    "\n",
    "    slider_l_k = VBox([Label('Flügeltiefe Kink'), FloatSlider(value=0.8, min=0, max=1.0, step=0.1)])\n",
    "    slider_l_a = VBox([Label('Flügeltiefe außen'), FloatSlider(value=0.5, min=0, max=0.8, step=0.1)])\n",
    "    slider_AR = VBox([Label('Streckung'), FloatSlider(value=10, min=5, max=20, step=1)])\n",
    "\n",
    "    # Interaktiver plot\n",
    "    ui = VBox([slider_l_k, slider_l_a, slider_AR])\n",
    "    ui = VBox([ui], layout=widgets.Layout(justify_content='center'))\n",
    "    out = widgets.interactive_output(plot_doppeltrapezfluegel, {'l_a': slider_l_a.children[1], 'l_k': slider_l_k.children[1], 'AR': slider_AR.children[1]})\n",
    "\n",
    "    return HBox([out, ui])"
   ]
  },
  {
   "cell_type": "code",
   "execution_count": null,
   "metadata": {},
   "outputs": [],
   "source": [
    "display(widget_doppeltrapezfluegel())"
   ]
  },
  {
   "cell_type": "markdown",
   "metadata": {},
   "source": [
    "### 4.1.2 Geometrische Parameter und Randbedinungen"
   ]
  },
  {
   "cell_type": "code",
   "execution_count": null,
   "metadata": {},
   "outputs": [],
   "source": [
    "# Konstant\n",
    "alpha = 5                       # Anstellwinel [deg]\n",
    "alpha = alpha / 180 * np.pi     # Anstellwinel [rad]  \n",
    "U_inf = 10.0                    # Anströmgeschwindigkeit [m/s]\n",
    "rho = 1.225                     # Dichte [kg/m^3]\n",
    "l_i = 1.0                       # Flügeltiefe Wurzel [m]"
   ]
  },
  {
   "cell_type": "markdown",
   "metadata": {},
   "source": [
    "#### 🟠"
   ]
  },
  {
   "cell_type": "code",
   "execution_count": null,
   "metadata": {},
   "outputs": [],
   "source": [
    "# Diese Parameter können verändert werden\n",
    "l_a = 0.3                       # Flügeltiefe außen [m]\n",
    "l_k = 0.675                       # Flügeltiefe kink [m]\n",
    "AR = 20                         # Streckung/ Aspect Ratio"
   ]
  },
  {
   "cell_type": "markdown",
   "metadata": {},
   "source": [
    "#### Berechnung weiterer geometrischer Parameter"
   ]
  },
  {
   "cell_type": "code",
   "execution_count": null,
   "metadata": {},
   "outputs": [],
   "source": [
    "# Berechnung der Halbspannweite\n",
    "b = AR * (l_k*0.75 + 0.5*(l_i-l_k)*0.75+l_a*(1-0.75)+0.5*(l_k-l_a)*0.25)   \n",
    "s = b / 2 \n",
    "\n",
    "# Berechnung der Kink-Position (bei 75% der Halbspannweite)\n",
    "y_lk = 0.75 * s     \n",
    "\n",
    "# Berechnung der Flügelfläche aus Halbspannweite und Streckung\n",
    "S = b**2 / AR         \n",
    "\n",
    "print(\"Spannweite:                  \", \"%.2f\" % b, \"m\")\n",
    "print(\"Halbspannweite:              \", \"%.2f\" % s, \"m\")\n",
    "print(\"Kink-Position:               \", \"%.2f\" % y_lk, \"m\")\n",
    "print(\"Flügelfläche:                \", \"%.2f\" % S, \"m^2\")"
   ]
  },
  {
   "cell_type": "markdown",
   "metadata": {},
   "source": [
    "### 4.1.3 Visualisierung der Diskretisierung"
   ]
  },
  {
   "cell_type": "code",
   "execution_count": null,
   "metadata": {},
   "outputs": [],
   "source": [
    "def tiefe_doppeltrapez(y, y_lk, l_k, l_a, s) -> float:\n",
    "    \"\"\"Berechnet mit gegebenen Geometriepartametern eines Doppeltrapezflügels die lokale Flügeltiefe für eine spannweitige Position\"\"\"\n",
    "    y = abs(y)\n",
    "    if y <= y_lk:\n",
    "        return 1 + (l_k - 1) * (y / y_lk)\n",
    "    else:\n",
    "        return l_k + (l_a - l_k) * ((y - y_lk) / (s - y_lk))\n",
    "    \n",
    "def plot_diskretisierung_doppeltrapez(l_a, l_k, y_lk, AR, s, N):\n",
    "    \"\"\"Plottet die Diskretisierung eines Doppeltrapezflügels auf Basis der Anzahl der Elementarflügel\"\"\"\n",
    "    points = doppeltrapezfluegel(l_a, l_k, AR)\n",
    "    \n",
    "    # Diskretisierung der Halbspannweite\n",
    "    y_values = np.linspace(-s, s, N+1)\n",
    "    chord_values = [tiefe_doppeltrapez(y, y_lk, l_k, l_a, s) for y in y_values]\n",
    "    \n",
    "    # Geometrie plotten\n",
    "    plt.figure(figsize=(6, 3))\n",
    "    plt.plot(points[:,0], points[:, 1], '-', color=\"black\")\n",
    "\n",
    "    # Elementarflügel plotten\n",
    "    for i in range(N):\n",
    "        plt.plot([y_values[i], y_values[i]], [-chord_values[i]/2 + l_i/2, chord_values[i]/2 + l_i/2], 'g-')\n",
    "    \n",
    "    plt.vlines(0, 0, 1, \"black\", \"--\")\n",
    "    plt.xlabel('Spannweite [m]')\n",
    "    plt.ylabel('Flügeltiefe [m]')\n",
    "    plt.title('Diskretisierung Doppeltrapezflügel')\n",
    "    plt.gca().invert_yaxis()\n",
    "    plt.axis('equal')\n",
    "    plt.show()\n",
    "\n",
    "def widget_diskretisierung_doppeltrapez(l_a, l_k, y_lk, AR, s):\n",
    "    \"\"\"Erzeugt ein widget, mit dem sich die Diskretisierung eines Doppeltrapezflügels interaktiv visualisieren lässt\"\"\"\n",
    "\n",
    "    slider_N = VBox([Label('Anzahl der Elementarflügel'), IntSlider(value=30, min=1, max=100, step=1)])\n",
    "\n",
    "    # Interaktiver plot\n",
    "    ui = VBox([slider_N])\n",
    "    ui = VBox([ui], layout=widgets.Layout(justify_content='center'))\n",
    "    out = widgets.interactive_output(plot_diskretisierung_doppeltrapez, {'l_a': fixed(l_a), 'l_k': fixed(l_k), \"y_lk\": fixed(y_lk), 'AR': fixed(AR), \"s\": fixed(s), 'N': slider_N.children[1]})\n",
    "    return HBox([out, ui])"
   ]
  },
  {
   "cell_type": "code",
   "execution_count": null,
   "metadata": {},
   "outputs": [],
   "source": [
    "(widget_diskretisierung_doppeltrapez(l_a, l_k, y_lk, AR, s))"
   ]
  },
  {
   "cell_type": "markdown",
   "metadata": {},
   "source": [
    "### 4.1.4 Berechnung der Hufeisenwirbel-Koordinaten"
   ]
  },
  {
   "cell_type": "markdown",
   "metadata": {},
   "source": [
    "Zur Bestimmung der $N$ (Variable n) unbekannten Wirbelstärken $\\Gamma$ wird die kinematische Strömungsbedingung in den $N$ (Variable $m$) Aufpunkten erfüllt, und man hat ein lineares Gleichungssystem zu lösen. Dafür werden die Koordinaten des tragenden Wirbels entlang der örtlichen $l_p/4$-Linie (indizes a, b) am Rand jedes Elementarflügels sowie die der Aufpunkte im $3l_p/4$–Punkt des Mittelschnittes jedes Elementarflügels (index c) bestimmt. Der Koordinatenursprung (x, y) = (0, 0) liegt hierbei dort, wo sich die Symmetrieachse des Flügels (Rumpf) und die Vorderkante."
   ]
  },
  {
   "cell_type": "markdown",
   "metadata": {},
   "source": [
    "#### 🟠"
   ]
  },
  {
   "cell_type": "code",
   "execution_count": null,
   "metadata": {},
   "outputs": [],
   "source": [
    "# Diese Parameter können verändert werden\n",
    "N = 500                                 # Anzahl der Elementarflügel          "
   ]
  },
  {
   "cell_type": "code",
   "execution_count": null,
   "metadata": {},
   "outputs": [],
   "source": [
    "# Breite eines Elementarflügels   \n",
    "delta_b = b/N                            \n",
    "\n",
    "def x_position(y, l_i, l_k, l_a, y_lk, aufpunkt=False):\n",
    "    \"\"\"Berechnet die Tiefenposition der Punkte A und B und des Aufpunkts C\"\"\"\n",
    "\n",
    "    tiefe = 0.75 if aufpunkt else 0.25\n",
    "    if abs(y) <= y_lk:\n",
    "        return (abs(y)/y_lk * 0.5*(l_i-l_k) + tiefe*(l_i - abs(y)/y_lk * (l_i-l_k)))\n",
    "    else:\n",
    "        return (0.5*(l_i-l_k) + (abs(y)-y_lk)/(s-y_lk) * 0.5*(l_k-l_a) + tiefe*(l_k - (abs(y)-y_lk)/(s-y_lk)*(l_k-l_a)))\n",
    "    \n",
    "\n",
    "def compute_coords(s, N, delta_b, l_i, l_k, l_a, y_lk):\n",
    "    \"\"\"Berechnet die Hufeisenwirbel-Koordinaten aus Basis der Flügelgeometrie und Anzahl der Elementarflügel\"\"\"\n",
    "\n",
    "    # Spannweitige Positionen der Punkte A, B und Aufpunkt C\n",
    "    y_a = np.array([-s +  j    * delta_b for j in range(N)])\n",
    "    y_b = np.array([-s + (j+1) * delta_b for j in range(N)])\n",
    "    y_c = np.array([-s + delta_b/2 + i*delta_b for i in range(N)])\n",
    "\n",
    "    # Tiefenposition der Punkte A und B und des Aufpunkts C\n",
    "    x_a = np.array([x_position(y_i, l_i, l_k, l_a, y_lk) for y_i in y_a])\n",
    "    x_b = np.array([x_position(y_i, l_i, l_k, l_a, y_lk) for y_i in y_b])\n",
    "    x_c = np.array([x_position(y_i, l_i, l_k, l_a, y_lk, True) for y_i in y_c])\n",
    "\n",
    "    # Spannweitige Positionen der bis ins Unendliche reichenden nichttragenden Wirbel\n",
    "    y_aoo = np.array([-s +  j    * delta_b for j in range(N)])\n",
    "    y_boo = np.array([-s + (j+1) * delta_b for j in range(N)])\n",
    "\n",
    "    # Tiefenposition der bis ins Unendliche reichenden nichttragenden Wirbel\n",
    "    x_aoo = x_a + 100*s\n",
    "    x_boo = x_b + 100*s\n",
    "    \n",
    "    return y_a, y_b, y_c, x_a, x_b, x_c, y_aoo, y_boo, x_aoo, x_boo\n",
    "\n",
    "# Berechnen aller Hufeisenwirbel-Koordinaten\n",
    "y_a, y_b, y_c, x_a, x_b, x_c, y_aoo, y_boo, x_aoo, x_boo = compute_coords(s, N, delta_b, l_i, l_k, l_a, y_lk)"
   ]
  },
  {
   "cell_type": "markdown",
   "metadata": {},
   "source": [
    "### 4.1.5 Berechnung der Koeffizientenmatrix"
   ]
  },
  {
   "cell_type": "markdown",
   "metadata": {},
   "source": [
    "Die Koeffizientenmatrix `a` ist die Summe der gebundenen und freien Wirbel.\n",
    "Die Koeffizientenmatrix der induzierenden Wirbel `a_ind` ist die Summe der freien Wirbel.\n",
    "Die Wirbelstärken `Gamma` werden aus Inverser der Koeffizientenmatrix, Anstellwinkelvektor und Anströmgeschwindigkeit berechnet."
   ]
  },
  {
   "cell_type": "code",
   "execution_count": null,
   "metadata": {},
   "outputs": [],
   "source": [
    "def compute_coeff_matrices(y_a, y_b, y_c, x_a, x_b, x_c):\n",
    "    \"\"\"Berechnet die drei Anteile der Koeffizientenmatrix\"\"\"\n",
    "    \n",
    "    # Initialisieren der Matrizen\n",
    "    a_AB = np.zeros((x_a.size, x_a.size))\n",
    "    a_Aoo = np.zeros((x_a.size, x_a.size))\n",
    "    a_Boo = np.zeros((x_a.size, x_a.size))\n",
    "\n",
    "    # Berechnen der Anteile der gebundenen Wirbel\n",
    "    for j in range(N):\n",
    "        for i in range(N):\n",
    "            a_AB[i, j] = 1 / (4*np.pi) * (1/((x_c[i] - x_a[j])*(y_c[i] - y_b[j]) - (y_c[i] - y_a[j])*(x_c[i] - x_b[j]))) * (((x_b[j] - x_a[j])*(x_c[i] - x_a[j]) + (y_b[j] - y_a[j])*(y_c[i] - y_a[j]))/ np.sqrt((x_c[i] - x_a[j])**2 + (y_c[i] - y_a[j])**2) - ((x_b[j] - x_a[j])*(x_c[i] - x_b[j]) + (y_b[j] - y_a[j])*(y_c[i] - y_b[j]))/ np.sqrt((x_c[i] - x_b[j])**2 + (y_c[i] - y_b[j])**2))\n",
    "\n",
    "    # Berechnen der Anteile der freien Wirbel der linken Seite\n",
    "    for j in range(N):\n",
    "        for i in range(N):\n",
    "            a_Aoo[i, j] = 1 / (4*np.pi) * 1/(y_a[j] - y_c[i]) * ((x_c[i] - x_a[j])/ (np.sqrt((x_c[i] - x_a[j])**2 + (y_c[i] - y_a[j])**2)) + 1)\n",
    "\n",
    "    # Berechnen der Anteile der freien Wirbel der rechten Seite\n",
    "    for j in range(N):\n",
    "        for i in range(N):\n",
    "            a_Boo[i, j] = 1 / (4*np.pi) * 1/(y_b[j] - y_c[i]) * ((x_c[i] - x_b[j])/ (np.sqrt((x_c[i] - x_b[j])**2 + (y_c[i] - y_b[j])**2)) + 1)\n",
    "    \n",
    "    return a_AB, a_Aoo, a_Boo"
   ]
  },
  {
   "cell_type": "code",
   "execution_count": null,
   "metadata": {},
   "outputs": [],
   "source": [
    "# Berechnen der Anteile der Koeffizientenmatrix\n",
    "a_AB, a_Aoo, a_Boo = compute_coeff_matrices(y_a, y_b, y_c, x_a, x_b, x_c)\n",
    "\n",
    "a = a_AB + a_Aoo - a_Boo                # Koeffizientenmatrix\n",
    "a_ind = a_Aoo - a_Boo                   # Koeffizientenmatrix der induzierenden Wirbel\n",
    "alpha_g = np.full((x_a.size), alpha)    # Anstellwinkelvektor\n",
    "\n",
    "# Löst das lineare Gleichungssystem Ax = b, wobei\n",
    "# A - Koeffizientenmatrix a\n",
    "# x - Zirkulationsvektor Gamma\n",
    "# B - Koeffizientenvektor alpha_g * (- U_inf)\n",
    "Gamma = np.linalg.solve(a, alpha_g * (- U_inf)) "
   ]
  },
  {
   "cell_type": "markdown",
   "metadata": {},
   "source": [
    "### 4.1.6 Berechnung von Kräften und Beiwerten\n",
    "#### Auftrieb und Widerstand"
   ]
  },
  {
   "cell_type": "code",
   "execution_count": null,
   "metadata": {},
   "outputs": [],
   "source": [
    "# Berechnung des Auftriebs nach Kutta-Joukowsky\n",
    "A_j = rho * delta_b * U_inf * Gamma\n",
    "A = np.sum(A_j)\n",
    "\n",
    "# Berechnung des induzierten Widerstands\n",
    "w_m = a_ind @ Gamma\n",
    "W_ind = np.sum(-rho *w_m @ Gamma * delta_b)\n",
    "\n",
    "print(\"Auftrieb:                    \", \"%.2f\" % A, \"N\")\n",
    "print(\"Induzierter Widerstand:      \", \"%.2f\" % W_ind, \"N\")"
   ]
  },
  {
   "cell_type": "markdown",
   "metadata": {},
   "source": [
    "#### Auftriebsverteilung"
   ]
  },
  {
   "cell_type": "code",
   "execution_count": null,
   "metadata": {},
   "outputs": [],
   "source": [
    "# Hinzufügen von Endpunkten zum plotten\n",
    "A_j = np.insert(A_j, 0, 0)\n",
    "A_j = np.append(A_j, 0)\n",
    "y_c = np.insert(y_c, 0, -s)\n",
    "y_c = np.append(y_c, s)\n",
    "\n",
    "# Berechnen der Fläche unter der berechneten Auftriebsverteilung\n",
    "area_distr = np.trapz(A_j, y_c)\n",
    "\n",
    "# Erzeugen einer elliptischen Auftriebsverteilung\n",
    "y_elliptisch = np.linspace(-s, s, len(y_c))\n",
    "A_elliptisch_raw = np.sqrt(1 - (y_elliptisch / s) ** 2)\n",
    "\n",
    "# Skalieren der elliptischen Verteilung, sodass die resultierende Auftriebskraft identisch ist\n",
    "area_elliptisch_raw = np.trapz(A_elliptisch_raw, y_elliptisch)\n",
    "scale_factor = area_distr / area_elliptisch_raw\n",
    "A_elliptisch = A_elliptisch_raw * scale_factor\n",
    "\n",
    "# Plotten der Auftriebsverteilungen\n",
    "plt.figure(figsize=(6, 3))\n",
    "plt.plot(y_c, A_j, '-', color=\"black\", label='Berechnete Auftriebsverteilung')\n",
    "plt.plot(y_elliptisch, A_elliptisch, '--', color=\"red\", label='Elliptische Auftriebsverteilung')\n",
    "plt.xlabel('Spannweite [m]')\n",
    "plt.ylabel('Auftrieb [N]')\n",
    "plt.title('Auftriebsverteilung')\n",
    "plt.legend()\n",
    "plt.show()"
   ]
  },
  {
   "cell_type": "markdown",
   "metadata": {},
   "source": [
    "#### Aerodynamische Beiwerte und Oswald-Faktor"
   ]
  },
  {
   "cell_type": "code",
   "execution_count": null,
   "metadata": {},
   "outputs": [],
   "source": [
    "# Auftriebsbeiwert\n",
    "C_A = 2*A / rho / U_inf**2 / S\n",
    "\n",
    "# Widerstandsbeiwert (induziert)\n",
    "C_W_ind = 2*W_ind / rho / U_inf**2 / S\n",
    "\n",
    "# Induzierter Widerstand der elliptischen Zirkulationsverteilung\n",
    "C_W_ind_ell = C_A**2 / AR / np.pi\n",
    "\n",
    "# Oswald Faktor\n",
    "Oswald = C_W_ind_ell / C_W_ind\n",
    "\n",
    "print(\"Auftriebsbeiwert:            \", \"%.5f\" % C_A)\n",
    "print(\"Widerstandsbeiwert:          \", \"%.5f\" % C_W_ind)\n",
    "print(\"Widerstandsbeiwert (Ellipse):\", \"%.5f\" % C_W_ind_ell)\n",
    "print(\"Oswald-Faktor:               \", \"%.3f\" % Oswald)"
   ]
  },
  {
   "cell_type": "markdown",
   "metadata": {},
   "source": [
    "## Aufgabe 1 a) Konvergenzstudie\n",
    "Untersuchen Sie am Beispiel des Rechteckflügels mit $l_i=1$ und $\\Lambda = 10$ das Konvergenzverhalten der aerodynamischen Beiwerte ($C_W$, $C_A$) und des Oswald Faktors hinsichtlich der Abhängigkeit von der Anzahl der Elementarflügel (räumliche Diskretisierung).\n",
    "Entscheiden Sie sich für eine Diskretisierung für alle folgenden Aufgabenteil und begründen Sie diese Entscheidung."
   ]
  },
  {
   "cell_type": "code",
   "execution_count": null,
   "metadata": {},
   "outputs": [],
   "source": [
    "# Rechteckflügel Geometrie\n",
    "l_i = 1\n",
    "l_k = 1\n",
    "l_a = 1\n",
    "AR = 10\n",
    "\n",
    "# Berechnung der Halbspannweite, Kink-Position und Fläche\n",
    "b = AR * (l_k*0.75 + 0.5*(l_i-l_k)*0.75+l_a*(1-0.75)+0.5*(l_k-l_a)*0.25)   \n",
    "s = b / 2 \n",
    "y_lk = 0.75 * s     \n",
    "S = b**2 / AR    "
   ]
  },
  {
   "cell_type": "code",
   "execution_count": null,
   "metadata": {},
   "outputs": [],
   "source": [
    "# Initialisieren der benötigten Variablen\n",
    "N_study = [10, 15, 25, 50, 100, 200, 500, 750, 1000]\n",
    "C_A, C_W_ind, Oswald = [], [], []\n",
    "\n",
    "# Iteration über verschiedene N\n",
    "for c, N in enumerate(N_study):\n",
    "    # Berechnung der Breite eines Elementarflügels\n",
    "    delta_b = b/N\n",
    "    \n",
    "    # Berechnen aller Hufeisenwirbel-Koordinaten\n",
    "    y_a, y_b, y_c, x_a, x_b, x_c, y_aoo, y_boo, x_aoo, x_boo = compute_coords(s, N, delta_b, l_i, l_k, l_a, y_lk)\n",
    "\n",
    "    # Berechnen der Anteile der Koeffizientenmatrix\n",
    "    a_AB, a_Aoo, a_Boo = compute_coeff_matrices(y_a, y_b, y_c, x_a, x_b, x_c)\n",
    "\n",
    "    # Berechnen von Koeffizientenmatrizen und Anstellwinkelvektor\n",
    "    a = a_AB + a_Aoo - a_Boo              \n",
    "    a_ind = a_Aoo - a_Boo                 \n",
    "    alpha_g = np.full((x_a.size), alpha)  \n",
    "\n",
    "    # Berechnen der Kräfte\n",
    "    Gamma = np.linalg.solve(a, alpha_g * (- U_inf))\n",
    "    A_j = rho * delta_b * U_inf * Gamma\n",
    "    A = np.sum(A_j)\n",
    "    w_ind = a_ind @ Gamma\n",
    "    W_ind = np.sum(-rho *w_ind @ Gamma * delta_b)\n",
    "\n",
    "    # Berechnen der Beiwerte\n",
    "    C_A.append(2*A / (rho * U_inf**2 * S))\n",
    "    C_W_ind.append(2*W_ind / (rho * U_inf**2 * S))\n",
    "    C_W_ind_ell = C_A[c]**2 / AR / np.pi\n",
    "\n",
    "    # Berechnen des Oswald-Faktors\n",
    "    Oswald.append(C_W_ind_ell / C_W_ind[c])"
   ]
  },
  {
   "cell_type": "markdown",
   "metadata": {},
   "source": [
    "#### Ergebnisse visualisieren"
   ]
  },
  {
   "cell_type": "code",
   "execution_count": null,
   "metadata": {},
   "outputs": [],
   "source": [
    "# Erstelle ein DataFrame\n",
    "data = {\n",
    "    r'$N$': N_study,\n",
    "    r'$C_A$': [round(num, 3) for num in C_A],\n",
    "    r'$C_{W,ind}$': [round(num, 3) for num in C_W_ind],\n",
    "    r'$e$': [round(num, 3) for num in Oswald]\n",
    "}\n",
    "df = pd.DataFrame(data)\n",
    "\n",
    "fig, axs = plt.subplots(2, 2, figsize=(12, 7))\n",
    "\n",
    "# Plot für C_A\n",
    "axs[1][0].plot(N_study, C_A, marker='o', linestyle='-', color='C0')\n",
    "axs[1][0].set_xlabel(r\"N\")\n",
    "axs[1][0].set_ylabel(r'$C_A$')\n",
    "axs[1][0].set_title(\"Auftriebsbeiwert\")\n",
    "\n",
    "# Plot für C_W_ind\n",
    "axs[1][1].plot(N_study, C_W_ind, marker='s', linestyle='-', color='C1')\n",
    "axs[1][1].set_xlabel(r\"N\")\n",
    "axs[1][1].set_ylabel(r'$C_{W,ind}$')\n",
    "axs[1][1].set_title(\"Widerstandsbeiwert (induziert)\")\n",
    "\n",
    "# Plot für Oswald\n",
    "axs[0][1].plot(N_study, Oswald, marker='^', linestyle='-', color='C2')\n",
    "axs[0][1].set_xlabel(r\"N\")\n",
    "axs[0][1].set_ylabel(r'$e$')\n",
    "axs[0][1].set_title(\"Oswald Faktor\")\n",
    "\n",
    "# Erstelle die Tabelle\n",
    "axs[0][0].axis('tight')\n",
    "axs[0][0].axis('off')\n",
    "table = axs[0][0].table(cellText=df.values, colLabels=df.columns, colColours=[\"lightgray\", \"C0\", \"C1\", \"C2\"], cellLoc='center', loc='center')\n",
    "\n",
    "# Increase row height and font size\n",
    "for key, cell in table.get_celld().items():\n",
    "    cell.set_height(0.1)\n",
    "    cell.set_fontsize(12)\n",
    "\n",
    "plt.tight_layout()\n",
    "plt.show()"
   ]
  },
  {
   "cell_type": "code",
   "execution_count": null,
   "metadata": {},
   "outputs": [],
   "source": [
    "# Mit einer Anzahl von 500 Elementarflügeln wird ein genügend genaues Ergebnis erzielt, die Lösung konvergiert\n",
    "N = 500"
   ]
  },
  {
   "cell_type": "markdown",
   "metadata": {},
   "source": [
    "## Aufgabe 1 c) Optimierung Doppeltrapezflügel\n",
    "Nehmen Sie die Werte `l_i` und `l_a` und `AR` des unter 1 b) gefundenen optimalen Trapezflügels, um daraus einen Doppeltrapezflügel zu erstellen, der bei 75% der Halbspannweite einen Knick in der Spitzung aufweist. Optimieren Sie einen Doppeltrapezflügel wie zuvor, diesmal über eine Variation der Flügeltiefenverteilung $\\lambda = l_k/l_i$ am Knick."
   ]
  },
  {
   "cell_type": "code",
   "execution_count": null,
   "metadata": {},
   "outputs": [],
   "source": [
    "# aus Aufgabe 1 b)\n",
    "l_i = 1.0\n",
    "l_a = 0.3\n",
    "AR = 20"
   ]
  },
  {
   "cell_type": "markdown",
   "metadata": {},
   "source": [
    "#### Iterationsschleife"
   ]
  },
  {
   "cell_type": "code",
   "execution_count": null,
   "metadata": {},
   "outputs": [],
   "source": [
    "# Initialisieren der benötigten Variablen\n",
    "l_k_study = [0.3, 0.4, 0.5, 0.5, 0.6, 0.65, 0.66, 0.665, 0.67, 0.68, 0.685, 0.7, 0.8, 0.9, 1]\n",
    "Oswald = []\n",
    "\n",
    "# Iteration über verschiedene l_k\n",
    "for l_k in l_k_study:\n",
    "    \n",
    "    # Berechnung der Halbspannweite, Kink-Position, Flügelfläche und Elementarflüelbreite\n",
    "    b = AR * (l_k*0.75 + 0.5*(l_i-l_k)*0.75+l_a*(1-0.75)+0.5*(l_k-l_a)*0.25)   \n",
    "    s = b / 2 \n",
    "    y_lk = 0.75 * s     \n",
    "    S = b**2 / AR    \n",
    "    delta_b = b/ N\n",
    "\n",
    "    # Berechnen aller Hufeisenwirbel-Koordinaten\n",
    "    y_a, y_b, y_c, x_a, x_b, x_c, y_aoo, y_boo, x_aoo, x_boo = compute_coords(s, N, delta_b, l_i, l_k, l_a, y_lk) \n",
    "\n",
    "    # Berechnen der Anteile der Koeffizientenmatrix\n",
    "    a_AB, a_Aoo, a_Boo = compute_coeff_matrices(y_a, y_b, y_c, x_a, x_b, x_c)\n",
    "\n",
    "    # Berechnen von Koeffizientenmatrizen und Anstellwinkelvektor\n",
    "    a = a_AB + a_Aoo - a_Boo              \n",
    "    a_ind = a_Aoo - a_Boo                 \n",
    "    alpha_g = np.full((x_a.size), alpha)  \n",
    "\n",
    "    # Berechnen der Kräfte\n",
    "    Gamma = np.linalg.solve(a, alpha_g * (- U_inf))\n",
    "    A_j = rho * delta_b * U_inf * Gamma\n",
    "    A = np.sum(A_j)\n",
    "    w_ind = a_ind @ Gamma\n",
    "    W_ind = np.sum(-rho *w_ind @ Gamma * delta_b)\n",
    "\n",
    "    # Berechnen der Beiwerte\n",
    "    C_A = 2*A / (rho * U_inf**2 * S)\n",
    "    C_W_ind = 2*W_ind / (rho * U_inf**2 * S)\n",
    "    C_W_ind_ell = C_A**2 / AR / np.pi\n",
    "\n",
    "    # Berechnen des Oswald-Faktors\n",
    "    Oswald.append(C_W_ind_ell / C_W_ind)"
   ]
  },
  {
   "cell_type": "markdown",
   "metadata": {},
   "source": [
    "#### Ergebnisse visualisieren"
   ]
  },
  {
   "cell_type": "code",
   "execution_count": null,
   "metadata": {},
   "outputs": [],
   "source": [
    "# Erstelle ein DataFrame\n",
    "data = {\n",
    "    r'$\\lambda$': [round(num, 3) for num in l_k_study],\n",
    "    r'$e$': [round(num, 5) for num in Oswald]\n",
    "}\n",
    "df = pd.DataFrame(data)\n",
    "\n",
    "# Erstelle die Subplots\n",
    "fig, axs = plt.subplots(1, 2, figsize=(12, 5), gridspec_kw={'width_ratios': [1, 2]})\n",
    "colColours = [\"lightgray\", \"C0\"]\n",
    "\n",
    "# Plot für Oswald\n",
    "axs[1].plot(l_k_study, Oswald, marker='^', linestyle='-', color='C0')\n",
    "axs[1].set_xlabel(r\"$\\lambda$\")\n",
    "axs[1].set_ylabel(r'$e$')\n",
    "axs[1].set_title(\"Oswald-Faktor\")\n",
    "\n",
    "# Erstelle die Tabelle\n",
    "axs[0].axis('tight')\n",
    "axs[0].axis('off')\n",
    "table = axs[0].table(cellText=df.values, colLabels=df.columns, colColours=colColours, \n",
    "                    colWidths= [0.3, 0.4], cellLoc='center', loc='center')\n",
    "\n",
    "# Zell-Eigenschaften anpassen\n",
    "for key, cell in table.get_celld().items():\n",
    "    cell.set_height(0.06)\n",
    "    cell.set_fontsize(11)\n",
    "    cell.set_facecolor('white')\n",
    "\n",
    "# Optimum hervorheben und Header Zeile wie plots färben\n",
    "for i, color in enumerate(colColours):\n",
    "    table[(0, i)].set_facecolor(color)\n",
    "table[(8, 1)].set_facecolor('C2')\n",
    "\n",
    "plt.tight_layout()\n",
    "plt.show()"
   ]
  }
 ],
 "metadata": {
  "kernelspec": {
   "display_name": ".venv",
   "language": "python",
   "name": "python3"
  },
  "language_info": {
   "codemirror_mode": {
    "name": "ipython",
    "version": 3
   },
   "file_extension": ".py",
   "mimetype": "text/x-python",
   "name": "python",
   "nbconvert_exporter": "python",
   "pygments_lexer": "ipython3",
   "version": "3.9.6"
  }
 },
 "nbformat": 4,
 "nbformat_minor": 2
}

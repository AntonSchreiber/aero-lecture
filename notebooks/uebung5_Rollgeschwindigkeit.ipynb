{
 "cells": [
  {
   "cell_type": "markdown",
   "metadata": {},
   "source": [
    "# **Übung 5: Rollgeschwindigkeit bei Variation der Streckung**"
   ]
  },
  {
   "cell_type": "code",
   "execution_count": null,
   "metadata": {},
   "outputs": [],
   "source": [
    "# Importieren von Python-Biblioteken\n",
    "import numpy as np\n",
    "import matplotlib.pyplot as plt\n",
    "import pandas as pd\n",
    "from ipywidgets import interact, IntSlider, FloatSlider, fixed, VBox, HBox, Label\n",
    "from mpl_toolkits.mplot3d import axes3d, axis3d\n",
    "from mpl_toolkits.mplot3d.art3d import Poly3DCollection\n",
    "import ipywidgets as widgets\n",
    "\n",
    "# Erhöhen der Plot-Auflösung\n",
    "plt.rcParams[\"figure.dpi\"] = 140"
   ]
  },
  {
   "cell_type": "markdown",
   "metadata": {},
   "source": [
    "### 4.1.1 Visualisierung: Rechteckflügel mit Querrudern"
   ]
  },
  {
   "cell_type": "code",
   "execution_count": null,
   "metadata": {},
   "outputs": [],
   "source": [
    "def rechteckfluegel(AR, xi, l_i, l_a):\n",
    "    \"\"\"Generiert die Planform eines Rechteckflügels mit Rudern\"\"\"\n",
    "    \n",
    "    b = l_a * AR\n",
    "    s = b / 2\n",
    "    l_i = l_a\n",
    "\n",
    "    # ruderbreite und -tiefe \n",
    "    y_ruder = 0.65 * s\n",
    "    x_ruder = 0.8 * l_i\n",
    "    rudertiefe = l_i - x_ruder\n",
    "    \n",
    "    # Flügelpunkte\n",
    "    points_fluegel = np.array([\n",
    "        [0, 0], [s, 0], [s, x_ruder], [y_ruder, x_ruder], \n",
    "        [y_ruder, l_a], [-y_ruder, l_a], [-y_ruder, x_ruder], [-s, x_ruder], [-s, 0], [0, 0]\n",
    "    ])\n",
    "    points_fluegel = [np.append(pt, 0) for pt in points_fluegel]\n",
    "    \n",
    "    # Ruderpunkte links\n",
    "    ruder_links = np.array([\n",
    "        [y_ruder, x_ruder, 0], [s, x_ruder, 0], \n",
    "        [s, x_ruder + rudertiefe * np.cos(np.radians(xi)), -rudertiefe * np.sin(np.radians(xi))], \n",
    "        [y_ruder, x_ruder + rudertiefe * np.cos(np.radians(xi)), -rudertiefe * np.sin(np.radians(xi))],\n",
    "        [y_ruder, x_ruder, 0]\n",
    "    ])\n",
    "    \n",
    "    # Ruderpunkte rechts\n",
    "    ruder_rechts = np.array([\n",
    "        [-y_ruder, x_ruder, 0], [-s, x_ruder, 0], \n",
    "        [-s, x_ruder + rudertiefe * np.cos(np.radians(xi)), -rudertiefe * np.sin(np.radians(xi))], \n",
    "        [-y_ruder, x_ruder + rudertiefe * np.cos(np.radians(xi)), -rudertiefe * np.sin(np.radians(xi))],\n",
    "        [-y_ruder, x_ruder, 0]\n",
    "    ])\n",
    "    \n",
    "    return points_fluegel, ruder_links, ruder_rechts\n",
    "\n",
    "def plot_rechteckfluegel(AR, xi, l_i=1.0, l_a=1.0):\n",
    "    \"\"\"Plottet die Planform eines Rechteckflügels mit verstellbaren Rudern\"\"\"\n",
    "    \n",
    "    points_fluegel, ruder_links, ruder_rechts = rechteckfluegel(AR, xi, l_i, l_a)\n",
    "\n",
    "    fig = plt.figure(figsize=(7, 7))\n",
    "    ax = fig.add_subplot(111, projection='3d')\n",
    "    \n",
    "    # Flügel plotten\n",
    "    fluegel = Poly3DCollection([points_fluegel], color=\"black\", alpha=0.6)\n",
    "    ax.add_collection3d(fluegel)\n",
    "    \n",
    "    # Ruder links plotten\n",
    "    ruder_l = Poly3DCollection([ruder_links], color=\"lightcoral\", alpha=0.6)\n",
    "    ax.add_collection3d(ruder_l)\n",
    "    \n",
    "    # Ruder rechts plotten\n",
    "    ruder_r = Poly3DCollection([ruder_rechts], color=\"lightcoral\", alpha=0.6)\n",
    "    ax.add_collection3d(ruder_r)\n",
    "    \n",
    "    # Achsen skalieren und Label setzen\n",
    "    ax.grid(False)\n",
    "\n",
    "    ax.set_yticks([])\n",
    "    ax.set_zticks([])\n",
    "\n",
    "    ax.view_init(elev=5, azim=30)\n",
    "    plt.gca().set_aspect('equal')\n",
    "    plt.show()\n",
    "\n",
    "def widget_rechteckfluegel():\n",
    "    \"\"\"Erzeugt ein Widget, mit dem sich die Planform eines Rechteckflügels mit verstellbaren Rudern visualisieren lässt\"\"\"\n",
    "\n",
    "    slider_AR = VBox([Label('Streckung'), FloatSlider(value=10, min=5, max=20, step=1)])\n",
    "    slider_xi = VBox([Label('Klappenwinkel [°]'), FloatSlider(value=15, min=-15, max=40, step=1)])\n",
    "    \n",
    "    # Interaktiver plot\n",
    "    ui = VBox([slider_AR,  slider_xi])\n",
    "    out = widgets.interactive_output(plot_rechteckfluegel, {'AR': slider_AR.children[1], 'xi': slider_xi.children[1]\n",
    "    })\n",
    "\n",
    "    # Layout anpassen\n",
    "    out.layout = widgets.Layout(flex='3 1 auto', width='70%')\n",
    "    ui.layout = widgets.Layout(flex='1 1 auto', width='30%')\n",
    "    return HBox([out, ui], layout=widgets.Layout(justify_content='center', align_items='center', width='100%'))"
   ]
  },
  {
   "cell_type": "code",
   "execution_count": null,
   "metadata": {},
   "outputs": [],
   "source": [
    "widget_rechteckfluegel()"
   ]
  },
  {
   "cell_type": "markdown",
   "metadata": {},
   "source": [
    "### 4.1.2 Geometrische Parameter und Randbedinungen"
   ]
  },
  {
   "cell_type": "code",
   "execution_count": null,
   "metadata": {},
   "outputs": [],
   "source": [
    "# Konstant\n",
    "alpha = 0                       # Anstellwinel [deg]\n",
    "alpha = alpha / 180 * np.pi     # Anstellwinel [rad]  \n",
    "U_inf = 10.0                    # Anströmgeschwindigkeit [m/s]\n",
    "rho = 1.225                     # Dichte [kg/m^3]\n",
    "l_i = 1.0                       # Flügeltiefe Rumpfmitte [m]\n",
    "l_a = 1.0                       # Flügeltiefe außen [m]\n",
    "l_r = 0.2                       # Rudertiefe [m]"
   ]
  },
  {
   "cell_type": "markdown",
   "metadata": {},
   "source": [
    "#### 🟠"
   ]
  },
  {
   "cell_type": "code",
   "execution_count": null,
   "metadata": {},
   "outputs": [],
   "source": [
    "# Diese Parameter können verändert werden\n",
    "AR = 10                         # Streckung/ Aspect Ratio\n",
    "xi = 15                         # Klappenwinkel [deg]\n",
    "omega = 0                       # dimensionslose Rollgeschwindigkeit"
   ]
  },
  {
   "cell_type": "markdown",
   "metadata": {},
   "source": [
    "#### Berechnung weiterer geometrischer Parameter"
   ]
  },
  {
   "cell_type": "code",
   "execution_count": null,
   "metadata": {},
   "outputs": [],
   "source": [
    "# Berechnung der Halbspannweite\n",
    "b = (l_i + l_a) * AR / 2\n",
    "s = b / 2 \n",
    "\n",
    "# Berechnung der Flügelfläche aus Halbspannweite und Flügeltiefen\n",
    "S = b/2 * (l_a + l_i)       \n",
    "\n",
    "# Verhältnis Rudertiefe-Flügeltiefe und spannweitige Position\n",
    "lamda = l_r / l_i\n",
    "y_ruder = 0.65 * s\n",
    "\n",
    "# Berechnung des Nullanstellwinkels des Klappenprofils\n",
    "xi = xi * np.pi / 180\n",
    "alpha_0 = - 2 / np.pi * (np.asin(np.sqrt(lamda)) + np.sqrt(lamda * (1 - lamda))) * xi\n",
    "\n",
    "print(\"Halbspannweite:                          \", \"%.2f\" % s, \"m\")\n",
    "print(\"Spannweitige Position der Ruder:         \", \"%.2f\" % y_ruder, \"m\")\n",
    "print(\"Nullanstellwinkel des Klappenprofils:    \", str(round(alpha_0, 2)) + \"°\")"
   ]
  }
 ],
 "metadata": {
  "kernelspec": {
   "display_name": ".venv",
   "language": "python",
   "name": "python3"
  },
  "language_info": {
   "codemirror_mode": {
    "name": "ipython",
    "version": 3
   },
   "file_extension": ".py",
   "mimetype": "text/x-python",
   "name": "python",
   "nbconvert_exporter": "python",
   "pygments_lexer": "ipython3",
   "version": "3.12.4"
  }
 },
 "nbformat": 4,
 "nbformat_minor": 2
}

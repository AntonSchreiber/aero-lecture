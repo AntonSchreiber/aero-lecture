{
 "cells": [
  {
   "cell_type": "markdown",
   "metadata": {},
   "source": [
    "# **Übung 5: Rollgeschwindigkeit bei Variation der Streckung**"
   ]
  },
  {
   "cell_type": "code",
   "execution_count": 369,
   "metadata": {},
   "outputs": [],
   "source": [
    "# Importieren von Python-Biblioteken\n",
    "import numpy as np\n",
    "import matplotlib.pyplot as plt\n",
    "import pandas as pd\n",
    "from ipywidgets import interact, IntSlider, FloatSlider, fixed, VBox, HBox, Label\n",
    "from mpl_toolkits.mplot3d.art3d import Poly3DCollection\n",
    "import plotly.graph_objects as go\n",
    "import ipywidgets as widgets\n",
    "\n",
    "# Erhöhen der Plot-Auflösung\n",
    "plt.rcParams[\"figure.dpi\"] = 140"
   ]
  },
  {
   "cell_type": "markdown",
   "metadata": {},
   "source": [
    "### 4.1.1 Visualisierung: Rechteckflügel mit Querrudern"
   ]
  },
  {
   "cell_type": "code",
   "execution_count": 370,
   "metadata": {},
   "outputs": [],
   "source": [
    "def rechteckfluegel(AR, xi, l_i, l_a):\n",
    "    \"\"\"Generiert die Planform eines Rechteckflügels mit Rudern\"\"\"\n",
    "    \n",
    "    b = l_a * AR\n",
    "    s = b / 2\n",
    "    l_i = l_a\n",
    "\n",
    "    # ruderbreite und -tiefe \n",
    "    y_ruder = 0.65 * s\n",
    "    x_ruder = 0.8 * l_i\n",
    "    rudertiefe = l_i - x_ruder\n",
    "    \n",
    "    # Flügelpunkte\n",
    "    points_fluegel = np.array([\n",
    "        [0, 0], [s, 0], [s, x_ruder], [y_ruder, x_ruder], \n",
    "        [y_ruder, l_a], [-y_ruder, l_a], [-y_ruder, x_ruder], [-s, x_ruder], [-s, 0], [0, 0]\n",
    "    ])\n",
    "    points_fluegel = [np.append(pt, 0) for pt in points_fluegel]\n",
    "    \n",
    "    # Ruderpunkte links\n",
    "    ruder_links = np.array([\n",
    "        [y_ruder, x_ruder, 0], [s, x_ruder, 0], \n",
    "        [s, x_ruder + rudertiefe * np.cos(np.radians(xi)), -rudertiefe * np.sin(np.radians(xi))], \n",
    "        [y_ruder, x_ruder + rudertiefe * np.cos(np.radians(xi)), -rudertiefe * np.sin(np.radians(xi))],\n",
    "        [y_ruder, x_ruder, 0]\n",
    "    ])\n",
    "    \n",
    "    # Ruderpunkte rechts\n",
    "    ruder_rechts = np.array([\n",
    "        [-y_ruder, x_ruder, 0], [-s, x_ruder, 0], \n",
    "        [-s, x_ruder + rudertiefe * np.cos(np.radians(xi)), -rudertiefe * np.sin(np.radians(xi))], \n",
    "        [-y_ruder, x_ruder + rudertiefe * np.cos(np.radians(xi)), -rudertiefe * np.sin(np.radians(xi))],\n",
    "        [-y_ruder, x_ruder, 0]\n",
    "    ])\n",
    "    \n",
    "    return points_fluegel, ruder_links, ruder_rechts\n",
    "\n",
    "def plot_rechteckfluegel(AR, xi, l_i=1.0, l_a=1.0):\n",
    "    \"\"\"Plottet die Planform eines Rechteckflügels mit verstellbaren Rudern\"\"\"\n",
    "    \n",
    "    points_fluegel, ruder_links, ruder_rechts = rechteckfluegel(AR, xi, l_i, l_a)\n",
    "\n",
    "    fig = plt.figure(figsize=(7, 7))\n",
    "    ax = fig.add_subplot(111, projection='3d')\n",
    "    \n",
    "    # Flügel plotten\n",
    "    fluegel = Poly3DCollection([points_fluegel], color=\"black\", alpha=0.6)\n",
    "    ax.add_collection3d(fluegel)\n",
    "    \n",
    "    # Ruder links plotten\n",
    "    ruder_l = Poly3DCollection([ruder_links], color=\"lightcoral\", alpha=0.6)\n",
    "    ax.add_collection3d(ruder_l)\n",
    "    \n",
    "    # Ruder rechts plotten\n",
    "    ruder_r = Poly3DCollection([ruder_rechts], color=\"lightcoral\", alpha=0.6)\n",
    "    ax.add_collection3d(ruder_r)\n",
    "    \n",
    "    # Achsen skalieren und Label setzen\n",
    "    ax.grid(False)\n",
    "\n",
    "    ax.set_yticks([])\n",
    "    ax.set_zticks([])\n",
    "\n",
    "    ax.view_init(elev=10, azim=30)\n",
    "    plt.gca().set_aspect('equal')\n",
    "    plt.show()\n",
    "\n",
    "def widget_rechteckfluegel():\n",
    "    \"\"\"Erzeugt ein Widget, mit dem sich die Planform eines Rechteckflügels mit verstellbaren Rudern visualisieren lässt\"\"\"\n",
    "\n",
    "    slider_AR = VBox([Label('Streckung'), FloatSlider(value=10, min=5, max=20, step=1)])\n",
    "    slider_xi = VBox([Label('Klappenwinkel [°]'), FloatSlider(value=15, min=-15, max=40, step=1)])\n",
    "    \n",
    "    # Interaktiver plot\n",
    "    ui = VBox([slider_AR,  slider_xi])\n",
    "    out = widgets.interactive_output(plot_rechteckfluegel, {'AR': slider_AR.children[1], 'xi': slider_xi.children[1]\n",
    "    })\n",
    "\n",
    "    # Layout anpassen\n",
    "    out.layout = widgets.Layout(flex='3 1 auto', width='70%')\n",
    "    ui.layout = widgets.Layout(flex='1 1 auto', width='30%')\n",
    "    return HBox([out, ui], layout=widgets.Layout(justify_content='center', align_items='center', width='100%'))"
   ]
  },
  {
   "cell_type": "code",
   "execution_count": 371,
   "metadata": {},
   "outputs": [
    {
     "data": {
      "application/vnd.jupyter.widget-view+json": {
       "model_id": "d33fc401e7924715bbb5f11a837ff286",
       "version_major": 2,
       "version_minor": 0
      },
      "text/plain": [
       "HBox(children=(Output(layout=Layout(flex='3 1 auto', width='70%')), VBox(children=(VBox(children=(Label(value=…"
      ]
     },
     "execution_count": 371,
     "metadata": {},
     "output_type": "execute_result"
    }
   ],
   "source": [
    "widget_rechteckfluegel()"
   ]
  },
  {
   "cell_type": "markdown",
   "metadata": {},
   "source": [
    "### 4.1.2 Geometrische Parameter und Randbedinungen"
   ]
  },
  {
   "cell_type": "code",
   "execution_count": 372,
   "metadata": {},
   "outputs": [],
   "source": [
    "# Konstant\n",
    "alpha = 0                       # Anstellwinel [deg]\n",
    "alpha = alpha / 180 * np.pi     # Anstellwinel [rad]  \n",
    "U_inf = 10.0                    # Anströmgeschwindigkeit [m/s]\n",
    "rho = 1.225                     # Dichte [kg/m^3]\n",
    "l_i = 1.0                       # Flügeltiefe Rumpfmitte [m]\n",
    "l_a = 1.0                       # Flügeltiefe außen [m]\n",
    "l_r = 0.2                       # Rudertiefe [m]"
   ]
  },
  {
   "cell_type": "markdown",
   "metadata": {},
   "source": [
    "#### 🟠"
   ]
  },
  {
   "cell_type": "code",
   "execution_count": 373,
   "metadata": {},
   "outputs": [],
   "source": [
    "# Diese Parameter können verändert werden\n",
    "AR = 10                         # Streckung/ Aspect Ratio\n",
    "xi = 15                         # Klappenwinkel [deg]\n",
    "omega = 1                       # dimensionslose Rollgeschwindigkeit"
   ]
  },
  {
   "cell_type": "markdown",
   "metadata": {},
   "source": [
    "#### Berechnung weiterer geometrischer Parameter"
   ]
  },
  {
   "cell_type": "code",
   "execution_count": 374,
   "metadata": {},
   "outputs": [
    {
     "name": "stdout",
     "output_type": "stream",
     "text": [
      "Halbspannweite:                           5.00 m\n",
      "Spannweitige Position der Ruder:          3.25 m\n",
      "Nullanstellwinkel des Klappenprofils:     -0.14°\n"
     ]
    }
   ],
   "source": [
    "# Berechnung der Halbspannweite\n",
    "b = (l_i + l_a) * AR / 2\n",
    "s = b / 2 \n",
    "\n",
    "# Berechnung der Flügelfläche aus Halbspannweite und Flügeltiefen\n",
    "S = b/2 * (l_a + l_i)       \n",
    "\n",
    "# Verhältnis Rudertiefe-Flügeltiefe und spannweitige Position\n",
    "lamda = l_r / l_i\n",
    "y_ruder = 0.65 * s\n",
    "\n",
    "# Berechnung des Nullanstellwinkels des Klappenprofils\n",
    "xi = xi * np.pi / 180\n",
    "alpha_0 = - 2 / np.pi * (np.asin(np.sqrt(lamda)) + np.sqrt(lamda * (1 - lamda))) * xi\n",
    "\n",
    "# Berechnung der Breite eines Elementarflügels\n",
    "N = 500\n",
    "delta_b = b/ N\n",
    "\n",
    "print(\"Halbspannweite:                          \", \"%.2f\" % s, \"m\")\n",
    "print(\"Spannweitige Position der Ruder:         \", \"%.2f\" % y_ruder, \"m\")\n",
    "print(\"Nullanstellwinkel des Klappenprofils:    \", str(round(alpha_0, 2)) + \"°\")"
   ]
  },
  {
   "cell_type": "markdown",
   "metadata": {},
   "source": [
    "### 4.1.4 Berechnung der Hufeisenwirbel-Koordinaten"
   ]
  },
  {
   "cell_type": "code",
   "execution_count": 375,
   "metadata": {},
   "outputs": [],
   "source": [
    "def x_position(y, l_i, l_a, s, aufpunkt=False):\n",
    "    \"\"\"Berechnet die Tiefenposition der Punkte A und B und des Aufpunkts C\"\"\"\n",
    "\n",
    "    tiefe = 0.75 if aufpunkt else 0.25\n",
    "    return abs(y) / s * (l_i - l_a) / 2 + tiefe * (l_i - abs(y) / s * (l_i - l_a))\n",
    "\n",
    "\n",
    "def compute_coords(s, N, delta_b, l_i, l_a):\n",
    "    \"\"\"Berechnet die Hufeisenwirbel-Koordinaten aus Basis der Flügelgeometrie und Anzahl der Elementarflügel\"\"\"\n",
    "\n",
    "    # Spannweitige Positionen der Punkte A, B und Aufpunkt C\n",
    "    y_a = np.array([-s +  j    * delta_b for j in range(N)])\n",
    "    y_b = np.array([-s + (j+1) * delta_b for j in range(N)])\n",
    "    y_c = np.array([-s + delta_b/2 + i*delta_b for i in range(N)])\n",
    "    \n",
    "    # Tiefenposition der Punkte A und B und des Aufpunkts C\n",
    "    x_a = np.array([x_position(y_i, l_i, l_a, s) for y_i in y_a])\n",
    "    x_b = np.array([x_position(y_i, l_i, l_a, s) for y_i in y_b])\n",
    "    x_c = np.array([x_position(y_i, l_i, l_a, s, True) for y_i in y_c])\n",
    "\n",
    "    # Spannweitige Positionen der bis ins Unendliche reichenden nichttragenden Wirbel\n",
    "    y_aoo = np.array([-s +  j    * delta_b for j in range(N)])\n",
    "    y_boo = np.array([-s + (j+1) * delta_b for j in range(N)])\n",
    "\n",
    "    # Tiefenposition der bis ins Unendliche reichenden nichttragenden Wirbel\n",
    "    x_aoo = x_a + 100*s\n",
    "    x_boo = x_b + 100*s\n",
    "\n",
    "    return y_a, y_b, y_c, x_a, x_b, x_c, y_aoo, y_boo, x_aoo, x_boo\n",
    "\n",
    "# Berechnen aller Hufeisenwirbel-Koordinaten\n",
    "y_a, y_b, y_c, x_a, x_b, x_c, y_aoo, y_boo, x_aoo, x_boo = compute_coords(s, N, delta_b, l_i, l_a)"
   ]
  },
  {
   "cell_type": "code",
   "execution_count": 376,
   "metadata": {},
   "outputs": [],
   "source": [
    "def compute_coeff_matrices(y_a, y_b, y_c, x_a, x_b, x_c):\n",
    "    \"\"\"Berechnet die drei Anteile der Koeffizientenmatrix\"\"\"\n",
    "    \n",
    "    # Initialisieren der Matrizen\n",
    "    a_AB = np.zeros((x_a.size, x_a.size))\n",
    "    a_Aoo = np.zeros((x_a.size, x_a.size))\n",
    "    a_Boo = np.zeros((x_a.size, x_a.size))\n",
    "\n",
    "    # Berechnen der Anteile der gebundenen Wirbel\n",
    "    for j in range(N):\n",
    "        for i in range(N):\n",
    "            a_AB[i, j] = 1 / (4*np.pi) * (1/((x_c[i] - x_a[j])*(y_c[i] - y_b[j]) - (y_c[i] - y_a[j])*(x_c[i] - x_b[j]))) * (((x_b[j] - x_a[j])*(x_c[i] - x_a[j]) + (y_b[j] - y_a[j])*(y_c[i] - y_a[j]))/ np.sqrt((x_c[i] - x_a[j])**2 + (y_c[i] - y_a[j])**2) - ((x_b[j] - x_a[j])*(x_c[i] - x_b[j]) + (y_b[j] - y_a[j])*(y_c[i] - y_b[j]))/ np.sqrt((x_c[i] - x_b[j])**2 + (y_c[i] - y_b[j])**2))\n",
    "\n",
    "    # Berechnen der Anteile der freien Wirbel der linken Seite\n",
    "    for j in range(N):\n",
    "        for i in range(N):\n",
    "            a_Aoo[i, j] = 1 / (4*np.pi) * 1/(y_a[j] - y_c[i]) * ((x_c[i] - x_a[j])/ (np.sqrt((x_c[i] - x_a[j])**2 + (y_c[i] - y_a[j])**2)) + 1)\n",
    "\n",
    "    # Berechnen der Anteile der freien Wirbel der rechten Seite\n",
    "    for j in range(N):\n",
    "        for i in range(N):\n",
    "            a_Boo[i, j] = 1 / (4*np.pi) * 1/(y_b[j] - y_c[i]) * ((x_c[i] - x_b[j])/ (np.sqrt((x_c[i] - x_b[j])**2 + (y_c[i] - y_b[j])**2)) + 1)\n",
    "    \n",
    "    return a_AB, a_Aoo, a_Boo"
   ]
  },
  {
   "cell_type": "code",
   "execution_count": 377,
   "metadata": {},
   "outputs": [],
   "source": [
    "# Berechnen der Anteile der Koeffizientenmatrix\n",
    "a_AB, a_Aoo, a_Boo = compute_coeff_matrices(y_a, y_b, y_c, x_a, x_b, x_c)\n",
    "\n",
    "a = a_AB + a_Aoo - a_Boo                # Koeffizientenmatrix\n",
    "alpha_g = np.full((a.shape[0]), alpha)  # Anstellwinkelvektor\n",
    "alpha_vec = np.full((a.shape[0]), alpha)\n",
    "\n",
    "for i in range(alpha_vec.shape[0]):\n",
    "    if y_c[i] < -y_ruder and y_c[i] < 0:\n",
    "        alpha_vec[i] = alpha_g[i] + alpha_0\n",
    "    else:\n",
    "        alpha_vec[i] = alpha_g[i] - alpha_0\n",
    "\n",
    "# dimensionslose Position der Aufpunkte\n",
    "eta = y_c / s\n",
    "\n",
    "# Löst das lineare Gleichungssystem Ax = b, wobei\n",
    "# A - Koeffizientenmatrix a\n",
    "# x - Zirkulationsvektor Gamma\n",
    "# B - Koeffizientenvektor alpha_g * (- U_inf)\n",
    "Gamma = np.linalg.solve(a, alpha_vec * (- U_inf)) \n",
    "Gamma_2 = np.linalg.solve(a, eta * omega * (- U_inf)) \n",
    "\n",
    "gamma = Gamma / 2 / s / U_inf\n",
    "gamma_2 = Gamma / 2 / s / U_inf"
   ]
  },
  {
   "cell_type": "code",
   "execution_count": 378,
   "metadata": {},
   "outputs": [
    {
     "name": "stdout",
     "output_type": "stream",
     "text": [
      "0.11271486244837502\n",
      "12.916171813378993\n"
     ]
    }
   ],
   "source": [
    "A_i_ruder = rho * delta_b * U_inf * Gamma\n",
    "A_ruder = np.sum(A_i_ruder)\n",
    "A_i_rollen = rho * delta_b * U_inf * Gamma_2\n",
    "A_rollen = np.sum(A_i_rollen)\n",
    "\n",
    "C_A_ruder = 2*A_ruder / rho / U_inf**2 / S\n",
    "C_A_rollen = 2*A_rollen / rho / U_inf**2 / S\n",
    "\n",
    "rollmoment_ruder = np.sum(-y_c * A_i_ruder)\n",
    "rollmoment = np.sum(-y_c * A_i_rollen)\n",
    "\n",
    "C_L_ruder = 2*rollmoment_ruder / rho / U_inf**2 / S / s\n",
    "C_L_rollen = 2*rollmoment / rho / U_inf**2 / S / s\n",
    "\n",
    "omega_max = C_L_ruder / C_L_rollen\n",
    "w_x = omega_max / s * U_inf * 180 / np.pi\n",
    "\n",
    "print(omega_max)\n",
    "print(w_x)"
   ]
  },
  {
   "cell_type": "markdown",
   "metadata": {},
   "source": [
    "## Aufgabe 3 b) Rollgeschwindigkeit bei Variation der Streckung\n",
    "\n",
    "Untersuchen Sie die Rollgeschwindigkeit (dimensionslos und - behaftet) für einen Streckungsbereich  $\\Lambda = [3, 100]$, für den maximalen Klappenausschlag $\\xi=15^\\circ$ bei $u_\\infty=10 m/s$."
   ]
  },
  {
   "cell_type": "code",
   "execution_count": 379,
   "metadata": {},
   "outputs": [],
   "source": [
    "xi = 15                         # Klappenwinkel [deg]\n",
    "omega = 1                       # dimensionslose Rollgeschwindigkeit"
   ]
  },
  {
   "cell_type": "code",
   "execution_count": 380,
   "metadata": {},
   "outputs": [],
   "source": [
    "# Initialisieren der benötigten Variablen\n",
    "AR_study = [3, 5, 10, 15, 20, 30, 50, 75, 100]\n",
    "s = []\n",
    "Omega_max = []\n",
    "omega_x = []\n",
    "\n",
    "# Iteration über verschiedene AR und l_a\n",
    "for j, AR in enumerate(AR_study):\n",
    "    # Berechnung der Halbspannweite, Fläche und Elementarflügelbreite\n",
    "    b = (l_i + l_a) * AR / 2\n",
    "    s.append(b / 2)\n",
    "    S = b/2 * (l_a + l_i)  \n",
    "    y_ruder = 0.65 * s[j]\n",
    "    delta_b = b/N\n",
    "\n",
    "    # Berechnen aller Hufeisenwirbel-Koordinaten\n",
    "    y_a, y_b, y_c, x_a, x_b, x_c, y_aoo, y_boo, x_aoo, x_boo = compute_coords(s[j], N, delta_b, l_i, l_a) \n",
    "\n",
    "    # Berechnen der Anteile der Koeffizientenmatrix\n",
    "    a_AB, a_Aoo, a_Boo = compute_coeff_matrices(y_a, y_b, y_c, x_a, x_b, x_c)\n",
    "    \n",
    "    # Berechnen der Zirkulation, Kräfte, Momente und schließlich der Rollgeschwindigkeit\n",
    "    a = a_AB + a_Aoo - a_Boo                # Koeffizientenmatrix\n",
    "    a_inv = np.linalg.inv(a)                 # ?\n",
    "    alpha_g = np.full((a.shape[0]), alpha)  # Anstellwinkelvektor\n",
    "    alpha_vec = np.full((a.shape[0]), alpha)\n",
    "\n",
    "    for i in range(alpha_vec.shape[0]):\n",
    "        if y_c[i] < -y_ruder and y_c[i] < 0:\n",
    "            alpha_vec[i] = alpha_g[i] + alpha_0\n",
    "        else:\n",
    "            alpha_vec[i] = alpha_g[i] - alpha_0\n",
    "\n",
    "    # dimensionslose Position der Aufpunkte\n",
    "    eta = y_c / s[j]\n",
    "\n",
    "    # Löst das lineare Gleichungssystem Ax = b, wobei\n",
    "    # A - Koeffizientenmatrix a\n",
    "    # x - Zirkulationsvektor Gamma\n",
    "    # B - Koeffizientenvektor alpha_g * (- U_inf)\n",
    "    Gamma = np.linalg.solve(a, alpha_vec * (- U_inf)) \n",
    "    Gamma_2 = np.linalg.solve(a, eta * omega * (- U_inf)) \n",
    "\n",
    "    gamma = Gamma / 2 / s[j] / U_inf\n",
    "    gamma_2 = Gamma / 2 / s[j] / U_inf\n",
    "    \n",
    "    A_i_ruder = rho * delta_b * U_inf * Gamma\n",
    "    A_ruder = np.sum(A_i_ruder)\n",
    "    A_i_rollen = rho * delta_b * U_inf * Gamma_2\n",
    "    A_rollen = np.sum(A_i_rollen)\n",
    "\n",
    "    C_A_ruder = 2*A_ruder / rho / U_inf**2 / S\n",
    "    C_A_rollen = 2*A_rollen / rho / U_inf**2 / S\n",
    "\n",
    "    rollmoment_ruder = np.sum(-y_c * A_i_ruder)\n",
    "    rollmoment = np.sum(-y_c * A_i_rollen)\n",
    "\n",
    "    C_L_ruder = 2*rollmoment_ruder / rho / U_inf**2 / S / s[j]\n",
    "    C_L_rollen = 2*rollmoment / rho / U_inf**2 / S / s[j]\n",
    "\n",
    "    Omega_max.append(C_L_ruder / C_L_rollen)\n",
    "    omega_x.append(Omega_max[j] / s[j] * U_inf * 180 / np.pi)"
   ]
  },
  {
   "cell_type": "code",
   "execution_count": 391,
   "metadata": {},
   "outputs": [
    {
     "data": {
      "image/png": "[encoded data removed]",
      "text/plain": [
       "<Figure size 1260x700 with 3 Axes>"
      ]
     },
     "metadata": {},
     "output_type": "display_data"
    }
   ],
   "source": [
    "# Ergebnisse plotten\n",
    "fig= plt.figure(figsize=(9, 5))\n",
    "colColours = [\"lightgray\", \"lightgray\", \"C0\", \"firebrick\"]\n",
    "\n",
    "# Hinzufügen von subplots um ein Layout zu erzeugen\n",
    "ax1 = fig.add_subplot(1, 2, 1)  # oben link und unten links\n",
    "ax2 = fig.add_subplot(2, 2, 2)  # oben rechts\n",
    "ax3 = fig.add_subplot(2, 2, 4)  # unten rechts\n",
    "\n",
    "# Die Achse für die Tabelle ausschalten\n",
    "ax1.axis('off')\n",
    "\n",
    "# Erstelle ein DataFrame\n",
    "data = {\n",
    "    r'$\\Lambda$': AR_study,\n",
    "    r'$s$': [round(num, 1) for num in s],\n",
    "    r'$\\Omega_{max}$': [round(num, 3) for num in Omega_max],\n",
    "    r'$w[^\\circ/s]$': [round(num, 3) for num in omega_x]\n",
    "}\n",
    "df = pd.DataFrame(data)\n",
    "\n",
    "# Erstelle die Tabelle\n",
    "ax1.axis('tight')\n",
    "ax1.axis('off')\n",
    "table = ax1.table(cellText=df.values, colLabels=df.columns, colColours=colColours, \n",
    "                    colWidths= [0.17, 0.17, 0.25, 0.25], cellLoc='center', loc='center')\n",
    "\n",
    "# Zell-Eigenschaften anpassen\n",
    "for key, cell in table.get_celld().items():\n",
    "    cell.set_height(0.08)\n",
    "    cell.set_fontsize(11)\n",
    "\n",
    "# Plot für omega_max\n",
    "ax2.plot(AR_study, Omega_max, linestyle='-', color=colColours[2])\n",
    "ax2.set_xlabel(r\"$\\Lambda$\")\n",
    "ax2.set_ylabel(r'$\\Omega_{max}$')\n",
    "\n",
    "# Plot für w\n",
    "ax3.plot(AR_study, omega_x, linestyle='-', color=colColours[3])\n",
    "ax3.set_xlabel(r\"$\\Lambda$\")\n",
    "ax3.set_ylabel(r'$w[^\\circ/s]$')\n",
    "\n",
    "plt.tight_layout()\n",
    "plt.show()"
   ]
  },
  {
   "cell_type": "code",
   "execution_count": null,
   "metadata": {},
   "outputs": [],
   "source": []
  },
  {
   "cell_type": "code",
   "execution_count": null,
   "metadata": {},
   "outputs": [],
   "source": []
  }
 ],
 "metadata": {
  "kernelspec": {
   "display_name": ".venv",
   "language": "python",
   "name": "python3"
  },
  "language_info": {
   "codemirror_mode": {
    "name": "ipython",
    "version": 3
   },
   "file_extension": ".py",
   "mimetype": "text/x-python",
   "name": "python",
   "nbconvert_exporter": "python",
   "pygments_lexer": "ipython3",
   "version": "3.12.4"
  }
 },
 "nbformat": 4,
 "nbformat_minor": 2
}

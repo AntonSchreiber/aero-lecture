{
 "cells": [
  {
   "cell_type": "markdown",
   "metadata": {},
   "source": [
    "# **Übung 8, Teil 2: Numerische Lösung der nicht-viskosen Burgersgleichung**"
   ]
  },
  {
   "cell_type": "code",
   "execution_count": null,
   "metadata": {},
   "outputs": [],
   "source": [
    "import numpy as np\n",
    "import matplotlib.pyplot as plt\n",
    "import matplotlib.animation as animation\n",
    "from IPython.display import display, HTML\n",
    "import pandas as pd\n",
    "\n",
    "# Erhöhen der Plot-Auflösung\n",
    "plt.rcParams[\"figure.dpi\"] = 140\n",
    "\n",
    "XLIM = [0, 1]\n",
    "YLIM1 = [-0.5, 1.5]\n",
    "YLIM2 = [-1.1, 1.1]"
   ]
  },
  {
   "cell_type": "markdown",
   "metadata": {},
   "source": [
    "### **8.2.1 Numerische Parameter**"
   ]
  },
  {
   "cell_type": "code",
   "execution_count": null,
   "metadata": {},
   "outputs": [],
   "source": [
    "m = 100             # Anzahl der Stützstellen\n",
    "dx = 1 / m          # räumliche Schrittweite\n",
    "n = 200             # Anzahl Zeitschritte\n",
    "cfl = 1             # CFL-Zahl\n",
    "k2 = 0.5            # Skalierungsterm"
   ]
  },
  {
   "cell_type": "code",
   "execution_count": null,
   "metadata": {},
   "outputs": [],
   "source": [
    "def initial_cond(x):\n",
    "    \"\"\" Erzeugt eine Testfunktion mit Diskontinuität \"\"\"\n",
    "    u_0 = np.ones_like(x) \n",
    "    u_0[x > 0.2] = 0    \n",
    "    return u_0\n",
    "\n",
    "\n",
    "def prop_speed(u, i, j):\n",
    "    \"\"\" Berechnet die analytische Stoßgeschwindigkeit \"\"\"\n",
    "    return 0.5 * (u[i-1, j] + u[i+1, j])\n",
    "\n",
    "\n",
    "def get_dt(u , j):\n",
    "    \"\"\" Berechnet die neue Zeitschrittweite dt basierend auf der maximalen Ausbreitungsgeschwindigkeit des letzten Zeitschritts \"\"\"\n",
    "    u_max = np.max(u[:, j])\n",
    "    u_min = np.min(u[:, j])\n",
    "\n",
    "    return dx * cfl / max(u_max, abs(u_min))\n",
    "\n",
    "\n",
    "def t_total(u, j):\n",
    "    \"\"\" Berechnete die bis zum Zeitschritt j vergangene Zeit\"\"\"\n",
    "    return sum([get_dt(u, i) for i in range(1, j+1)])\n",
    "\n",
    "\n",
    "def apply_BC(u, j):\n",
    "    \"\"\" Setzt die Randbedinungen \"\"\"\n",
    "    u[0, j] = 1\n",
    "    u[-1, j] = 0        # theoretisch überflüssig, da u als Matrix mit Werten 0 initialisiert wird\n",
    "\n",
    "    c0 = prop_speed(u, 1, j-1)\n",
    "    if c0 < 0:\n",
    "        u[0, j] = u[1, j-1]\n",
    "    \n",
    "    c1 = prop_speed(u, m-1, j-1)\n",
    "    if c1 > 0:\n",
    "        u[-1, j] = u[-2, j - 1]\n",
    "\n",
    "    return u\n",
    "\n",
    "\n",
    "def d2(u, i, j): \n",
    "    \"\"\" 2. Differenzen \"\"\"\n",
    "    return (abs(0.5 * (u[i+1, j] + u[i, j])) * (u[i+1, j] - u[i, j]) - abs(0.5 * (u[i-1, j] + u[i, j])) * (u[i, j] - u[i-1, j])) / dx\n",
    "\n",
    "\n",
    "# Löser-Schleife\n",
    "def simple_solver(u, dx, n, m):\n",
    "    \"\"\" \n",
    "    Zeitlich:   Einstufiges, explizites Zeitschrittverfahren (1. Ordnung) \n",
    "    Räumlich:   Zentrales Schema + 2. Differenzen (1. Ordnung)\n",
    "    \"\"\"\n",
    "    for j in range(1, n + 1):\n",
    "        u = apply_BC(u, j)\n",
    "        dt = get_dt(u, j-1)\n",
    "        for i in range(1, m):\n",
    "            c = prop_speed(u, i, j-1)\n",
    "            u[i, j] = u[i, j-1] - dt * (c * (u[i+1, j-1] - u[i-1, j-1]) / 2 / dx - k2 * d2(u, i, j-1))\n",
    "            \n",
    "    return u"
   ]
  },
  {
   "cell_type": "markdown",
   "metadata": {},
   "source": [
    "### **8.2.2 Gitterpunkte und Anfangslösung erzeugen**"
   ]
  },
  {
   "cell_type": "code",
   "execution_count": null,
   "metadata": {},
   "outputs": [],
   "source": [
    "# Gitterpunkte \n",
    "x = np.linspace(0, 1, m + 1)   \n",
    "\n",
    "# Lösungsmatrix für u initialisieren:\n",
    "#   - die räumliche Ausbreitung zum Zeitpunkt t ist in Spalte t untergebracht u[:, t]\n",
    "#   - die zeitliche Ausbreitung am Ort x ist in Reihe x untergebracht u[x, :]\n",
    "u = np.zeros((m + 1, n + 1))   \n",
    "\n",
    "# Anfangsbedingung\n",
    "u[:, 0] = initial_cond(x)"
   ]
  },
  {
   "cell_type": "code",
   "execution_count": null,
   "metadata": {},
   "outputs": [],
   "source": [
    "# Visualisierung der Anfangslösung\n",
    "plt.figure(figsize=(6, 3))\n",
    "plt.plot(x, initial_cond(x), color=\"gray\")\n",
    "plt.title('Diskontinuität (Stoß) als Anfangslösung')\n",
    "plt.xlabel('x')\n",
    "plt.ylabel(r'$u(x, t=0)$')\n",
    "plt.grid(True)\n",
    "plt.xlim(XLIM)\n",
    "plt.ylim(YLIM1)\n",
    "plt.tight_layout()\n",
    "plt.show()"
   ]
  },
  {
   "cell_type": "markdown",
   "metadata": {},
   "source": [
    "### **8.2.3 Numerische Lösung**"
   ]
  },
  {
   "cell_type": "code",
   "execution_count": null,
   "metadata": {},
   "outputs": [],
   "source": [
    "# Animation der Lösung\n",
    "def animation_u(title, YLIM, u=u):\n",
    "    fig, ax = plt.subplots(figsize=(6, 3))\n",
    "    ax.set_xlim(XLIM)\n",
    "    ax.set_ylim(YLIM)\n",
    "    ax.set_title(f\"{title}, t = 0\")\n",
    "    ax.plot(x, u[:, 0], lw=2, color=\"gray\", label='Anfangslösung')\n",
    "    line, = ax.plot([], [], lw=2, color=\"firebrick\", label='Lösung')\n",
    "    ax.set_xlabel('x')\n",
    "    ax.set_ylabel(r'$u(x, t)$')\n",
    "    ax.grid(True)\n",
    "    ax.legend(loc=\"upper right\")\n",
    "    plt.tight_layout()\n",
    "\n",
    "    def animate(j):\n",
    "        line.set_data(x, u[:, j])\n",
    "        ax.set_title(f\"{title} (t = {t_total(u, j):.2f} s, n = {j})\")\n",
    "        return line,\n",
    "\n",
    "    ani = animation.FuncAnimation(fig, animate, frames=n, interval=50, blit=True)\n",
    "    plt.close(fig)\n",
    "    return ani"
   ]
  },
  {
   "cell_type": "code",
   "execution_count": null,
   "metadata": {},
   "outputs": [],
   "source": [
    "u = simple_solver(u, dx, n, m)\n",
    "\n",
    "ani = animation_u(\"Lösung der Burgersgleichung\", YLIM=YLIM1)\n",
    "HTML(ani.to_jshtml())"
   ]
  },
  {
   "cell_type": "code",
   "execution_count": null,
   "metadata": {},
   "outputs": [],
   "source": [
    "# Anfansgebdinung überschreiben\n",
    "def initial_cond(x):\n",
    "    \"\"\" Erzeugt eine Testfunktion in Sinus-Form \"\"\"\n",
    "    return np.sin(np.pi * (x + 0.5)) \n",
    "\n",
    "# Randbedingungen +berschreiben\n",
    "def apply_BC(u, j):\n",
    "    \"\"\" Setzt die Randbedinungen \"\"\"\n",
    "    u[0, j] = 1\n",
    "    u[-1, j] = -1        # theoretisch überflüssig, da u als Matrix mit Werten 0 initialisiert wird\n",
    "\n",
    "    c0 = prop_speed(u, 1, j-1)\n",
    "    if c0 < 0:\n",
    "        u[0, j] = u[1, j-1]\n",
    "    \n",
    "    c1 = prop_speed(u, m-1, j-1)\n",
    "    if c1 > 0:\n",
    "        u[-1, j] = u[-2, j - 1]\n",
    "\n",
    "    return u"
   ]
  },
  {
   "cell_type": "code",
   "execution_count": null,
   "metadata": {},
   "outputs": [],
   "source": [
    "m_study = [25, 50, 100, 200]\n",
    "\n",
    "for m in m_study:\n",
    "    n = m                           # Anzahl Zeitschritte setzen\n",
    "    dx = 1 / m                      # Raumschrittweite\n",
    "    x = np.linspace(0, 1, m + 1)    # Gitterpunkte \n",
    "    u = np.zeros((m + 1, n + 1))    # Lösungsmatrix\n",
    "    u[:, 0] = initial_cond(x)       # Anfangsbedingung\n",
    "\n",
    "    u = simple_solver(u, dx, n, m)  # Löser-Schleife\n",
    "\n",
    "    ani = animation_u(f\"m = {m}\", YLIM=YLIM2, u=u)\n",
    "    display(HTML(ani.to_jshtml()))"
   ]
  },
  {
   "cell_type": "code",
   "execution_count": null,
   "metadata": {},
   "outputs": [],
   "source": [
    "# Ergebnisse plotten\n",
    "fig= plt.figure(figsize=(5, 3))\n",
    "colColours = [\"lightgray\", \"lightgray\", \"lightgray\"]\n",
    "\n",
    "# Erstelle ein DataFrame\n",
    "data = {\n",
    "    r'$m$': m_study,\n",
    "    r'$n$ bis stationär': [12, 24, 48, 95],\n",
    "    r'$t$ bis stationär [s]': [0.48, 0.48, 0.48, 0.48]\n",
    "}\n",
    "df = pd.DataFrame(data)\n",
    "\n",
    "# Erstelle die Tabelle\n",
    "plt.axis('tight')\n",
    "plt.axis('off')\n",
    "table = plt.table(cellText=df.values, colLabels=df.columns, colColours=colColours, colWidths= [0.2, 0.4, 0.4], cellLoc='center', loc='center')\n",
    "\n",
    "# Zell-Eigenschaften anpassen\n",
    "for key, cell in table.get_celld().items():\n",
    "    cell.set_height(0.12)\n",
    "    cell.set_fontsize(12)"
   ]
  }
 ],
 "metadata": {
  "kernelspec": {
   "display_name": ".venv",
   "language": "python",
   "name": "python3"
  },
  "language_info": {
   "codemirror_mode": {
    "name": "ipython",
    "version": 3
   },
   "file_extension": ".py",
   "mimetype": "text/x-python",
   "name": "python",
   "nbconvert_exporter": "python",
   "pygments_lexer": "ipython3",
   "version": "3.12.4"
  }
 },
 "nbformat": 4,
 "nbformat_minor": 2
}

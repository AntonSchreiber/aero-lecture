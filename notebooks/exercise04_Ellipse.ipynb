{
 "cells": [
  {
   "cell_type": "markdown",
   "metadata": {},
   "source": [
    "# Übung 4.1 : Das Traglinienverfahren und die Prandtl'sche Tragflügeltheorie - Ellipsenflügel"
   ]
  },
  {
   "cell_type": "markdown",
   "metadata": {},
   "source": [
    "<div style=\"text-align: justify\"> </p>Die Übung 4 ist die erste von insgesamt fünf computer-basierten Übungen und soll einen ersten Einblick in aerodynamische Optimierungsaufgaben geben und wie sie mit Algorithmen gelöst werden können. </p>\n",
    "\n",
    "Die **Prandtl'sche Traglinientheorie (engl. \"lifting line theory\")** besteht seit der Zeit des ersten Weltkrieges und findet heutzutage immernoch Anwendung. Darauf basierend wird das numerische Traglinienverfahren als analytische Methode eingesetzt, um im Flügel-Vorentwurf Vorhersagen über Effizienz und Verluste von Tragflügeln endlicher Streckung zu treffen.\n",
    "\n",
    "Was liefert die Traglinientheorie?\n",
    "- Auftriebsverteilung entlang der Spannweite\n",
    "- Auftriebskraft \n",
    "- Induzierter Widerstand (Effizienz)\n",
    "\n",
    "Was sind die Einschränkungen?\n",
    "- gilt nur für große Streckungen\n",
    "- Pfeilung kann nicht berücksichtigt werden \n",
    "- gilt nur für kleine Anstellwinkel\n",
    "\n",
    "Die ausführliche Theorie zum Verfahren findet ihr in den Skripten begleitend zur Vorlesung. Nachfolgend soll nun exemplarisch gezeigt werden, wie ein solches Traglinienverfahren (TLV) grundlegend in Python implementiert werden kann. Anschließend werden die Aufgaben aus der Übung gelöst. Das orangene Symbol 🟠 kennzeichnet Bereiche, in denen Parameter geändert werden können bzw. sollen. Dies beinhaltet vor allem Geometrie- und Randparameter der Rechnung.\n",
    " </div>"
   ]
  },
  {
   "cell_type": "code",
   "execution_count": null,
   "metadata": {},
   "outputs": [],
   "source": [
    "# Importieren von Python-Biblioteken\n",
    "import numpy as np\n",
    "import matplotlib.pyplot as plt\n",
    "import pandas as pd\n",
    "from ipywidgets import interact, IntSlider, FloatSlider, fixed, VBox, HBox, Label\n",
    "import ipywidgets as widgets\n",
    "\n",
    "# Erhöhen der Plot-Auflösung\n",
    "plt.rcParams[\"figure.dpi\"] = 140"
   ]
  },
  {
   "cell_type": "markdown",
   "metadata": {},
   "source": [
    "### 4.1.1 Visualisierung: ellipseflügel"
   ]
  },
  {
   "cell_type": "code",
   "execution_count": null,
   "metadata": {},
   "outputs": [],
   "source": [
    "def ellipsenfluegel(AR, l_i=1) -> np.array:\n",
    "    \"\"\"Generiert die Planform eines Ellipsenflügels auf Basis der gegebenen Streckung\"\"\"\n",
    "    \n",
    "    # Berechnung der Ellipsenradien a, b sowie der Mittelpunkt-Koordinaten u, v\n",
    "    a = l_i / 2\n",
    "    b = np.pi * AR * l_i / 8\n",
    "    u = 0.5\n",
    "    v = 0\n",
    "\n",
    "    # Parametrische Definition der Ellipse: x=u+a*cos(theta), y=v+b*sin(theta)\n",
    "    theta = np.linspace(0, 2*np.pi, 200)\n",
    "    return np.column_stack(( v+b*np.sin(theta), u+a*np.cos(theta)))\n",
    "\n",
    "def plot_ellipsenfluegel(AR):\n",
    "    \"\"\"Plottet die Planform eines Ellipseflügels auf Basis der gegebenen Flügeltiefen und Streckung\"\"\"\n",
    "    \n",
    "    # Flügeleckpunkte generieren\n",
    "    points = ellipsenfluegel(AR)\n",
    "\n",
    "    # Geometrie plotten\n",
    "    plt.figure(figsize=(7, 3))\n",
    "    plt.plot(points[:,0], points[:, 1], '-', color=\"black\")\n",
    "    plt.vlines(0, 0, 1, \"black\", \"--\")\n",
    "    plt.xlabel('Spannweite [m]')\n",
    "    plt.ylabel('Flügeltiefe [m]')\n",
    "    plt.title('Ellipsenflügel')\n",
    "    plt.gca().invert_yaxis()\n",
    "    plt.axis('equal')\n",
    "    plt.show()\n",
    "\n",
    "def widget_ellipsenfluegel():\n",
    "    \"\"\"Erzeugt ein widget, mit dem sich die Planform eines Ellipseflügels interaktiv visualisieren lässt\"\"\"\n",
    "    slider_AR = VBox([Label('Streckung'), FloatSlider(value=10, min=5, max=20, step=1)])\n",
    "\n",
    "    # Interaktiver plot\n",
    "    ui = VBox([slider_AR])\n",
    "    ui = VBox([ui], layout=widgets.Layout(justify_content='center'))\n",
    "    out = widgets.interactive_output(plot_ellipsenfluegel, { 'AR': slider_AR.children[1]})\n",
    "\n",
    "    return HBox([out, ui])"
   ]
  },
  {
   "cell_type": "code",
   "execution_count": null,
   "metadata": {},
   "outputs": [],
   "source": [
    "display(widget_ellipsenfluegel())"
   ]
  },
  {
   "cell_type": "markdown",
   "metadata": {},
   "source": [
    "### 4.1.2 Geometrische Parameter und Randbedinungen"
   ]
  },
  {
   "cell_type": "code",
   "execution_count": null,
   "metadata": {},
   "outputs": [],
   "source": [
    "# Konstant\n",
    "alpha = 5                       # Anstellwinel [deg]\n",
    "alpha = alpha / 180 * np.pi     # Anstellwinel [rad]  \n",
    "U_inf = 10.0                    # Anströmgeschwindigkeit [m/s]\n",
    "rho = 1.225                     # Dichte [kg/m^3]\n",
    "l_i = 1.0                       # Flügeltiefe Wurzel [m]"
   ]
  },
  {
   "cell_type": "markdown",
   "metadata": {},
   "source": [
    "#### 🟠"
   ]
  },
  {
   "cell_type": "code",
   "execution_count": null,
   "metadata": {},
   "outputs": [],
   "source": [
    "# Diese Parameter können verändert werden\n",
    "AR = 10                         # Streckung/ Aspect Ratio"
   ]
  },
  {
   "cell_type": "markdown",
   "metadata": {},
   "source": [
    "#### Berechnung weiterer geometrischer Parameter"
   ]
  },
  {
   "cell_type": "code",
   "execution_count": null,
   "metadata": {},
   "outputs": [],
   "source": [
    "# Berechnung der Halbspannweite\n",
    "s = np.pi * AR * l_i / 8\n",
    "b = 2*s\n",
    "\n",
    "# Berechnung der Flügelfläche aus Halbspannweite und Flügeltiefen\n",
    "S = np.pi * l_i * s / 2   \n",
    "\n",
    "print(\"Spannweite:                  \", \"%.2f\" % b, \"m\")\n",
    "print(\"Halbspannweite:              \", \"%.2f\" % s, \"m\")\n",
    "print(\"Flügelfläche:                \", \"%.2f\" % S, \"m^2\")"
   ]
  },
  {
   "cell_type": "markdown",
   "metadata": {},
   "source": [
    "### 4.1.3 Visualisierung der Diskretisierung"
   ]
  },
  {
   "cell_type": "code",
   "execution_count": null,
   "metadata": {},
   "outputs": [],
   "source": [
    "def tiefe_ellipse(y, l_i, s) -> float:\n",
    "    \"\"\"Berechnet mit gegebenen Geometriepartametern eines Ellipsenflügels die lokale Flügeltiefe für eine spannweitige Position\"\"\"\n",
    "    return l_i/ l_i * np.sqrt(abs(1-(y / s)**2))\n",
    "    \n",
    "def plot_diskretisierung_ellipse(AR, s, N):\n",
    "    \"\"\"Plottet die Diskretisierung eines Ellipseflügels auf Basis der Anzahl der Elementarflügel\"\"\"\n",
    "    points = ellipsenfluegel(AR)\n",
    "    \n",
    "    # Diskretisierung der Halbspannweite\n",
    "    y_values = np.linspace(-s, s, N+1)\n",
    "    chord_values = [tiefe_ellipse(y, l_i, s) for y in y_values]\n",
    "    \n",
    "    # Geometrie plotten\n",
    "    plt.figure(figsize=(6, 3))\n",
    "    plt.plot(points[:,0], points[:, 1], '-', color=\"black\")\n",
    "\n",
    "    # Elementarflügel plotten\n",
    "    for i in range(N):\n",
    "        plt.plot([y_values[i], y_values[i]], [-chord_values[i]/2 + l_i/2, chord_values[i]/2 + l_i/2], 'g-')\n",
    "    \n",
    "    plt.vlines(0, 0, 1, \"black\", \"--\")\n",
    "    plt.xlabel('Spannweite [m]')\n",
    "    plt.ylabel('Flügeltiefe [m]')\n",
    "    plt.title('Diskretisierung Ellipseflügel')\n",
    "    plt.axis('equal')\n",
    "    plt.gca().invert_yaxis()\n",
    "    plt.show()\n",
    "\n",
    "def widget_diskretisierung_ellipse(AR, s):\n",
    "    \"\"\"Erzeugt ein widget, mit dem sich die Diskretisierung eines Ellipseflügels interaktiv visualisieren lässt\"\"\"\n",
    "\n",
    "    slider_N = VBox([Label('Anzahl der Elementarflügel'), IntSlider(value=30, min=1, max=100, step=1)])\n",
    "\n",
    "    # Interaktiver plot\n",
    "    ui = VBox([slider_N])\n",
    "    ui = VBox([ui], layout=widgets.Layout(justify_content='center'))\n",
    "    out = widgets.interactive_output(plot_diskretisierung_ellipse, {'AR': fixed(AR), \"s\": fixed(s), 'N': slider_N.children[1]})\n",
    "    return HBox([out, ui])"
   ]
  },
  {
   "cell_type": "code",
   "execution_count": null,
   "metadata": {},
   "outputs": [],
   "source": [
    "display(widget_diskretisierung_ellipse(AR, s))"
   ]
  },
  {
   "cell_type": "markdown",
   "metadata": {},
   "source": [
    "### 4.1.4 Berechnung der Hufeisenwirbel-Koordinaten\n",
    "Zur Bestimmung der $N$ (Variable n) unbekannten Wirbelstärken $\\Gamma$ wird die kinematische Strömungsbedingung in den $N$ (Variable $m$) Aufpunkten erfüllt, und man hat ein lineares Gleichungssystem zu lösen. Dafür werden die Koordinaten des tragenden Wirbels entlang der örtlichen $l_p/4$-Linie (indizes a, b) am Rand jedes Elementarflügels sowie die der Aufpunkte im $3l_p/4$–Punkt des Mittelschnittes jedes Elementarflügels (index c) bestimmt. Der Koordinatenursprung (x, y) = (0, 0) liegt hierbei dort, wo sich die Symmetrieachse des Flügels (Rumpf) und die Vorderkante."
   ]
  },
  {
   "cell_type": "markdown",
   "metadata": {},
   "source": [
    "#### 🟠"
   ]
  },
  {
   "cell_type": "code",
   "execution_count": null,
   "metadata": {},
   "outputs": [],
   "source": [
    "# Diese Parameter können verändert werden\n",
    "N = 500                             # Anzahl der Elementarflügel"
   ]
  },
  {
   "cell_type": "code",
   "execution_count": null,
   "metadata": {},
   "outputs": [],
   "source": [
    "# Breite eines Elementarflügels\n",
    "delta_b = b/N    \n",
    "\n",
    "def x_position(y, l_i, s, aufpunkt=False):\n",
    "    \"\"\"Berechnet die Tiefenposition der Punkte A und B und des Aufpunkts C\"\"\"\n",
    "\n",
    "    tiefe = -0.25 if aufpunkt else 0.25\n",
    "    return l_i/ 2 - tiefe * l_i * np.sqrt(abs(1-(y / s)**2))\n",
    "\n",
    "\n",
    "def compute_coords(s, N, delta_b, l_i):\n",
    "    \"\"\"Berechnet die Hufeisenwirbel-Koordinaten aus Basis der Flügelgeometrie und Anzahl der Elementarflügel\"\"\"\n",
    "\n",
    "    # Spannweitige Positionen der Punkte A, B und Aufpunkt C\n",
    "    y_a = np.array([-s +  j    * delta_b for j in range(N)])\n",
    "    y_b = np.array([-s + (j+1) * delta_b for j in range(N)])\n",
    "    y_c = np.array([-s + delta_b/2 + i*delta_b for i in range(N)])\n",
    "    \n",
    "    # Tiefenposition der Punkte A und B und des Aufpunkts C\n",
    "    x_a = np.array([x_position(y_i, l_i, s) for y_i in y_a])\n",
    "    x_b = np.array([x_position(y_i, l_i, s) for y_i in y_b])\n",
    "    x_c = np.array([x_position(y_i, l_i, s, True) for y_i in y_c])\n",
    "\n",
    "    # Spannweitige Positionen der bis ins Unendliche reichenden nichttragenden Wirbel\n",
    "    y_aoo = np.array([-s +  j    * delta_b for j in range(N)])\n",
    "    y_boo = np.array([-s + (j+1) * delta_b for j in range(N)])\n",
    "\n",
    "    # Tiefenposition der bis ins Unendliche reichenden nichttragenden Wirbel\n",
    "    x_aoo = x_a + 1000*s\n",
    "    x_boo = x_b + 1000*s\n",
    "\n",
    "    return y_a, y_b, y_c, x_a, x_b, x_c, y_aoo, y_boo, x_aoo, x_boo\n",
    "\n",
    "# Berechnen aller Hufeisenwirbel-Koordinaten\n",
    "y_a, y_b, y_c, x_a, x_b, x_c, y_aoo, y_boo, x_aoo, x_boo = compute_coords(s, N, delta_b, l_i)"
   ]
  },
  {
   "cell_type": "markdown",
   "metadata": {},
   "source": [
    "### 4.1.5 Berechnung der Koeffizientenmatrix"
   ]
  },
  {
   "cell_type": "markdown",
   "metadata": {},
   "source": [
    "Die Koeffizientenmatrix `a` ist die Summe der gebundenen und freien Wirbel.\n",
    "Die Koeffizientenmatrix der induzierenden Wirbel `a_ind` ist die Summe der freien Wirbel.\n",
    "Die Wirbelstärken `Gamma` werden aus Inverser der Koeffizientenmatrix, Anstellwinkelvektor und Anströmgeschwindigkeit berechnet."
   ]
  },
  {
   "cell_type": "code",
   "execution_count": null,
   "metadata": {},
   "outputs": [],
   "source": [
    "def compute_coeff_matrices(y_a, y_b, y_c, x_a, x_b, x_c):\n",
    "    \"\"\"Berechnet die drei Anteile der Koeffizientenmatrix\"\"\"\n",
    "    \n",
    "    # Initialisieren der Matrizen\n",
    "    a_AB = np.zeros((x_a.size, x_a.size))\n",
    "    a_Aoo = np.zeros((x_a.size, x_a.size))\n",
    "    a_Boo = np.zeros((x_a.size, x_a.size))\n",
    "\n",
    "    # Berechnen der Anteile der gebundenen Wirbel\n",
    "    for j in range(N):\n",
    "        for i in range(N):\n",
    "            a_AB[i, j] = 1 / (4*np.pi) * (1/((x_c[i] - x_a[j])*(y_c[i] - y_b[j]) - (y_c[i] - y_a[j])*(x_c[i] - x_b[j]))) * (((x_b[j] - x_a[j])*(x_c[i] - x_a[j]) + (y_b[j] - y_a[j])*(y_c[i] - y_a[j]))/ np.sqrt((x_c[i] - x_a[j])**2 + (y_c[i] - y_a[j])**2) - ((x_b[j] - x_a[j])*(x_c[i] - x_b[j]) + (y_b[j] - y_a[j])*(y_c[i] - y_b[j]))/ np.sqrt((x_c[i] - x_b[j])**2 + (y_c[i] - y_b[j])**2))\n",
    "\n",
    "    # Berechnen der Anteile der freien Wirbel der linken Seite\n",
    "    for j in range(N):\n",
    "        for i in range(N):\n",
    "            a_Aoo[i, j] = 1 / (4*np.pi) * 1/(y_a[j] - y_c[i]) * ((x_c[i] - x_a[j])/ (np.sqrt((x_c[i] - x_a[j])**2 + (y_c[i] - y_a[j])**2)) + 1)\n",
    "\n",
    "    # Berechnen der Anteile der freien Wirbel der rechten Seite\n",
    "    for j in range(N):\n",
    "        for i in range(N):\n",
    "            a_Boo[i, j] = 1 / (4*np.pi) * 1/(y_b[j] - y_c[i]) * ((x_c[i] - x_b[j])/ (np.sqrt((x_c[i] - x_b[j])**2 + (y_c[i] - y_b[j])**2)) + 1)\n",
    "    \n",
    "    return a_AB, a_Aoo, a_Boo"
   ]
  },
  {
   "cell_type": "code",
   "execution_count": null,
   "metadata": {},
   "outputs": [],
   "source": [
    "# Berechnen der Anteile der Koeffizientenmatrix\n",
    "a_AB, a_Aoo, a_Boo = compute_coeff_matrices(y_a, y_b, y_c, x_a, x_b, x_c)\n",
    "\n",
    "a = a_AB + a_Aoo - a_Boo                # Koeffizientenmatrix\n",
    "a_ind = a_Aoo - a_Boo                   # Koeffizientenmatrix der induzierenden Wirbel\n",
    "alpha_g = np.full((x_a.size), alpha)    # Anstellwinkelvektor\n",
    "\n",
    "# Löst das lineare Gleichungssystem Ax = b, wobei\n",
    "# A - Koeffizientenmatrix a\n",
    "# x - Zirkulationsvektor Gamma\n",
    "# B - Koeffizientenvektor alpha_g * (- U_inf)\n",
    "Gamma = np.linalg.solve(a, alpha_g * (- U_inf)) "
   ]
  },
  {
   "cell_type": "markdown",
   "metadata": {},
   "source": [
    "### 4.1.6 Berechnung von Kräften und Beiwerten\n",
    "#### Auftrieb und Widerstand"
   ]
  },
  {
   "cell_type": "code",
   "execution_count": null,
   "metadata": {},
   "outputs": [],
   "source": [
    "# Berechnung des Auftriebs nach Kutta-Joukowsky\n",
    "A_j = rho * delta_b * U_inf * Gamma\n",
    "A = np.sum(A_j)\n",
    "\n",
    "# Berechnung des induzierten Widerstands\n",
    "w_m = a_ind @ Gamma\n",
    "W_ind = np.sum(-rho *w_m @ Gamma * delta_b)\n",
    "\n",
    "print(\"Auftrieb:                    \", \"%.2f\" % A, \"N\")\n",
    "print(\"Induzierter Widerstand:      \", \"%.2f\" % W_ind, \"N\")"
   ]
  },
  {
   "cell_type": "markdown",
   "metadata": {},
   "source": [
    "#### Auftriebsverteilung"
   ]
  },
  {
   "cell_type": "code",
   "execution_count": null,
   "metadata": {},
   "outputs": [],
   "source": [
    "# Hinzufügen von Endpunkten zum plotten\n",
    "A_j = np.insert(A_j, 0, 0)\n",
    "A_j = np.append(A_j, 0)\n",
    "y_c = np.insert(y_c, 0, -s)\n",
    "y_c = np.append(y_c, s)\n",
    "\n",
    "# Berechnen der Fläche unter der berechneten Auftriebsverteilung\n",
    "area_distr = np.trapz(A_j, y_c)\n",
    "\n",
    "# Erzeugen einer elliptischen Auftriebsverteilung\n",
    "y_elliptisch = np.linspace(-s, s, len(y_c))\n",
    "A_elliptisch_raw = np.sqrt(1 - (y_elliptisch / s) ** 2)\n",
    "\n",
    "# Skalieren der elliptischen Verteilung, sodass die resultierende Auftriebskraft identisch ist\n",
    "area_elliptisch_raw = np.trapz(A_elliptisch_raw, y_elliptisch)\n",
    "scale_factor = area_distr / area_elliptisch_raw\n",
    "A_elliptisch = A_elliptisch_raw * scale_factor\n",
    "\n",
    "# Plotten der Auftriebsverteilungen\n",
    "plt.figure(figsize=(6, 3))\n",
    "plt.plot(y_c, A_j, '-', color=\"black\", label='Berechnete Auftriebsverteilung')\n",
    "plt.plot(y_elliptisch, A_elliptisch, '--', color=\"red\", label='Elliptische Auftriebsverteilung')\n",
    "plt.xlabel('Spannweite [m]')\n",
    "plt.ylabel('Auftrieb [N]')\n",
    "plt.title('Auftriebsverteilung')\n",
    "plt.legend()\n",
    "plt.show()"
   ]
  },
  {
   "cell_type": "markdown",
   "metadata": {},
   "source": [
    "#### Aerodynamische Beiwerte und Oswald-Faktor"
   ]
  },
  {
   "cell_type": "code",
   "execution_count": null,
   "metadata": {},
   "outputs": [],
   "source": [
    "# Auftriebsbeiwert\n",
    "C_A = 2*A / rho / U_inf**2 / S\n",
    "\n",
    "# Widerstandsbeiwert (induziert)\n",
    "C_W_ind = 2*W_ind / rho / U_inf**2 / S\n",
    "\n",
    "# Induzierter Widerstand der elliptischen Zirkulationsverteilung\n",
    "C_W_ind_ell = C_A**2 / AR / np.pi\n",
    "\n",
    "# Oswald Faktor\n",
    "Oswald = C_W_ind_ell / C_W_ind\n",
    "\n",
    "print(\"Auftriebsbeiwert:            \", \"%.5f\" % C_A)\n",
    "print(\"Widerstandsbeiwert:          \", \"%.5f\" % C_W_ind)\n",
    "print(\"Widerstandsbeiwert (Ellipse):\", \"%.5f\" % C_W_ind_ell)\n",
    "print(\"Oswald-Faktor:               \", \"%.3f\" % Oswald)"
   ]
  },
  {
   "cell_type": "markdown",
   "metadata": {},
   "source": [
    "## Aufgabe 2 a) Ellipse mit Traglinienverfahren\n",
    "Berechnen Sie mit dem Traglinienverfahren den Oswald-Faktor des Ellipsenflügels für Streckungen $\\Lambda = 3, 7, 10, 20, 50$ Welcher Verlauf sollte sich für einen elliptischen Flügel ergeben? Nennen Sie einen möglichen Grund für die Abweichung."
   ]
  },
  {
   "cell_type": "code",
   "execution_count": null,
   "metadata": {},
   "outputs": [],
   "source": [
    "# Initialisieren der benötigten Variablen\n",
    "AR_study = [3, 4, 5, 7, 10, 15, 20, 30, 40, 50]\n",
    "s = []\n",
    "Oswald = []\n",
    "\n",
    "# Iteration über verschiedene Streckungen\n",
    "for i, AR in enumerate(AR_study):\n",
    "\n",
    "    # Berechnung der Halbspannweite, Flügelfläche und Elementarflügelbreite\n",
    "    s.append(np.pi * AR * l_i / 8)\n",
    "    b = 2*s[i]\n",
    "    S = np.pi * l_i * s[i] / 2   \n",
    "    delta_b = b/N\n",
    "    \n",
    "    # Berechnen aller Hufeisenwirbel-Koordinaten\n",
    "    y_a, y_b, y_c, x_a, x_b, x_c, y_aoo, y_boo, x_aoo, x_boo = compute_coords(s[i], N, delta_b, l_i) \n",
    "\n",
    "    # Berechnen der Anteile der Koeffizientenmatrix\n",
    "    a_AB, a_Aoo, a_Boo = compute_coeff_matrices(y_a, y_b, y_c, x_a, x_b, x_c)\n",
    "\n",
    "    # Berechnen von Koeffizientenmatrizen und Anstellwinkelvektor\n",
    "    a = a_AB + a_Aoo - a_Boo              \n",
    "    a_ind = a_Aoo - a_Boo                 \n",
    "    alpha_g = np.full((x_a.size), alpha)  \n",
    "\n",
    "    # Berechnen der Kräfte\n",
    "    Gamma = np.linalg.solve(a, alpha_g * (- U_inf))\n",
    "    A_j = rho * delta_b * U_inf * Gamma\n",
    "    A = np.sum(A_j)\n",
    "    w_ind = a_ind @ Gamma\n",
    "    W_ind = np.sum(-rho *w_ind @ Gamma * delta_b)\n",
    "\n",
    "    # Berechnen der Beiwerte\n",
    "    C_A = 2*A / (rho * U_inf**2 * S)\n",
    "    C_W_ind = 2*W_ind / (rho * U_inf**2 * S)\n",
    "    C_W_ind_ell = C_A**2 / AR / np.pi\n",
    "\n",
    "    # Berechnen des Oswald-Faktors\n",
    "    Oswald.append(C_W_ind_ell / C_W_ind)"
   ]
  },
  {
   "cell_type": "code",
   "execution_count": null,
   "metadata": {},
   "outputs": [],
   "source": [
    "# Erstelle ein DataFrame\n",
    "data = {\n",
    "    r'$s$': [round(num, 2) for num in s],\n",
    "    r'$\\Lambda$': [int(num) for num in AR_study],\n",
    "    r'$e$': [round(num, 3) for num in Oswald]\n",
    "}\n",
    "df = pd.DataFrame(data)\n",
    "\n",
    "# Erstelle die Subplots\n",
    "fig, axs = plt.subplots(1, 2, figsize=(12, 5), gridspec_kw={'width_ratios': [1, 2]})\n",
    "\n",
    "# Plot für Oswald\n",
    "axs[1].plot(AR_study, Oswald, marker='^', linestyle='-', color='C0')\n",
    "axs[1].set_xlabel(r\"$\\Lambda$\")\n",
    "axs[1].set_ylabel(r'$e$')\n",
    "axs[1].set_title(\"Oswald-Faktor\")\n",
    "axs[1].set_ylim([0, 1])\n",
    "axs[1].grid(\"True\")\n",
    "\n",
    "# Erstelle die Tabelle\n",
    "axs[0].axis('tight')\n",
    "axs[0].axis('off')\n",
    "table = axs[0].table(cellText=df.values, colLabels=df.columns, colColours=[\"lightgray\", \"lightgray\", \"C0\"], \n",
    "                    colWidths= [0.3, 0.2, 0.4], cellLoc='center', loc='center')\n",
    "\n",
    "# Zell-Eigenschaften anpassen\n",
    "for key, cell in table.get_celld().items():\n",
    "    cell.set_height(0.08)\n",
    "    cell.set_fontsize(12)\n",
    "\n",
    "plt.tight_layout()\n",
    "plt.show()"
   ]
  },
  {
   "cell_type": "markdown",
   "metadata": {},
   "source": [
    "#### Interpretation der Ergebnisse"
   ]
  },
  {
   "cell_type": "markdown",
   "metadata": {},
   "source": [
    "Die Ergebnisse veranschaulichen deutlich den Zusammenhang zwischen der Streckung $\\Lambda$ und der Genauigkeit des Traglinienverfahrens"
   ]
  }
 ],
 "metadata": {
  "kernelspec": {
   "display_name": ".venv",
   "language": "python",
   "name": "python3"
  },
  "language_info": {
   "codemirror_mode": {
    "name": "ipython",
    "version": 3
   },
   "file_extension": ".py",
   "mimetype": "text/x-python",
   "name": "python",
   "nbconvert_exporter": "python",
   "pygments_lexer": "ipython3",
   "version": "3.9.6"
  }
 },
 "nbformat": 4,
 "nbformat_minor": 2
}

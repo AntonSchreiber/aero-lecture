{
 "cells": [
  {
   "cell_type": "markdown",
   "metadata": {},
   "source": [
    "# **Übung 8: Numerische Lösung der Wellengleichung erster Ordnung**"
   ]
  },
  {
   "cell_type": "code",
   "execution_count": 13,
   "metadata": {},
   "outputs": [],
   "source": [
    "import numpy as np\n",
    "import matplotlib.pyplot as plt\n",
    "import matplotlib.animation as animation"
   ]
  },
  {
   "cell_type": "code",
   "execution_count": 14,
   "metadata": {},
   "outputs": [],
   "source": [
    "m = 50"
   ]
  },
  {
   "cell_type": "code",
   "execution_count": 15,
   "metadata": {},
   "outputs": [],
   "source": [
    "c = 300\n",
    "total_time = 5\n",
    "cfl = 1\n",
    "time_step = 0.01"
   ]
  },
  {
   "cell_type": "code",
   "execution_count": 16,
   "metadata": {},
   "outputs": [
    {
     "data": {
      "text/plain": [
       "500"
      ]
     },
     "execution_count": 16,
     "metadata": {},
     "output_type": "execute_result"
    }
   ],
   "source": [
    "dx = 1 / m          #räumliche Schrittweite\n",
    "n = int(total_time / time_step)\n",
    "n "
   ]
  },
  {
   "cell_type": "code",
   "execution_count": 17,
   "metadata": {},
   "outputs": [
    {
     "data": {
      "text/plain": [
       "<Figure size 640x480 with 0 Axes>"
      ]
     },
     "metadata": {},
     "output_type": "display_data"
    }
   ],
   "source": [
    "\n",
    "# Parameterdefinition\n",
    "m = 100       # Anzahl der Raum-Schritte\n",
    "dx = 0.1      # Schrittweite im Raum\n",
    "t_idx = 200   # Anzahl der Zeit-Schritte\n",
    "x = np.linspace(0, m*dx, m)  # Raumkoordinate\n",
    "\n",
    "# Anfangslösung phi_i,j\n",
    "phi = np.ones((t_idx, m))  # Initialisiere alle Werte mit 1\n",
    "\n",
    "# Setze die Anfangsbedingung für j=0 (Anfang der Zeit)\n",
    "phi[0, :] = np.cos(4 * x * np.pi)\n",
    "\n",
    "# Funktion zur Aktualisierung der Animation\n",
    "def update(frame):\n",
    "    plt.clf()  # Lösche die aktuelle Figur\n",
    "    plt.plot(x, phi[frame, :], color='blue')\n",
    "    plt.title(f'Time Step {frame}')\n",
    "    plt.ylim(-1, 1)\n",
    "    plt.xlabel('Raumkoordinate x')\n",
    "    plt.ylabel('phi')\n",
    "    plt.grid(True)\n",
    "\n",
    "# Animation erstellen\n",
    "fig = plt.figure()\n",
    "ani = animation.FuncAnimation(fig, update, frames=t_idx, interval=50)  # 50 ms pro Frame\n",
    "\n",
    "# Zeige die Animation\n",
    "plt.show()"
   ]
  }
 ],
 "metadata": {
  "kernelspec": {
   "display_name": ".venv",
   "language": "python",
   "name": "python3"
  },
  "language_info": {
   "codemirror_mode": {
    "name": "ipython",
    "version": 3
   },
   "file_extension": ".py",
   "mimetype": "text/x-python",
   "name": "python",
   "nbconvert_exporter": "python",
   "pygments_lexer": "ipython3",
   "version": "3.12.4"
  }
 },
 "nbformat": 4,
 "nbformat_minor": 2
}

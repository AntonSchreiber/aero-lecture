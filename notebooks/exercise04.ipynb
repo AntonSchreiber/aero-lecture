{
 "cells": [
  {
   "cell_type": "markdown",
   "metadata": {},
   "source": [
    "# Übung 4.1 : Das Traglinienverfahren und die Prandtl'sche Tragflügeltheorie"
   ]
  },
  {
   "cell_type": "markdown",
   "metadata": {},
   "source": [
    "<div style=\"text-align: justify\"> </p>Die Übung 4 ist die erste von insgesamt fünf computer-basierten Übungen und soll einen ersten Einblick in aerodynamische Optimierungsaufgaben geben und wie sie mit Algorithmen gelöst werden können. </p>\n",
    "\n",
    "Die **Prandtl'sche Traglinientheorie (engl. \"lifting line theory\")** besteht seit der Zeit des ersten Weltkrieges und findet heutzutage immernoch Anwendung. Darauf basierend wird das numerische Traglinienverfahren als analytische Methode eingesetzt, um im Flügel-Vorentwurf Vorhersagen über Effizienz und Verluste von Tragflügeln endlicher Streckung zu treffen.\n",
    "\n",
    "#### Was liefert die Traglinientheorie?\n",
    "- Auftriebsverteilung entlang der Spannweite\n",
    "- Auftriebskraft \n",
    "- Induzierter Widerstand (Effizienz)\n",
    "\n",
    "#### Was sind die Einschränkungen?\n",
    "- gilt nur für große Streckungen\n",
    "- Pfeilung kann nicht berücksichtigt werden \n",
    "- gilt nur für kleine Anstellwinkel\n",
    "\n",
    "Die ausführliche Theorie zum Verfahren findet ihr in den Skripten begleitend zur Vorlesung. Nachfolgend soll nun exemplarisch gezeigt werden, wie ein solches Traglinienverfahren in Python implementiert werden kann\n",
    " </div>"
   ]
  },
  {
   "cell_type": "code",
   "execution_count": 380,
   "metadata": {},
   "outputs": [],
   "source": [
    "# Importieren von Biblioteken\n",
    "import numpy as np\n",
    "import matplotlib.pyplot as plt\n",
    "from ipywidgets import interact, IntSlider, FloatSlider, fixed"
   ]
  },
  {
   "cell_type": "markdown",
   "metadata": {},
   "source": [
    "## Aufgabe 4.1 a)\n",
    "Untersuchen Sie am Beispiel des Rechteckflügels mit $l_i=1$ und $\\Lambda = 10$ das Konvergenzverhalten der aerodynamischen Beiwerte ($C_W$, $C_A$) und des Oswald Faktors hinsichtlich der Abhängigkeit von der Anzahl der Elementarflügel (räumliche Diskretisierung).\n",
    "Entscheiden Sie sich für eine Diskretisierung für alle folgenden Aufgabenteil und begründen Sie diese Entscheidung."
   ]
  },
  {
   "cell_type": "markdown",
   "metadata": {},
   "source": [
    "### 4.1.1 Visualisierung: Doppeltrapezflügel"
   ]
  },
  {
   "cell_type": "code",
   "execution_count": 381,
   "metadata": {},
   "outputs": [
    {
     "data": {
      "application/vnd.jupyter.widget-view+json": {
       "model_id": "2a5ef1b9a2aa44ec8fe2576c8893819d",
       "version_major": 2,
       "version_minor": 0
      },
      "text/plain": [
       "interactive(children=(FloatSlider(value=0.5, description='l_a', max=1.0), FloatSlider(value=1.0, description='…"
      ]
     },
     "metadata": {},
     "output_type": "display_data"
    },
    {
     "data": {
      "text/plain": [
       "<function __main__.plot_doppeltrapezfluegel(l_a, l_k, AR)>"
      ]
     },
     "execution_count": 381,
     "metadata": {},
     "output_type": "execute_result"
    }
   ],
   "source": [
    "# TODO elliptische Planform gleicher Streckung hinterlegen\n",
    "def doppeltrapezfluegel(l_a, l_k, AR, l_i=1):\n",
    "    b = AR * (l_k*0.75 + 0.5*(l_i-l_k)*0.75+l_a*(1-0.75)+0.5*(l_k-l_a)*0.25)\n",
    "    s = b / 2\n",
    "    y_lk = 0.75 * s \n",
    "\n",
    "    # Definition der Punkte für eine Seite\n",
    "    points = np.array([\n",
    "        [0, l_i/2],              \n",
    "        [y_lk, l_k/2],    \n",
    "        [s, l_a/2],         \n",
    "        [s, -l_a/2],         \n",
    "        [y_lk, -l_k/2],         \n",
    "        [0, -l_i/2],\n",
    "        [-y_lk, -l_k/2],  \n",
    "        [-s, -l_a/2],    \n",
    "        [-s, l_a/2] ,         \n",
    "        [-y_lk, l_k/2],\n",
    "        [0, l_i/2]\n",
    "    ])\n",
    "    \n",
    "    return points\n",
    "\n",
    "\n",
    "def plot_doppeltrapezfluegel(l_a, l_k, AR):\n",
    "    points = doppeltrapezfluegel(l_a, l_k, AR)\n",
    "\n",
    "    plt.figure(figsize=(10, 6))\n",
    "    plt.plot(points[:,0], points[:, 1], '-', color=\"black\")\n",
    "    plt.xlabel('Spannweite [m]')\n",
    "    plt.ylabel('Flügeltiefe [m]')\n",
    "    plt.title('Doppeltrapezflügel')\n",
    "    plt.axis('equal')\n",
    "    plt.show()\n",
    "\n",
    "interact(plot_doppeltrapezfluegel, \n",
    "         l_a=FloatSlider(value=0.5, min=0, max=1.0, step=0.1, description='l_a'), \n",
    "         l_k=FloatSlider(value=1.0, min=0, max=1.0, step=0.1, description='l_k'), \n",
    "         AR=FloatSlider(value=10, min=5, max=20, step=1, description=r'$\\Lambda$'))"
   ]
  },
  {
   "cell_type": "markdown",
   "metadata": {},
   "source": [
    "### 4.1.2 Geometrische Parameter und Randbedinungen\n",
    "\n",
    "Für die anschließenden Berechnung"
   ]
  },
  {
   "cell_type": "code",
   "execution_count": 382,
   "metadata": {},
   "outputs": [],
   "source": [
    "# Konstant\n",
    "alpha = 1           # Anstellwinel [rad]\n",
    "U_inf = 10          # Anströmgeschwindigkeit [m/s]\n",
    "rho = 1.225         # Dichte [kg/m^3]\n",
    "l_i = 1             # Flügeltiefe Wurzel [m]\n",
    "\n",
    "# Variabel\n",
    "l_a = 0.5           # Flügeltiefe außen [m]\n",
    "l_k = 1             # Flügeltiefe kink [m]\n",
    "AR = 10             # Streckung/ Aspect Ratio"
   ]
  },
  {
   "cell_type": "markdown",
   "metadata": {},
   "source": [
    "#### Berechnung weiterer geometrischer Parameter"
   ]
  },
  {
   "cell_type": "code",
   "execution_count": 383,
   "metadata": {},
   "outputs": [
    {
     "name": "stdout",
     "output_type": "stream",
     "text": [
      "Spannweite:                   9.38 m\n",
      "Halbspannweite:               4.69 m\n",
      "Kink-Position:                3.52 m\n",
      "Flügelfläche:                 8.79 m^2\n"
     ]
    }
   ],
   "source": [
    "b = AR * (l_k*0.75 + 0.5*(l_i-l_k)*0.75+l_a*(1-0.75)+0.5*(l_k-l_a)*0.25)    # Spannweite\n",
    "s = b / 2                                                                   # Halbspannweite\n",
    "y_lk = 0.75 * s                                                             # Kink-Position bei 75% der Halbspannweite\n",
    "S = b**2 / AR                                                               # Flügelfläche\n",
    "\n",
    "# Ausgabe\n",
    "print(\"Spannweite:                  \", \"%.2f\" % b, \"m\")\n",
    "print(\"Halbspannweite:              \", \"%.2f\" % s, \"m\")\n",
    "print(\"Kink-Position:               \", \"%.2f\" % y_lk, \"m\")\n",
    "print(\"Flügelfläche:                \", \"%.2f\" % S, \"m^2\")"
   ]
  },
  {
   "cell_type": "markdown",
   "metadata": {},
   "source": [
    "#### Vergleich mit elliptischer Planform"
   ]
  },
  {
   "cell_type": "code",
   "execution_count": 384,
   "metadata": {},
   "outputs": [
    {
     "name": "stdout",
     "output_type": "stream",
     "text": [
      "???:                          0.25 m\n",
      "Flügelfläche:                 7.36 m^2\n",
      "Streckung:                    11.94\n"
     ]
    }
   ],
   "source": [
    "h_ell = l_i/2 * (np.sqrt(1 - (y_lk / s)))                                   # ???                   \n",
    "S_ell = np.pi * l_i * 0.5 * s                                               # entsprechende Fläche\n",
    "AR_ell = b**2 / S_ell                                                       # entsprechende Streckung\n",
    "\n",
    "# Ausgabe\n",
    "print(\"???:                         \", \"%.2f\" % h_ell, \"m\")\n",
    "print(\"Flügelfläche:                \", \"%.2f\" % S_ell, \"m^2\")\n",
    "print(\"Streckung:                   \", \"%.2f\" % AR_ell)"
   ]
  },
  {
   "cell_type": "markdown",
   "metadata": {},
   "source": [
    "### 4.1.3 Diskretisierung der Spannweite"
   ]
  },
  {
   "cell_type": "code",
   "execution_count": 385,
   "metadata": {},
   "outputs": [
    {
     "data": {
      "application/vnd.jupyter.widget-view+json": {
       "model_id": "e2ba4766a9644b619583d0b9f273d25c",
       "version_major": 2,
       "version_minor": 0
      },
      "text/plain": [
       "interactive(children=(IntSlider(value=30, description='N', min=1), Output()), _dom_classes=('widget-interact',…"
      ]
     },
     "metadata": {},
     "output_type": "display_data"
    },
    {
     "data": {
      "text/plain": [
       "<function __main__.plot_doppeltrapezfluegel(l_a, l_k, AR, N)>"
      ]
     },
     "execution_count": 385,
     "metadata": {},
     "output_type": "execute_result"
    }
   ],
   "source": [
    "def plot_doppeltrapezfluegel(l_a, l_k, AR,N):\n",
    "    points = doppeltrapezfluegel(l_a, l_k, AR)\n",
    "    \n",
    "    # Diskretisierung der Halbspannweite\n",
    "    y_values = np.linspace(-s, s, N+1)\n",
    "    \n",
    "    # Tiefe des Flügels an verschiedenen y-Positionen berechnen\n",
    "    def tiefe(y):\n",
    "        y = abs(y)\n",
    "        if y <= y_lk:\n",
    "            return 1 + (l_k - 1) * (y / y_lk)\n",
    "        else:\n",
    "            return l_k + (l_a - l_k) * ((y - y_lk) / (s - y_lk))\n",
    "\n",
    "    chord_values = [tiefe(y) for y in y_values]\n",
    "    \n",
    "    # Plotten des Flügels\n",
    "    plt.figure(figsize=(10, 6))\n",
    "    plt.plot(points[:,0], points[:, 1], '-', color=\"black\")\n",
    "\n",
    "    # Diskretisierte Punkte entlang der Spannweite\n",
    "    for i in range(N):\n",
    "        #plt.plot([y_values[i], y_values[i+1]], [chord_values[i]/2, chord_values[i+1]/2], 'r--')\n",
    "        # plt.plot([y_values[i], y_values[i+1]], [-chord_values[i]/2, -chord_values[i+1]/2], 'r--')\n",
    "        plt.plot([y_values[i], y_values[i]], [-chord_values[i]/2, chord_values[i]/2], 'g-')\n",
    "    \n",
    "    plt.xlabel('Spannweite [m]')\n",
    "    plt.ylabel('Flügeltiefe [m]')\n",
    "    plt.title('Diskretisierung Doppeltrapezflügel')\n",
    "    plt.axis('equal')\n",
    "    plt.grid(True)\n",
    "    plt.show()\n",
    "\n",
    "# Gegebene Parameter\n",
    "l_a = 0.5\n",
    "l_k = 1.0\n",
    "AR = 10\n",
    "\n",
    "# TODO es entspricht nicht dem code dass die elementarflügel von der flügelform abweichen\n",
    "interact(plot_doppeltrapezfluegel, \n",
    "         l_a=fixed(l_a), \n",
    "         l_k=fixed(l_k), \n",
    "         AR=fixed(AR), \n",
    "         N=IntSlider(value=30, min=1, max=100, step=1, description='N'))"
   ]
  },
  {
   "cell_type": "markdown",
   "metadata": {},
   "source": [
    "### 4.1.4 Berechnung der Hufeisenwirbel-Koordinaten"
   ]
  },
  {
   "cell_type": "markdown",
   "metadata": {},
   "source": [
    "Zur Bestimmung der $N$ (Variable n) unbekannten Wirbelstärken $\\Gamma$ wird die kinematische Strömungsbedingung in den $N$ (Variable $m$) Aufpunkten erfüllt, und man hat ein lineares Gleichungssystem zu lösen. Dafür werden die Koordinaten des tragenden Wirbels entlang der örtlichen $l_p/4$-Linie (indizes a, b) am Rand jedes Elementarflügels sowie die der Aufpunkte im $3l_p/4$–Punkt des Mittelschnittes jedes Elementarflügels (index c) bestimmt."
   ]
  },
  {
   "cell_type": "code",
   "execution_count": 386,
   "metadata": {},
   "outputs": [],
   "source": [
    "N = 500                       # Anzahl der Elementarflügel\n",
    "delta_b = b/N                   # Breite eines Elementarflügels"
   ]
  },
  {
   "cell_type": "code",
   "execution_count": 387,
   "metadata": {},
   "outputs": [],
   "source": [
    "# Spannweitige Positionen der Punkte A, B und Aufpunkt C\n",
    "y_a = np.array([-s +  j    * delta_b for j in range(N)])\n",
    "y_b = np.array([-s + (j+1) * delta_b for j in range(N)])\n",
    "y_c = np.array([-s + delta_b/2 + i*delta_b for i in range(N)])\n",
    "\n",
    "# Tiefenposition der Punkte A und B und Aufpunkt C\n",
    "def x_position(y, l_i, l_k, l_a, y_lk, aufpunkt=False):\n",
    "    tiefe = 0.75 if aufpunkt else 0.25\n",
    "    if abs(y) <= y_lk:\n",
    "        return (abs(y)/y_lk * 0.5*(l_i-l_k) + tiefe*(l_i - abs(y)/y_lk * (l_i-l_k)))\n",
    "    else:\n",
    "        return (0.5*(l_i-l_k) + (abs(y)-y_lk)/(s-y_lk) * 0.5*(l_k-l_a) + tiefe*(l_k - (abs(y)-y_lk)/(s-y_lk)*(l_k-l_a)))\n",
    "    \n",
    "x_a = np.array([x_position(y_i, l_i, l_k, l_a, y_lk) for y_i in y_a])\n",
    "x_b = np.array([x_position(y_i, l_i, l_k, l_a, y_lk) for y_i in y_b])\n",
    "x_c = np.array([x_position(y_i, l_i, l_k, l_a, y_lk, True) for y_i in y_c])\n",
    "\n",
    "# Spannweitige Positionen der bis ins Unendliche reichenden nichttragenden Wirbel\n",
    "y_aoo = np.array([-s +  j    * delta_b for j in range(N)])\n",
    "y_boo = np.array([-s + (j+1) * delta_b for j in range(N)])\n",
    "\n",
    "# Tiefenposition der bis ins Unendliche reichenden nichttragenden Wirbel\n",
    "x_aoo = x_a + 100*s\n",
    "x_boo = x_b + 100*s"
   ]
  },
  {
   "cell_type": "markdown",
   "metadata": {},
   "source": [
    "### 4.1.5 Berechnung der Koeffizientenmatrix"
   ]
  },
  {
   "cell_type": "code",
   "execution_count": 388,
   "metadata": {},
   "outputs": [
    {
     "name": "stdout",
     "output_type": "stream",
     "text": [
      "[[-2.34803001e-02 -2.27457771e-02 -2.16991438e-02 ... -2.30217249e-06\n",
      "  -2.28838231e-06 -2.27470155e-06]\n",
      " [-2.31043747e-02 -2.27527386e-02 -2.20545367e-02 ... -2.31607320e-06\n",
      "  -2.30217249e-06 -2.28838231e-06]\n",
      " [-2.23835184e-02 -2.23968749e-02 -2.20584702e-02 ... -2.33008553e-06\n",
      "  -2.31607320e-06 -2.30217249e-06]\n",
      " ...\n",
      " [-2.30217249e-06 -2.31607320e-06 -2.33008553e-06 ... -2.20584702e-02\n",
      "  -2.23968749e-02 -2.23835184e-02]\n",
      " [-2.28838231e-06 -2.30217249e-06 -2.31607320e-06 ... -2.20545367e-02\n",
      "  -2.27527386e-02 -2.31043747e-02]\n",
      " [-2.27470155e-06 -2.28838231e-06 -2.30217249e-06 ... -2.16991438e-02\n",
      "  -2.27457771e-02 -2.34803001e-02]]\n",
      "[[-1.69706126e+01  1.69707056e+01  5.64178820e+00 ...  8.78399427e-03\n",
      "   8.76403815e-03  8.74417124e-03]\n",
      " [-5.64151998e+00 -1.69707965e+01  1.69708853e+01 ...  8.80404022e-03\n",
      "   8.78399427e-03  8.76403815e-03]\n",
      " [-3.36732972e+00 -5.64205025e+00 -1.69709720e+01 ...  8.82417658e-03\n",
      "   8.80404022e-03  8.78399427e-03]\n",
      " ...\n",
      " [-8.76403815e-03 -8.78399427e-03 -8.80404022e-03 ... -1.69710567e+01\n",
      "   1.69709720e+01  5.64205025e+00]\n",
      " [-8.74417124e-03 -8.76403815e-03 -8.78399427e-03 ... -5.64230633e+00\n",
      "  -1.69708853e+01  1.69707965e+01]\n",
      " [-8.72439297e-03 -8.74417124e-03 -8.76403815e-03 ... -3.36775294e+00\n",
      "  -5.64178820e+00 -1.69707056e+01]]\n",
      "[[ 1.69707056e+01  5.64178820e+00  3.36775294e+00 ...  8.76403815e-03\n",
      "   8.74417124e-03  8.72439297e-03]\n",
      " [-1.69707965e+01  1.69708853e+01  5.64230633e+00 ...  8.78399427e-03\n",
      "   8.76403815e-03  8.74417124e-03]\n",
      " [-5.64205025e+00 -1.69709720e+01  1.69710567e+01 ...  8.80404022e-03\n",
      "   8.78399427e-03  8.76403815e-03]\n",
      " ...\n",
      " [-8.78399427e-03 -8.80404022e-03 -8.82417658e-03 ...  1.69709720e+01\n",
      "   5.64205025e+00  3.36732972e+00]\n",
      " [-8.76403815e-03 -8.78399427e-03 -8.80404022e-03 ... -1.69708853e+01\n",
      "   1.69707965e+01  5.64151998e+00]\n",
      " [-8.74417124e-03 -8.76403815e-03 -8.78399427e-03 ... -5.64178820e+00\n",
      "  -1.69707056e+01  1.69706126e+01]]\n"
     ]
    }
   ],
   "source": [
    "# initialisieren der Matrizen\n",
    "a_AB = np.zeros((x_a.size, x_a.size))\n",
    "a_Aoo = np.zeros((x_a.size, x_a.size))\n",
    "a_Boo = np.zeros((x_a.size, x_a.size))\n",
    "\n",
    "for j in range(N):\n",
    "    for i in range(N):\n",
    "        a_AB[i, j] = 1 / (4*np.pi) * (1/((x_c[i] - x_a[j])*(y_c[i] - y_b[j]) - (y_c[i] - y_a[j])*(x_c[i] - x_b[j]))) * (((x_b[j] - x_a[j])*(x_c[i] - x_a[j]) + (y_b[j] - y_a[j])*(y_c[i] - y_a[j]))/ np.sqrt((x_c[i] - x_a[j])**2 + (y_c[i] - y_a[j])**2) - ((x_b[j] - x_a[j])*(x_c[i] - x_b[j]) + (y_b[j] - y_a[j])*(y_c[i] - y_b[j]))/ np.sqrt((x_c[i] - x_b[j])**2 + (y_c[i] - y_b[j])**2))\n",
    "\n",
    "for j in range(N):\n",
    "    for i in range(N):\n",
    "        a_Aoo[i, j] = 1 / (4*np.pi) * 1/(y_a[j] - y_c[i]) * ((x_c[i] - x_a[j])/ (np.sqrt((x_c[i] - x_a[j])**2 + (y_c[i] - y_a[j])**2)) + 1)\n",
    "\n",
    "for j in range(N):\n",
    "    for i in range(N):\n",
    "        a_Boo[i, j] = 1 / (4*np.pi) * 1/(y_b[j] - y_c[i]) * ((x_c[i] - x_b[j])/ (np.sqrt((x_c[i] - x_b[j])**2 + (y_c[i] - y_b[j])**2)) + 1)\n",
    "\n",
    "print(a_AB)\n",
    "print(a_Aoo)\n",
    "print(a_Boo)"
   ]
  },
  {
   "cell_type": "code",
   "execution_count": 389,
   "metadata": {},
   "outputs": [],
   "source": [
    "a = a_AB + a_Aoo - a_Boo                # Koeffizientenmatrix\n",
    "a_ind = a_Aoo - a_Boo                   # Koeffizientenmatrix der induzierenden Wirbel\n",
    "alpha_g = np.full((x_a.size), alpha)    # Anstellwinkelvektor\n",
    "\n",
    "# die Wirbelstärken werden aus Inverser der Koeffizientenmatrix, Anstellwinkelvektor und Anströmgeschwindigkeit berechnet\n",
    "Gamma = np.linalg.inv(a) * alpha_g * (- U_inf)"
   ]
  },
  {
   "cell_type": "markdown",
   "metadata": {},
   "source": [
    "### 4.1.6 Berechnung von Kräften und Beiwerten"
   ]
  },
  {
   "cell_type": "code",
   "execution_count": 390,
   "metadata": {},
   "outputs": [
    {
     "name": "stdout",
     "output_type": "stream",
     "text": [
      "Auftrieb:                     2670.63 N\n",
      "Induzierter Widerstand:       130.34 N\n"
     ]
    }
   ],
   "source": [
    "# Berechnung des Auftriebs nach Kutta-Joukowsky\n",
    "A_j = rho * delta_b * U_inf * Gamma\n",
    "A = np.sum(A_j)\n",
    "\n",
    "# Berechnung des induzierten Widerstands\n",
    "w_m = a_ind * Gamma\n",
    "W_ind = np.sum(-rho *w_m * Gamma * delta_b)\n",
    "\n",
    "print(\"Auftrieb:                    \", \"%.2f\" % A, \"N\")\n",
    "print(\"Induzierter Widerstand:      \", \"%.2f\" % W_ind, \"N\")"
   ]
  },
  {
   "cell_type": "code",
   "execution_count": 391,
   "metadata": {},
   "outputs": [
    {
     "data": {
      "image/png": "[encoded data removed]",
      "text/plain": [
       "<Figure size 1000x600 with 1 Axes>"
      ]
     },
     "metadata": {},
     "output_type": "display_data"
    }
   ],
   "source": [
    "# Auftriebsverteilung\n",
    "# TODO add elliptische Auftriebsverteilung\n",
    "A_distr = np.sum(A_j, axis=0)\n",
    "A_distr[0] = 0\n",
    "A_distr[-1] = 0\n",
    "\n",
    "y_c[0] = -s\n",
    "y_c[-1] = s\n",
    "\n",
    "plt.figure(figsize=(10, 6))\n",
    "plt.plot(y_c, A_distr, '-', color=\"black\")\n",
    "plt.xlabel('Spannweite [m]')\n",
    "plt.ylabel('Flügeltiefe [m]')\n",
    "plt.title('Auftriebsverteilung')\n",
    "plt.show()"
   ]
  },
  {
   "cell_type": "code",
   "execution_count": 392,
   "metadata": {},
   "outputs": [
    {
     "name": "stdout",
     "output_type": "stream",
     "text": [
      "Auftriebsbeiwert:             4.96\n",
      "Auftriebsanstieg:             5.24\n",
      "Widerstandsbeiwert:           0.24\n"
     ]
    }
   ],
   "source": [
    "# Auftriebsbeiwert\n",
    "C_A = 2*A / (rho * U_inf**2 * S)\n",
    "\n",
    "# Für alpha= 1 [rad] entspricht C_A dem Auftriebsanstieg wegen C_A = C_A_alpha * alpha\n",
    "# Als Vergleichswert dient die Näherungslösung\n",
    "C_A_alpha = 2*np.pi * AR / (2+AR)\n",
    "\n",
    "# Widerstandsbeiwert (induziert)\n",
    "C_W_ind = 2*W_ind / (rho * U_inf**2 * S)\n",
    "\n",
    "print(\"Auftriebsbeiwert:            \", \"%.2f\" % C_A)\n",
    "print(\"Auftriebsanstieg:            \", \"%.2f\" % C_A_alpha)\n",
    "print(\"Widerstandsbeiwert:          \", \"%.2f\" % C_W_ind)"
   ]
  },
  {
   "cell_type": "code",
   "execution_count": 393,
   "metadata": {},
   "outputs": [
    {
     "name": "stdout",
     "output_type": "stream",
     "text": [
      "Widerstandsbeiwert (Ellipse): 0.78\n",
      "Oswald-Faktor:                3.24\n"
     ]
    }
   ],
   "source": [
    "# Induzierter Widerstand der elliptischen Zirkulationsverteilung\n",
    "C_W_ind_ell = C_A**2 / AR / np.pi\n",
    "\n",
    "# Oswald Faktor\n",
    "Oswald = C_W_ind_ell / C_W_ind\n",
    "\n",
    "print(\"Widerstandsbeiwert (Ellipse):\", \"%.2f\" % C_W_ind_ell)\n",
    "print(\"Oswald-Faktor:               \", \"%.2f\" % Oswald)"
   ]
  }
 ],
 "metadata": {
  "kernelspec": {
   "display_name": ".venv",
   "language": "python",
   "name": "python3"
  },
  "language_info": {
   "codemirror_mode": {
    "name": "ipython",
    "version": 3
   },
   "file_extension": ".py",
   "mimetype": "text/x-python",
   "name": "python",
   "nbconvert_exporter": "python",
   "pygments_lexer": "ipython3",
   "version": "3.9.6"
  }
 },
 "nbformat": 4,
 "nbformat_minor": 2
}

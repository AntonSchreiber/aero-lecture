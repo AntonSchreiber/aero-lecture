{
 "cells": [
  {
   "cell_type": "markdown",
   "metadata": {},
   "source": [
    "# Übung 4.1 : Das Traglinienverfahren und die Prandtl'sche Tragflügeltheorie"
   ]
  },
  {
   "cell_type": "markdown",
   "metadata": {},
   "source": [
    "Die Übung 4 ist die erste von insgesamt fünf computer-basierten Übungen und soll einen ersten Einblick in Optimierungsaufgaben geben. Übung 4.1 pri"
   ]
  },
  {
   "cell_type": "code",
   "execution_count": 114,
   "metadata": {},
   "outputs": [],
   "source": [
    "# Importieren von Biblioteken\n",
    "import numpy as np\n",
    "import matplotlib.pyplot as plt\n",
    "from ipywidgets import interact, FloatSlider"
   ]
  },
  {
   "cell_type": "markdown",
   "metadata": {},
   "source": [
    "## Aufgabe 4.1 a)\n",
    "Untersuchen Sie am Beispiel des Rechteckflügels mit $l_i=1$ und $\\Lambda = 10$ das Konvergenzverhalten der aerodynamischen Beiwerte ($C_W$, $C_A$) und des Oswald Faktors hinsichtlich der Abhängigkeit von der Anzahl der Elementarflügel (räumliche Diskretisierung).\n",
    "Entscheiden Sie sich für eine Diskretisierung für alle folgenden Aufgabenteil und begründen Sie diese Entscheidung."
   ]
  },
  {
   "cell_type": "markdown",
   "metadata": {},
   "source": [
    "### Visualisierung: Doppeltrapezflügel"
   ]
  },
  {
   "cell_type": "code",
   "execution_count": 115,
   "metadata": {},
   "outputs": [
    {
     "data": {
      "application/vnd.jupyter.widget-view+json": {
       "model_id": "417273bd8c8f4d74aced24255dd3a7c7",
       "version_major": 2,
       "version_minor": 0
      },
      "text/plain": [
       "interactive(children=(FloatSlider(value=0.5, description='l_a [m]', max=1.0), FloatSlider(value=1.0, descripti…"
      ]
     },
     "metadata": {},
     "output_type": "display_data"
    },
    {
     "data": {
      "text/plain": [
       "<function __main__.plot_doppeltrapezfluegel(l_a, l_k, ar)>"
      ]
     },
     "execution_count": 115,
     "metadata": {},
     "output_type": "execute_result"
    }
   ],
   "source": [
    "# TODO elliptische Planform gleicher Streckung hinterlegen\n",
    "def doppeltrapezfluegel(l_a, l_k, AR, l_i=1):\n",
    "    b = AR * (l_k*0.75 + 0.5*(l_i-l_k)*0.75+l_a*(1-0.75)+0.5*(l_k-l_a)*0.25)\n",
    "    s = b / 2\n",
    "    y_lk = 0.75 * s \n",
    "\n",
    "    # Definition der Punkte für eine Seite\n",
    "    points = np.array([\n",
    "        [0, l_i/2],              \n",
    "        [y_lk, l_k/2],    \n",
    "        [s, l_a/2],         \n",
    "        [s, -l_a/2],         \n",
    "        [y_lk, -l_k/2],         \n",
    "        [0, -l_i/2],\n",
    "        [0, l_i/2]        \n",
    "    ])\n",
    "    \n",
    "    return points\n",
    "\n",
    "\n",
    "def plot_doppeltrapezfluegel(l_a, l_k, ar):\n",
    "    points = doppeltrapezfluegel(l_a, l_k, ar)\n",
    "\n",
    "    plt.figure(figsize=(10, 6))\n",
    "    plt.plot(points[:,0], points[:, 1], '-')\n",
    "    plt.xlabel('Spannweite [m]')\n",
    "    plt.ylabel('Flügeltiefe [m]')\n",
    "    plt.title('Doppeltrapezflügel')\n",
    "    plt.axis('equal')\n",
    "    plt.show()\n",
    "\n",
    "interact(plot_doppeltrapezfluegel, \n",
    "         l_a=FloatSlider(value=0.5, min=0, max=1.0, step=0.1, description='l_a [m]'), \n",
    "         l_k=FloatSlider(value=1.0, min=0, max=1.0, step=0.1, description='l_k [m]'), \n",
    "         ar=FloatSlider(value=10, min=5, max=20, step=1, description='ar'))"
   ]
  },
  {
   "cell_type": "markdown",
   "metadata": {},
   "source": [
    "### Geometrische Parameter und Randbedinungen\n",
    "\n",
    "Für die anschließenden Berechnung"
   ]
  },
  {
   "cell_type": "code",
   "execution_count": 116,
   "metadata": {},
   "outputs": [],
   "source": [
    "# Konstant\n",
    "alpha = 1           # Anstellwinel [rad]\n",
    "U_inf = 10          # Anströmgeschwindigkeit [m/s]\n",
    "rho = 1.225         # Dichte [kg/m^3]\n",
    "l_i = 1             # Flügeltiefe Wurzel [m]\n",
    "\n",
    "# Variabel\n",
    "l_a = 0.5           # Flügeltiefe außen [m]\n",
    "l_k = 1             # Flügeltiefe kink [m]\n",
    "ar = 10             # Streckung/ Aspect Ratio"
   ]
  },
  {
   "cell_type": "markdown",
   "metadata": {},
   "source": [
    "### Berechnung weiterer geometrischer Parameter"
   ]
  },
  {
   "cell_type": "code",
   "execution_count": 117,
   "metadata": {},
   "outputs": [
    {
     "name": "stdout",
     "output_type": "stream",
     "text": [
      "Spannweite:                   9.38 m\n",
      "Halbspannweite:               4.69 m\n",
      "Kink-Position:                3.52 m\n",
      "Flügelfläche:                 8.79 m^2\n"
     ]
    }
   ],
   "source": [
    "b = AR * (l_k*0.75 + 0.5*(l_i-l_k)*0.75+l_a*(1-0.75)+0.5*(l_k-l_a)*0.25)    # Spannweite\n",
    "s = b / 2                                                                   # Halbspannweite\n",
    "y_lk = 0.75 * s                                                             # Kink-Position bei 75% der Halbspannweite\n",
    "S = b**2 / AR                                                               # Flügelfläche\n",
    "\n",
    "# Ausgabe\n",
    "print(\"Spannweite:                  \", \"%.2f\" % b, \"m\")\n",
    "print(\"Halbspannweite:              \", \"%.2f\" % s, \"m\")\n",
    "print(\"Kink-Position:               \", \"%.2f\" % y_lk, \"m\")\n",
    "print(\"Flügelfläche:                \", \"%.2f\" % S, \"m^2\")"
   ]
  },
  {
   "cell_type": "markdown",
   "metadata": {},
   "source": [
    "### Vergleich mit elliptischer Planform"
   ]
  },
  {
   "cell_type": "code",
   "execution_count": 118,
   "metadata": {},
   "outputs": [
    {
     "name": "stdout",
     "output_type": "stream",
     "text": [
      "???:                          0.25 m\n",
      "Flügelfläche:                 7.36 m^2\n",
      "Streckung:                    11.94 m\n"
     ]
    }
   ],
   "source": [
    "h_ell = l_i/2 * (np.sqrt(1 - (y_lk / s)))                                   # ???                   \n",
    "S_ell = np.pi * l_i * 0.5 * s                                               # entsprechende Fläche\n",
    "AR_ell = b**2 / S_ell                                                       # entsprechende Streckung\n",
    "\n",
    "# Ausgabe\n",
    "print(\"???:                         \", \"%.2f\" % h_ell, \"m\")\n",
    "print(\"Flügelfläche:                \", \"%.2f\" % S_ell, \"m^2\")\n",
    "print(\"Streckung:                   \", \"%.2f\" % AR_ell, \"m\")"
   ]
  },
  {
   "cell_type": "markdown",
   "metadata": {},
   "source": [
    "### Iterativer Optimierungsprozess"
   ]
  },
  {
   "cell_type": "code",
   "execution_count": null,
   "metadata": {},
   "outputs": [],
   "source": [
    "N = 500             # Anzahl der Elementarflügel\n",
    "delta_b = b/N       # Breite eines Elementarflügels"
   ]
  }
 ],
 "metadata": {
  "kernelspec": {
   "display_name": ".venv",
   "language": "python",
   "name": "python3"
  },
  "language_info": {
   "codemirror_mode": {
    "name": "ipython",
    "version": 3
   },
   "file_extension": ".py",
   "mimetype": "text/x-python",
   "name": "python",
   "nbconvert_exporter": "python",
   "pygments_lexer": "ipython3",
   "version": "3.9.6"
  }
 },
 "nbformat": 4,
 "nbformat_minor": 2
}

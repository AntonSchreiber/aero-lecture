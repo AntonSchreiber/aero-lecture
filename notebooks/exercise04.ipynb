{
 "cells": [
  {
   "cell_type": "markdown",
   "metadata": {},
   "source": [
    "# Übung 4.1 : Das Traglinienverfahren und die Prandtl'sche Tragflügeltheorie"
   ]
  },
  {
   "cell_type": "markdown",
   "metadata": {},
   "source": [
    "<div style=\"text-align: justify\"> </p>Die Übung 4 ist die erste von insgesamt fünf computer-basierten Übungen und soll einen ersten Einblick in aerodynamische Optimierungsaufgaben geben und wie sie mit Algorithmen gelöst werden können. </p>\n",
    "\n",
    "Die **Prandtl'sche Traglinientheorie (engl. \"lifting line theory\")** besteht seit der Zeit des ersten Weltkrieges und findet heutzutage immernoch Anwendung. Darauf basierend wird das numerische Traglinienverfahren als analytische Methode eingesetzt, um im Flügel-Vorentwurf Vorhersagen über Effizienz und Verluste von Tragflügeln endlicher Streckung zu treffen.\n",
    "\n",
    "#### Was liefert die Traglinientheorie?\n",
    "- Auftriebsverteilung entlang der Spannweite\n",
    "- Auftriebskraft \n",
    "- Induzierter Widerstand (Effizienz)\n",
    "\n",
    "#### Was sind die Einschränkungen?\n",
    "- gilt nur für große Streckungen\n",
    "- Pfeilung kann nicht berücksichtigt werden \n",
    "- gilt nur für kleine Anstellwinkel\n",
    "\n",
    "Die ausführliche Theorie zum Verfahren findet ihr in den Skripten begleitend zur Vorlesung. Nachfolgend soll nun exemplarisch gezeigt werden, wie ein solches Traglinienverfahren in Python implementiert werden kann\n",
    " </div>"
   ]
  },
  {
   "cell_type": "code",
   "execution_count": 272,
   "metadata": {},
   "outputs": [],
   "source": [
    "# Importieren von Biblioteken\n",
    "import numpy as np\n",
    "import matplotlib.pyplot as plt\n",
    "from ipywidgets import interact, IntSlider, FloatSlider, fixed"
   ]
  },
  {
   "cell_type": "markdown",
   "metadata": {},
   "source": [
    "## Aufgabe 4.1 a)\n",
    "Untersuchen Sie am Beispiel des Rechteckflügels mit $l_i=1$ und $\\Lambda = 10$ das Konvergenzverhalten der aerodynamischen Beiwerte ($C_W$, $C_A$) und des Oswald Faktors hinsichtlich der Abhängigkeit von der Anzahl der Elementarflügel (räumliche Diskretisierung).\n",
    "Entscheiden Sie sich für eine Diskretisierung für alle folgenden Aufgabenteil und begründen Sie diese Entscheidung."
   ]
  },
  {
   "cell_type": "markdown",
   "metadata": {},
   "source": [
    "### 4.1.1 Visualisierung: Doppeltrapezflügel"
   ]
  },
  {
   "cell_type": "code",
   "execution_count": 273,
   "metadata": {},
   "outputs": [
    {
     "data": {
      "application/vnd.jupyter.widget-view+json": {
       "model_id": "2d0fe414ee8b4880aa24ce0481b05a05",
       "version_major": 2,
       "version_minor": 0
      },
      "text/plain": [
       "interactive(children=(FloatSlider(value=0.5, description='l_a', max=1.0), FloatSlider(value=1.0, description='…"
      ]
     },
     "metadata": {},
     "output_type": "display_data"
    },
    {
     "data": {
      "text/plain": [
       "<function __main__.plot_doppeltrapezfluegel(l_a, l_k, AR)>"
      ]
     },
     "execution_count": 273,
     "metadata": {},
     "output_type": "execute_result"
    }
   ],
   "source": [
    "# TODO elliptische Planform gleicher Streckung hinterlegen\n",
    "def doppeltrapezfluegel(l_a, l_k, AR, l_i=1):\n",
    "    b = AR * (l_k*0.75 + 0.5*(l_i-l_k)*0.75+l_a*(1-0.75)+0.5*(l_k-l_a)*0.25)\n",
    "    s = b / 2\n",
    "    y_lk = 0.75 * s \n",
    "\n",
    "    # Definition der Punkte für eine Seite\n",
    "    points = np.array([\n",
    "        [0, l_i/2],              \n",
    "        [y_lk, l_k/2],    \n",
    "        [s, l_a/2],         \n",
    "        [s, -l_a/2],         \n",
    "        [y_lk, -l_k/2],         \n",
    "        [0, -l_i/2],\n",
    "        [-y_lk, -l_k/2],  \n",
    "        [-s, -l_a/2],    \n",
    "        [-s, l_a/2] ,         \n",
    "        [-y_lk, l_k/2],\n",
    "        [0, l_i/2]\n",
    "    ])\n",
    "    \n",
    "    return points\n",
    "\n",
    "\n",
    "def plot_doppeltrapezfluegel(l_a, l_k, AR):\n",
    "    points = doppeltrapezfluegel(l_a, l_k, AR)\n",
    "\n",
    "    plt.figure(figsize=(10, 6))\n",
    "    plt.plot(points[:,0], points[:, 1], '-', color=\"black\")\n",
    "    plt.xlabel('Spannweite [m]')\n",
    "    plt.ylabel('Flügeltiefe [m]')\n",
    "    plt.title('Doppeltrapezflügel')\n",
    "    plt.axis('equal')\n",
    "    plt.show()\n",
    "\n",
    "interact(plot_doppeltrapezfluegel, \n",
    "         l_a=FloatSlider(value=0.5, min=0, max=1.0, step=0.1, description='l_a'), \n",
    "         l_k=FloatSlider(value=1.0, min=0, max=1.0, step=0.1, description='l_k'), \n",
    "         AR=FloatSlider(value=10, min=5, max=20, step=1, description=r'$\\Lambda$'))"
   ]
  },
  {
   "cell_type": "markdown",
   "metadata": {},
   "source": [
    "### 4.1.2 Geometrische Parameter und Randbedinungen\n",
    "\n",
    "Für die anschließenden Berechnung"
   ]
  },
  {
   "cell_type": "code",
   "execution_count": 274,
   "metadata": {},
   "outputs": [],
   "source": [
    "# Konstant\n",
    "alpha = 1           # Anstellwinel [rad]\n",
    "U_inf = 10          # Anströmgeschwindigkeit [m/s]\n",
    "rho = 1.225         # Dichte [kg/m^3]\n",
    "l_i = 1             # Flügeltiefe Wurzel [m]\n",
    "\n",
    "# Variabel\n",
    "l_a = 0.5           # Flügeltiefe außen [m]\n",
    "l_k = 1             # Flügeltiefe kink [m]\n",
    "AR = 10             # Streckung/ Aspect Ratio"
   ]
  },
  {
   "cell_type": "markdown",
   "metadata": {},
   "source": [
    "#### Berechnung weiterer geometrischer Parameter"
   ]
  },
  {
   "cell_type": "code",
   "execution_count": 275,
   "metadata": {},
   "outputs": [
    {
     "name": "stdout",
     "output_type": "stream",
     "text": [
      "Spannweite:                   9.38 m\n",
      "Halbspannweite:               4.69 m\n",
      "Kink-Position:                3.52 m\n",
      "Flügelfläche:                 8.79 m^2\n"
     ]
    }
   ],
   "source": [
    "b = AR * (l_k*0.75 + 0.5*(l_i-l_k)*0.75+l_a*(1-0.75)+0.5*(l_k-l_a)*0.25)    # Spannweite\n",
    "s = b / 2                                                                   # Halbspannweite\n",
    "y_lk = 0.75 * s                                                             # Kink-Position bei 75% der Halbspannweite\n",
    "S = b**2 / AR                                                               # Flügelfläche\n",
    "\n",
    "# Ausgabe\n",
    "print(\"Spannweite:                  \", \"%.2f\" % b, \"m\")\n",
    "print(\"Halbspannweite:              \", \"%.2f\" % s, \"m\")\n",
    "print(\"Kink-Position:               \", \"%.2f\" % y_lk, \"m\")\n",
    "print(\"Flügelfläche:                \", \"%.2f\" % S, \"m^2\")"
   ]
  },
  {
   "cell_type": "markdown",
   "metadata": {},
   "source": [
    "#### Vergleich mit elliptischer Planform"
   ]
  },
  {
   "cell_type": "code",
   "execution_count": 276,
   "metadata": {},
   "outputs": [
    {
     "name": "stdout",
     "output_type": "stream",
     "text": [
      "???:                          0.25 m\n",
      "Flügelfläche:                 7.36 m^2\n",
      "Streckung:                    11.94\n"
     ]
    }
   ],
   "source": [
    "h_ell = l_i/2 * (np.sqrt(1 - (y_lk / s)))                                   # ???                   \n",
    "S_ell = np.pi * l_i * 0.5 * s                                               # entsprechende Fläche\n",
    "AR_ell = b**2 / S_ell                                                       # entsprechende Streckung\n",
    "\n",
    "# Ausgabe\n",
    "print(\"???:                         \", \"%.2f\" % h_ell, \"m\")\n",
    "print(\"Flügelfläche:                \", \"%.2f\" % S_ell, \"m^2\")\n",
    "print(\"Streckung:                   \", \"%.2f\" % AR_ell)"
   ]
  },
  {
   "cell_type": "markdown",
   "metadata": {},
   "source": [
    "### 4.1.3 Diskretisierung der Spannweite"
   ]
  },
  {
   "cell_type": "code",
   "execution_count": 277,
   "metadata": {},
   "outputs": [],
   "source": [
    "N = 500                         # Anzahl der Elementarflügel\n",
    "delta_b = b/N                   # Breite eines Elementarflügels\n",
    "y = np.linspace(-s, s, N)"
   ]
  },
  {
   "cell_type": "code",
   "execution_count": 278,
   "metadata": {},
   "outputs": [
    {
     "data": {
      "application/vnd.jupyter.widget-view+json": {
       "model_id": "f87e6887c0114829a207f1705d186c97",
       "version_major": 2,
       "version_minor": 0
      },
      "text/plain": [
       "interactive(children=(IntSlider(value=30, description='N', min=1), Output()), _dom_classes=('widget-interact',…"
      ]
     },
     "metadata": {},
     "output_type": "display_data"
    },
    {
     "data": {
      "text/plain": [
       "<function __main__.plot_doppeltrapezfluegel(l_a, l_k, AR, N)>"
      ]
     },
     "execution_count": 278,
     "metadata": {},
     "output_type": "execute_result"
    }
   ],
   "source": [
    "def plot_doppeltrapezfluegel(l_a, l_k, AR,N):\n",
    "    points = doppeltrapezfluegel(l_a, l_k, AR)\n",
    "    \n",
    "    # Diskretisierung der Halbspannweite\n",
    "    y_values = np.linspace(-s, s, N+1)\n",
    "    \n",
    "    # Tiefe des Flügels an verschiedenen y-Positionen berechnen\n",
    "    def tiefe(y):\n",
    "        y = abs(y)\n",
    "        if y <= y_lk:\n",
    "            return 1 + (l_k - 1) * (y / y_lk)\n",
    "        else:\n",
    "            return l_k + (l_a - l_k) * ((y - y_lk) / (s - y_lk))\n",
    "\n",
    "    chord_values = [tiefe(y) for y in y_values]\n",
    "    \n",
    "    # Plotten des Flügels\n",
    "    plt.figure(figsize=(10, 6))\n",
    "    plt.plot(points[:,0], points[:, 1], '-', color=\"black\")\n",
    "\n",
    "    # Diskretisierte Punkte entlang der Spannweite\n",
    "    for i in range(N):\n",
    "        plt.plot([y_values[i], y_values[i+1]], [chord_values[i]/2, chord_values[i+1]/2], 'r--')\n",
    "        plt.plot([y_values[i], y_values[i+1]], [-chord_values[i]/2, -chord_values[i+1]/2], 'r--')\n",
    "        plt.plot([y_values[i], y_values[i]], [-chord_values[i]/2, chord_values[i]/2], 'g-')\n",
    "    \n",
    "    plt.xlabel('Spannweite [m]')\n",
    "    plt.ylabel('Flügeltiefe [m]')\n",
    "    plt.title('Diskretisierung Doppeltrapezflügel')\n",
    "    plt.axis('equal')\n",
    "    plt.grid(True)\n",
    "    plt.show()\n",
    "\n",
    "# Gegebene Parameter\n",
    "l_a = 0.5\n",
    "l_k = 1.0\n",
    "AR = 10\n",
    "\n",
    "interact(plot_doppeltrapezfluegel, \n",
    "         l_a=fixed(l_a), \n",
    "         l_k=fixed(l_k), \n",
    "         AR=fixed(AR), \n",
    "         N=IntSlider(value=30, min=1, max=100, step=1, description='N'))"
   ]
  },
  {
   "cell_type": "markdown",
   "metadata": {},
   "source": [
    "### 4.1.4 Berechnung der Aufpunkt-Koordinaten"
   ]
  },
  {
   "cell_type": "markdown",
   "metadata": {},
   "source": [
    "Zur Bestimmung der $N$ (Variable n) unbekannten Wirbelstärken $\\Gamma$ wird die kinematische Strömungsbedingung in den $N$ (Variable $m$) Aufpunkten erfüllt, und man hat ein lineares Gleichungssystem zu lösen. \n",
    "\n",
    "Dafür müssen die Koordinaten der Aufpunkte bestimmt werden."
   ]
  },
  {
   "cell_type": "code",
   "execution_count": 279,
   "metadata": {},
   "outputs": [],
   "source": [
    "# Spannweitige Positionen der Punkte A, B und C\n",
    "# TODO y_ai, y_bi und y_ci müssen mit laufvariablen für die N punkte bestimmt werden np.linspace\n",
    "# darauf basierend werden dann die zugehörigen x Koordinaten berechnet\n",
    "ya = y[:-1]             \n",
    "yb = y[1:]\n",
    "yc = (y[:-1] + y[1:]) / 2\n",
    "\n",
    "# Tiefenposition der Punkte A, B und C\n",
    "def x_position(y, l_i, l_k, l_a, y_lk):\n",
    "    if y <= y_lk:\n",
    "        return l_i / 4 * (1 - (y / y_lk)) + l_k / 4 * (y / y_lk)\n",
    "    else:\n",
    "        return l_k / 4 * (1 - ((y - y_lk) / (s - y_lk))) + l_a / 4 * ((y - y_lk) / (s - y_lk))\n",
    "\n",
    "xa = np.array([x_position(y_i, l_i, l_k, l_a, y_lk) for y_i in ya])\n",
    "xb = np.array([x_position(y_i, l_i, l_k, l_a, y_lk) for y_i in yb])\n",
    "xc = np.array([x_position(y_i, l_i, l_k, l_a, y_lk) for y_i in yc])\n"
   ]
  }
 ],
 "metadata": {
  "kernelspec": {
   "display_name": ".venv",
   "language": "python",
   "name": "python3"
  },
  "language_info": {
   "codemirror_mode": {
    "name": "ipython",
    "version": 3
   },
   "file_extension": ".py",
   "mimetype": "text/x-python",
   "name": "python",
   "nbconvert_exporter": "python",
   "pygments_lexer": "ipython3",
   "version": "3.9.6"
  }
 },
 "nbformat": 4,
 "nbformat_minor": 2
}

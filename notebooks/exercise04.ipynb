{
 "cells": [
  {
   "cell_type": "markdown",
   "metadata": {},
   "source": [
    "# Übung 4.1 : Das Traglinienverfahren und die Prandtl'sche Tragflügeltheorie"
   ]
  },
  {
   "cell_type": "markdown",
   "metadata": {},
   "source": [
    "<div style=\"text-align: justify\"> </p>Die Übung 4 ist die erste von insgesamt fünf computer-basierten Übungen und soll einen ersten Einblick in aerodynamische Optimierungsaufgaben geben und wie sie mit Algorithmen gelöst werden können. </p>\n",
    "\n",
    "Die **Prandtl'sche Traglinientheorie (engl. \"lifting line theory\")** besteht seit der Zeit des ersten Weltkrieges und findet heutzutage immernoch Anwendung. Darauf basierend wird das numerische Traglinienverfahren als analytische Methode eingesetzt, um im Flügel-Vorentwurf Vorhersagen über Effizienz und Verluste von Tragflügeln endlicher Streckung zu treffen.\n",
    "\n",
    "#### Was liefert die Traglinientheorie?\n",
    "- Auftriebsverteilung entlang der Spannweite\n",
    "- Auftriebskraft \n",
    "- Induzierter Widerstand (Effizienz)\n",
    "\n",
    "#### Was sind die Einschränkungen?\n",
    "- gilt nur für große Streckungen\n",
    "- Pfeilung kann nicht berücksichtigt werden \n",
    "- gilt nur für kleine Anstellwinkel\n",
    "\n",
    "Die ausführliche Theorie zum Verfahren findet ihr in den Skripten begleitend zur Vorlesung. Nachfolgend soll nun exemplarisch gezeigt werden, wie ein solches Traglinienverfahren in Python implementiert werden kann\n",
    " </div>"
   ]
  },
  {
   "cell_type": "code",
   "execution_count": 1,
   "metadata": {},
   "outputs": [],
   "source": [
    "# Importieren von Python-Biblioteken\n",
    "import sys\n",
    "import os\n",
    "import numpy as np\n",
    "import matplotlib.pyplot as plt\n",
    "\n",
    "# Fügt das parent diretory zum Python-Pfad hinzu, damit Dateien aus anderen Directories gelesen werden können\n",
    "sys.path.append(os.path.abspath(os.path.join('..')))\n",
    "\n",
    "# Importieren von Hilfsfunktionen\n",
    "import helper_functions as hf"
   ]
  },
  {
   "cell_type": "markdown",
   "metadata": {},
   "source": [
    "## Aufgabe 4.1 a)\n",
    "Untersuchen Sie am Beispiel des Rechteckflügels mit $l_i=1$ und $\\Lambda = 10$ das Konvergenzverhalten der aerodynamischen Beiwerte ($C_W$, $C_A$) und des Oswald Faktors hinsichtlich der Abhängigkeit von der Anzahl der Elementarflügel (räumliche Diskretisierung).\n",
    "Entscheiden Sie sich für eine Diskretisierung für alle folgenden Aufgabenteil und begründen Sie diese Entscheidung."
   ]
  },
  {
   "cell_type": "markdown",
   "metadata": {},
   "source": [
    "### 4.1.1 Visualisierung: Doppeltrapezflügel"
   ]
  },
  {
   "cell_type": "code",
   "execution_count": 2,
   "metadata": {},
   "outputs": [
    {
     "data": {
      "application/vnd.jupyter.widget-view+json": {
       "model_id": "d9ee739b317d477699eeac1c2ceed37d",
       "version_major": 2,
       "version_minor": 0
      },
      "text/plain": [
       "HBox(children=(Output(), VBox(children=(VBox(children=(VBox(children=(Label(value='Flügeltiefe Kink'), FloatSl…"
      ]
     },
     "metadata": {},
     "output_type": "display_data"
    }
   ],
   "source": [
    "display(hf.widget_doppeltrapezfluegel())"
   ]
  },
  {
   "cell_type": "markdown",
   "metadata": {},
   "source": [
    "### 4.1.2 Geometrische Parameter und Randbedinungen"
   ]
  },
  {
   "cell_type": "code",
   "execution_count": 3,
   "metadata": {},
   "outputs": [],
   "source": [
    "# Konstant\n",
    "alpha = 1.0             # Anstellwinel [rad]\n",
    "U_inf = 10.0            # Anströmgeschwindigkeit [m/s]\n",
    "rho = 1.225             # Dichte [kg/m^3]\n",
    "l_i = 1.0               # Flügeltiefe Wurzel [m]"
   ]
  },
  {
   "cell_type": "markdown",
   "metadata": {},
   "source": [
    "#### EINGABE"
   ]
  },
  {
   "cell_type": "code",
   "execution_count": 4,
   "metadata": {},
   "outputs": [],
   "source": [
    "l_a = 0.5               # Flügeltiefe außen [m]\n",
    "l_k = 0.8               # Flügeltiefe kink [m]\n",
    "AR = 10                 # Streckung/ Aspect Ratio"
   ]
  },
  {
   "cell_type": "markdown",
   "metadata": {},
   "source": [
    "#### Berechnung weiterer geometrischer Parameter"
   ]
  },
  {
   "cell_type": "code",
   "execution_count": 5,
   "metadata": {},
   "outputs": [
    {
     "name": "stdout",
     "output_type": "stream",
     "text": [
      "Spannweite:                   8.38 m\n",
      "Halbspannweite:               4.19 m\n",
      "Kink-Position:                3.14 m\n",
      "Flügelfläche:                 7.01 m^2\n"
     ]
    }
   ],
   "source": [
    "# Berechnung der Halbspannweite\n",
    "b = AR * (l_k*0.75 + 0.5*(l_i-l_k)*0.75+l_a*(1-0.75)+0.5*(l_k-l_a)*0.25)   \n",
    "s = b / 2 \n",
    "\n",
    "# Berechnung der Kink-Position (bei 75% der Halbspannweite)\n",
    "y_lk = 0.75 * s     \n",
    "\n",
    "# Berechnung der Flügelfläche\n",
    "S = b**2 / AR         \n",
    "\n",
    "# Ausgabe\n",
    "print(\"Spannweite:                  \", \"%.2f\" % b, \"m\")\n",
    "print(\"Halbspannweite:              \", \"%.2f\" % s, \"m\")\n",
    "print(\"Kink-Position:               \", \"%.2f\" % y_lk, \"m\")\n",
    "print(\"Flügelfläche:                \", \"%.2f\" % S, \"m^2\")"
   ]
  },
  {
   "cell_type": "markdown",
   "metadata": {},
   "source": [
    "#### Vergleich mit elliptischer Planform"
   ]
  },
  {
   "cell_type": "code",
   "execution_count": 6,
   "metadata": {},
   "outputs": [
    {
     "name": "stdout",
     "output_type": "stream",
     "text": [
      "???:                          0.25 m\n",
      "Flügelfläche:                 6.58 m^2\n",
      "Streckung:                    10.66\n"
     ]
    }
   ],
   "source": [
    "h_ell = l_i/2 * (np.sqrt(1 - (y_lk / s)))                                   # ???                   \n",
    "S_ell = np.pi * l_i * 0.5 * s                                               # entsprechende Fläche\n",
    "AR_ell = b**2 / S_ell                                                       # entsprechende Streckung\n",
    "\n",
    "# Ausgabe\n",
    "print(\"???:                         \", \"%.2f\" % h_ell, \"m\")\n",
    "print(\"Flügelfläche:                \", \"%.2f\" % S_ell, \"m^2\")\n",
    "print(\"Streckung:                   \", \"%.2f\" % AR_ell)"
   ]
  },
  {
   "cell_type": "markdown",
   "metadata": {},
   "source": [
    "### 4.1.4 Berechnung der Hufeisenwirbel-Koordinaten"
   ]
  },
  {
   "cell_type": "markdown",
   "metadata": {},
   "source": [
    "Zur Bestimmung der $N$ (Variable n) unbekannten Wirbelstärken $\\Gamma$ wird die kinematische Strömungsbedingung in den $N$ (Variable $m$) Aufpunkten erfüllt, und man hat ein lineares Gleichungssystem zu lösen. Dafür werden die Koordinaten des tragenden Wirbels entlang der örtlichen $l_p/4$-Linie (indizes a, b) am Rand jedes Elementarflügels sowie die der Aufpunkte im $3l_p/4$–Punkt des Mittelschnittes jedes Elementarflügels (index c) bestimmt."
   ]
  },
  {
   "cell_type": "code",
   "execution_count": 7,
   "metadata": {},
   "outputs": [
    {
     "data": {
      "application/vnd.jupyter.widget-view+json": {
       "model_id": "b89b60349a814f1ca4965645e94fca44",
       "version_major": 2,
       "version_minor": 0
      },
      "text/plain": [
       "HBox(children=(Output(), VBox(children=(VBox(children=(VBox(children=(Label(value='Anzahl der Elementarflügel'…"
      ]
     },
     "execution_count": 7,
     "metadata": {},
     "output_type": "execute_result"
    }
   ],
   "source": [
    "# Visualisierung der Diskretisierung\n",
    "hf.widget_diskretisierung_doppeltrapez(l_a, l_k, y_lk, AR, s)"
   ]
  },
  {
   "cell_type": "markdown",
   "metadata": {},
   "source": [
    "#### EINGABE"
   ]
  },
  {
   "cell_type": "code",
   "execution_count": 8,
   "metadata": {},
   "outputs": [],
   "source": [
    "# # Anzahl der Elementarflügel und Breite eines Elementarflügels\n",
    "N = 500                         \n",
    "delta_b = b/N                   "
   ]
  },
  {
   "cell_type": "code",
   "execution_count": 9,
   "metadata": {},
   "outputs": [],
   "source": [
    "# Spannweitige Positionen der Punkte A, B und Aufpunkt C\n",
    "y_a = np.array([-s +  j    * delta_b for j in range(N)])\n",
    "y_b = np.array([-s + (j+1) * delta_b for j in range(N)])\n",
    "y_c = np.array([-s + delta_b/2 + i*delta_b for i in range(N)])\n",
    "\n",
    "# Tiefenposition der Punkte A und B und Aufpunkt C\n",
    "def x_position(y, l_i, l_k, l_a, y_lk, aufpunkt=False):\n",
    "    tiefe = 0.75 if aufpunkt else 0.25\n",
    "    if abs(y) <= y_lk:\n",
    "        return (abs(y)/y_lk * 0.5*(l_i-l_k) + tiefe*(l_i - abs(y)/y_lk * (l_i-l_k)))\n",
    "    else:\n",
    "        return (0.5*(l_i-l_k) + (abs(y)-y_lk)/(s-y_lk) * 0.5*(l_k-l_a) + tiefe*(l_k - (abs(y)-y_lk)/(s-y_lk)*(l_k-l_a)))\n",
    "    \n",
    "x_a = np.array([x_position(y_i, l_i, l_k, l_a, y_lk) for y_i in y_a])\n",
    "x_b = np.array([x_position(y_i, l_i, l_k, l_a, y_lk) for y_i in y_b])\n",
    "x_c = np.array([x_position(y_i, l_i, l_k, l_a, y_lk, True) for y_i in y_c])\n",
    "\n",
    "# Spannweitige Positionen der bis ins Unendliche reichenden nichttragenden Wirbel\n",
    "y_aoo = np.array([-s +  j    * delta_b for j in range(N)])\n",
    "y_boo = np.array([-s + (j+1) * delta_b for j in range(N)])\n",
    "\n",
    "# Tiefenposition der bis ins Unendliche reichenden nichttragenden Wirbel\n",
    "x_aoo = x_a + 100*s\n",
    "x_boo = x_b + 100*s"
   ]
  },
  {
   "cell_type": "markdown",
   "metadata": {},
   "source": [
    "### 4.1.5 Berechnung der Koeffizientenmatrix"
   ]
  },
  {
   "cell_type": "code",
   "execution_count": 10,
   "metadata": {},
   "outputs": [],
   "source": [
    "# initialisieren der Matrizen\n",
    "a_AB = np.zeros((x_a.size, x_a.size))\n",
    "a_Aoo = np.zeros((x_a.size, x_a.size))\n",
    "a_Boo = np.zeros((x_a.size, x_a.size))\n",
    "\n",
    "for j in range(N):\n",
    "    for i in range(N):\n",
    "        a_AB[i, j] = 1 / (4*np.pi) * (1/((x_c[i] - x_a[j])*(y_c[i] - y_b[j]) - (y_c[i] - y_a[j])*(x_c[i] - x_b[j]))) * (((x_b[j] - x_a[j])*(x_c[i] - x_a[j]) + (y_b[j] - y_a[j])*(y_c[i] - y_a[j]))/ np.sqrt((x_c[i] - x_a[j])**2 + (y_c[i] - y_a[j])**2) - ((x_b[j] - x_a[j])*(x_c[i] - x_b[j]) + (y_b[j] - y_a[j])*(y_c[i] - y_b[j]))/ np.sqrt((x_c[i] - x_b[j])**2 + (y_c[i] - y_b[j])**2))\n",
    "\n",
    "for j in range(N):\n",
    "    for i in range(N):\n",
    "        a_Aoo[i, j] = 1 / (4*np.pi) * 1/(y_a[j] - y_c[i]) * ((x_c[i] - x_a[j])/ (np.sqrt((x_c[i] - x_a[j])**2 + (y_c[i] - y_a[j])**2)) + 1)\n",
    "\n",
    "for j in range(N):\n",
    "    for i in range(N):\n",
    "        a_Boo[i, j] = 1 / (4*np.pi) * 1/(y_b[j] - y_c[i]) * ((x_c[i] - x_b[j])/ (np.sqrt((x_c[i] - x_b[j])**2 + (y_c[i] - y_b[j])**2)) + 1)"
   ]
  },
  {
   "cell_type": "code",
   "execution_count": 11,
   "metadata": {},
   "outputs": [],
   "source": [
    "a = a_AB + a_Aoo - a_Boo                # Koeffizientenmatrix\n",
    "a_ind = a_Aoo - a_Boo                   # Koeffizientenmatrix der induzierenden Wirbel\n",
    "alpha_g = np.full((x_a.size), alpha)    # Anstellwinkelvektor\n",
    "\n",
    "# die Wirbelstärken werden aus Inverser der Koeffizientenmatrix, Anstellwinkelvektor und Anströmgeschwindigkeit berechnet\n",
    "Gamma = np.linalg.inv(a) * alpha_g * (- U_inf)"
   ]
  },
  {
   "cell_type": "markdown",
   "metadata": {},
   "source": [
    "### 4.1.6 Berechnung von Kräften und Beiwerten"
   ]
  },
  {
   "cell_type": "code",
   "execution_count": 12,
   "metadata": {},
   "outputs": [
    {
     "name": "stdout",
     "output_type": "stream",
     "text": [
      "Auftrieb:                     2138.85 N\n",
      "Induzierter Widerstand:       103.99 N\n"
     ]
    }
   ],
   "source": [
    "# Berechnung des Auftriebs nach Kutta-Joukowsky\n",
    "A_j = rho * delta_b * U_inf * Gamma\n",
    "A = np.sum(A_j)\n",
    "\n",
    "# Berechnung des induzierten Widerstands\n",
    "w_m = a_ind * Gamma\n",
    "W_ind = np.sum(-rho *w_m * Gamma * delta_b)\n",
    "\n",
    "print(\"Auftrieb:                    \", \"%.2f\" % A, \"N\")\n",
    "print(\"Induzierter Widerstand:      \", \"%.2f\" % W_ind, \"N\")"
   ]
  },
  {
   "cell_type": "code",
   "execution_count": 13,
   "metadata": {},
   "outputs": [
    {
     "data": {
      "image/png": "[encoded data removed]",
      "text/plain": [
       "<Figure size 1000x600 with 1 Axes>"
      ]
     },
     "metadata": {},
     "output_type": "display_data"
    }
   ],
   "source": [
    "# Auftriebsverteilung plotten\n",
    "hf.plot_auftriebsverteilung(A_j, y_c, s)"
   ]
  },
  {
   "cell_type": "code",
   "execution_count": 14,
   "metadata": {},
   "outputs": [
    {
     "name": "stdout",
     "output_type": "stream",
     "text": [
      "Auftriebsbeiwert:             4.98\n",
      "Auftriebsanstieg:             5.24\n",
      "Widerstandsbeiwert:           0.24\n"
     ]
    }
   ],
   "source": [
    "# Auftriebsbeiwert\n",
    "C_A = 2*A / (rho * U_inf**2 * S)\n",
    "\n",
    "# Für alpha= 1 [rad] entspricht C_A dem Auftriebsanstieg wegen C_A = C_A_alpha * alpha\n",
    "# Als Vergleichswert dient die Näherungslösung\n",
    "C_A_alpha = 2*np.pi * AR / (2+AR)\n",
    "\n",
    "# Widerstandsbeiwert (induziert)\n",
    "C_W_ind = 2*W_ind / (rho * U_inf**2 * S)\n",
    "\n",
    "print(\"Auftriebsbeiwert:            \", \"%.2f\" % C_A)\n",
    "print(\"Auftriebsanstieg:            \", \"%.2f\" % C_A_alpha)\n",
    "print(\"Widerstandsbeiwert:          \", \"%.2f\" % C_W_ind)"
   ]
  },
  {
   "cell_type": "code",
   "execution_count": 15,
   "metadata": {},
   "outputs": [
    {
     "name": "stdout",
     "output_type": "stream",
     "text": [
      "Widerstandsbeiwert (Ellipse): 0.79\n",
      "Oswald-Faktor:                3.26\n"
     ]
    }
   ],
   "source": [
    "# Induzierter Widerstand der elliptischen Zirkulationsverteilung\n",
    "C_W_ind_ell = C_A**2 / AR / np.pi\n",
    "\n",
    "# Oswald Faktor\n",
    "Oswald = C_W_ind_ell / C_W_ind\n",
    "\n",
    "print(\"Widerstandsbeiwert (Ellipse):\", \"%.2f\" % C_W_ind_ell)\n",
    "print(\"Oswald-Faktor:               \", \"%.2f\" % Oswald)"
   ]
  }
 ],
 "metadata": {
  "kernelspec": {
   "display_name": ".venv",
   "language": "python",
   "name": "python3"
  },
  "language_info": {
   "codemirror_mode": {
    "name": "ipython",
    "version": 3
   },
   "file_extension": ".py",
   "mimetype": "text/x-python",
   "name": "python",
   "nbconvert_exporter": "python",
   "pygments_lexer": "ipython3",
   "version": "3.9.6"
  }
 },
 "nbformat": 4,
 "nbformat_minor": 2
}

{
 "cells": [
  {
   "cell_type": "markdown",
   "metadata": {},
   "source": [
    "# **Übung 5: Der Tragflügel in Rollbewegung**"
   ]
  },
  {
   "cell_type": "code",
   "execution_count": 1,
   "metadata": {},
   "outputs": [],
   "source": [
    "# Importieren von Python-Biblioteken\n",
    "import numpy as np\n",
    "import matplotlib.pyplot as plt\n",
    "from ipywidgets import IntSlider, VBox, HBox, Label\n",
    "from mpl_toolkits.mplot3d.art3d import Poly3DCollection\n",
    "import ipywidgets as widgets\n",
    "\n",
    "# Erhöhen der Plot-Auflösung\n",
    "plt.rcParams[\"figure.dpi\"] = 140"
   ]
  },
  {
   "cell_type": "markdown",
   "metadata": {},
   "source": [
    "### **5.1.1 Visualisierung: Rechteckflügel mit Querrudern**"
   ]
  },
  {
   "cell_type": "code",
   "execution_count": 2,
   "metadata": {},
   "outputs": [],
   "source": [
    "def rechteckfluegel(AR, xi, l_i, l_a):\n",
    "    \"\"\"Generiert die Planform eines Rechteckflügels mit Rudern\"\"\"\n",
    "    \n",
    "    b = l_a * AR\n",
    "    s = b / 2\n",
    "    l_i = l_a\n",
    "\n",
    "    # ruderbreite und -tiefe \n",
    "    y_ruder = 0.65 * s\n",
    "    x_ruder = 0.8 * l_i\n",
    "    rudertiefe = l_i - x_ruder\n",
    "    \n",
    "    # Flügelpunkte\n",
    "    points_fluegel = np.array([\n",
    "        [0, 0], [s, 0], [s, x_ruder], [y_ruder, x_ruder], \n",
    "        [y_ruder, l_a], [-y_ruder, l_a], [-y_ruder, x_ruder], [-s, x_ruder], [-s, 0], [0, 0]\n",
    "    ])\n",
    "    points_fluegel = [np.append(pt, 0) for pt in points_fluegel]\n",
    "    \n",
    "    # Ruderpunkte links\n",
    "    ruder_links = np.array([\n",
    "        [y_ruder, x_ruder, 0], [s, x_ruder, 0], \n",
    "        [s, x_ruder + rudertiefe * np.cos(np.radians(xi)), +rudertiefe * np.sin(np.radians(xi))], \n",
    "        [y_ruder, x_ruder + rudertiefe * np.cos(np.radians(xi)), +rudertiefe * np.sin(np.radians(xi))],\n",
    "        [y_ruder, x_ruder, 0]\n",
    "    ])\n",
    "    \n",
    "    # Ruderpunkte rechts\n",
    "    ruder_rechts = np.array([\n",
    "        [-y_ruder, x_ruder, 0], [-s, x_ruder, 0], \n",
    "        [-s, x_ruder + rudertiefe * np.cos(np.radians(xi)), -rudertiefe * np.sin(np.radians(xi))], \n",
    "        [-y_ruder, x_ruder + rudertiefe * np.cos(np.radians(xi)), -rudertiefe * np.sin(np.radians(xi))],\n",
    "        [-y_ruder, x_ruder, 0]\n",
    "    ])\n",
    "    \n",
    "    return points_fluegel, ruder_links, ruder_rechts\n",
    "\n",
    "def plot_rechteckfluegel(AR, xi, l_i=1.0, l_a=1.0):\n",
    "    \"\"\"Plottet die Planform eines Rechteckflügels mit verstellbaren Rudern\"\"\"\n",
    "    \n",
    "    points_fluegel, ruder_links, ruder_rechts = rechteckfluegel(AR, xi, l_i, l_a)\n",
    "\n",
    "    fig = plt.figure(figsize=(5, 7))\n",
    "    ax = fig.add_subplot(111, projection='3d')\n",
    "    \n",
    "    # Flügel und Ruder plotten\n",
    "    ax.add_collection3d(Poly3DCollection([points_fluegel], color=\"black\", alpha=0.6))\n",
    "    ax.add_collection3d(Poly3DCollection([ruder_links], color=\"lightcoral\", alpha=0.6))\n",
    "    ax.add_collection3d(Poly3DCollection([ruder_rechts], color=\"lightcoral\", alpha=0.6))\n",
    "    \n",
    "    # Achsen, Gitter und Hintergrund entfernen; Perspektive einstellen\n",
    "    ax.set_axis_off() \n",
    "    ax.set_facecolor('white')\n",
    "    ax.view_init(elev=30, azim=45)\n",
    "\n",
    "    plt.gca().set_aspect('equal')\n",
    "    plt.show()\n",
    "\n",
    "def widget_rechteckfluegel():\n",
    "    \"\"\"Erzeugt ein Widget, mit dem sich die Planform eines Rechteckflügels mit verstellbaren Rudern visualisieren lässt\"\"\"\n",
    "\n",
    "    slider_AR = VBox([Label('Streckung'), IntSlider(value=8, min=5, max=20, step=1)])\n",
    "    slider_xi = VBox([Label('Klappenwinkel [°]'), IntSlider(value=15, min=-30, max=30, step=1)])\n",
    "    \n",
    "    ui = VBox([slider_AR,  slider_xi])\n",
    "    out = widgets.interactive_output(plot_rechteckfluegel, {'AR': slider_AR.children[1], 'xi': slider_xi.children[1]})\n",
    "\n",
    "    # Layout anpassen\n",
    "    out.layout = widgets.Layout(width='70%')\n",
    "    ui.layout = widgets.Layout(width='30%')\n",
    "    return HBox([out, ui], layout=widgets.Layout(justify_content='center', align_items='center', width='100%'))"
   ]
  },
  {
   "cell_type": "code",
   "execution_count": 3,
   "metadata": {},
   "outputs": [
    {
     "data": {
      "application/vnd.jupyter.widget-view+json": {
       "model_id": "23f5424dbd1345f6b400c317877cb1e3",
       "version_major": 2,
       "version_minor": 0
      },
      "text/plain": [
       "HBox(children=(Output(layout=Layout(width='70%')), VBox(children=(VBox(children=(Label(value='Streckung'), Int…"
      ]
     },
     "execution_count": 3,
     "metadata": {},
     "output_type": "execute_result"
    }
   ],
   "source": [
    "widget_rechteckfluegel()"
   ]
  },
  {
   "cell_type": "markdown",
   "metadata": {},
   "source": [
    "### **5.1.2 Geometrische Parameter und Randbedinungen**"
   ]
  },
  {
   "cell_type": "code",
   "execution_count": 4,
   "metadata": {},
   "outputs": [],
   "source": [
    "# Konstant\n",
    "alpha = 0                       # Anstellwinel [deg]\n",
    "alpha = alpha / 180 * np.pi     # Anstellwinel [rad]  \n",
    "U_inf = 10.0                    # Anströmgeschwindigkeit [m/s]\n",
    "rho = 1.225                     # Dichte [kg/m^3]\n",
    "l_i = 1.0                       # Flügeltiefe Rumpfmitte [m]\n",
    "l_a = 1.0                       # Flügeltiefe außen [m]\n",
    "l_r = 0.2                       # Rudertiefe [m]"
   ]
  },
  {
   "cell_type": "markdown",
   "metadata": {},
   "source": [
    "# 🟠"
   ]
  },
  {
   "cell_type": "code",
   "execution_count": 5,
   "metadata": {},
   "outputs": [],
   "source": [
    "# Diese Parameter können verändert werden\n",
    "AR = 10                         # Streckung/ Aspect Ratio\n",
    "xi = 30                         # Klappenwinkel [deg]\n",
    "omega = 1                       # dimensionslose Rollgeschwindigkeit"
   ]
  },
  {
   "cell_type": "markdown",
   "metadata": {},
   "source": [
    "#### Berechnung weiterer geometrischer Parameter"
   ]
  },
  {
   "cell_type": "code",
   "execution_count": 6,
   "metadata": {},
   "outputs": [
    {
     "name": "stdout",
     "output_type": "stream",
     "text": [
      "Halbspannweite:                           5.00 m\n",
      "Spannweitige Position der Ruder:          3.250 m\n",
      "Nullanstellwinkel des Klappenprofils:     -0.005°\n"
     ]
    }
   ],
   "source": [
    "# Berechnung der Halbspannweite\n",
    "b = (l_i + l_a) * AR / 2\n",
    "s = b / 2 \n",
    "\n",
    "# Berechnung der Flügelfläche aus Halbspannweite und Flügeltiefen\n",
    "S = b/2 * (l_a + l_i)       \n",
    "\n",
    "# Verhältnis Rudertiefe-Flügeltiefe und spannweitige Position\n",
    "lamda = l_r / l_i\n",
    "y_ruder = 0.65 * s\n",
    "\n",
    "# Berechnung des Nullanstellwinkels des Klappenprofils\n",
    "xi = xi * np.pi / 180\n",
    "alpha_0 = - 2 / np.pi * (np.asin(np.sqrt(lamda)) + np.sqrt(lamda * (1 - lamda))) * xi\n",
    "\n",
    "# Berechnung der Breite eines Elementarflügels\n",
    "N = 500\n",
    "delta_b = b/ N\n",
    "\n",
    "print(\"Halbspannweite:                          \", \"%.2f\" % s, \"m\")\n",
    "print(\"Spannweitige Position der Ruder:         \", \"%.3f\" % y_ruder, \"m\")\n",
    "print(\"Nullanstellwinkel des Klappenprofils:    \", str(round(alpha_0 * np.pi / 180, 4)) + \"°\")"
   ]
  },
  {
   "cell_type": "markdown",
   "metadata": {},
   "source": [
    "### **5.1.3 Berechnung der Hufeisenwirbel-Koordinaten**"
   ]
  },
  {
   "cell_type": "code",
   "execution_count": 7,
   "metadata": {},
   "outputs": [],
   "source": [
    "def x_position(y, l_i, l_a, s, aufpunkt=False):\n",
    "    \"\"\"Berechnet die Tiefenposition der Punkte A und B und des Aufpunkts C\"\"\"\n",
    "\n",
    "    tiefe = 0.75 if aufpunkt else 0.25\n",
    "    return abs(y) / s * (l_i - l_a) / 2 + tiefe * (l_i - abs(y) / s * (l_i - l_a))\n",
    "\n",
    "\n",
    "def compute_coords(s, N, delta_b, l_i, l_a):\n",
    "    \"\"\"Berechnet die Hufeisenwirbel-Koordinaten aus Basis der Flügelgeometrie und Anzahl der Elementarflügel\"\"\"\n",
    "\n",
    "    # Spannweitige Positionen der Punkte A, B und Aufpunkt C\n",
    "    y_a = np.array([-s +  j    * delta_b for j in range(N)])\n",
    "    y_b = np.array([-s + (j+1) * delta_b for j in range(N)])\n",
    "    y_c = np.array([-s + delta_b/2 + i*delta_b for i in range(N)])\n",
    "    \n",
    "    # Tiefenposition der Punkte A und B und des Aufpunkts C\n",
    "    x_a = np.array([x_position(y_i, l_i, l_a, s) for y_i in y_a])\n",
    "    x_b = np.array([x_position(y_i, l_i, l_a, s) for y_i in y_b])\n",
    "    x_c = np.array([x_position(y_i, l_i, l_a, s, True) for y_i in y_c])\n",
    "\n",
    "    # Spannweitige Positionen der bis ins Unendliche reichenden nichttragenden Wirbel\n",
    "    y_aoo = np.array([-s +  j    * delta_b for j in range(N)])\n",
    "    y_boo = np.array([-s + (j+1) * delta_b for j in range(N)])\n",
    "\n",
    "    # Tiefenposition der bis ins Unendliche reichenden nichttragenden Wirbel\n",
    "    x_aoo = x_a + 100*s\n",
    "    x_boo = x_b + 100*s\n",
    "\n",
    "    return y_a, y_b, y_c, x_a, x_b, x_c, y_aoo, y_boo, x_aoo, x_boo\n",
    "\n",
    "\n",
    "# Berechnen aller Hufeisenwirbel-Koordinaten\n",
    "y_a, y_b, y_c, x_a, x_b, x_c, y_aoo, y_boo, x_aoo, x_boo = compute_coords(s, N, delta_b, l_i, l_a)"
   ]
  },
  {
   "cell_type": "markdown",
   "metadata": {},
   "source": [
    "### **5.1.4 Berechnung der Koeffizientenmatrix**"
   ]
  },
  {
   "cell_type": "code",
   "execution_count": 8,
   "metadata": {},
   "outputs": [],
   "source": [
    "def compute_coeff_matrices(y_a, y_b, y_c, x_a, x_b, x_c):\n",
    "    \"\"\"Berechnet die drei Anteile der Koeffizientenmatrix\"\"\"\n",
    "    \n",
    "    # Initialisieren der Matrizen\n",
    "    a_AB = np.zeros((x_a.size, x_a.size))\n",
    "    a_Aoo = np.zeros((x_a.size, x_a.size))\n",
    "    a_Boo = np.zeros((x_a.size, x_a.size))\n",
    "\n",
    "    # Berechnen der Anteile der gebundenen Wirbel\n",
    "    for j in range(N):\n",
    "        for i in range(N):\n",
    "            a_AB[i, j] = 1 / (4*np.pi) * (1/((x_c[i] - x_a[j])*(y_c[i] - y_b[j]) - (y_c[i] - y_a[j])*(x_c[i] - x_b[j]))) * (((x_b[j] - x_a[j])*(x_c[i] - x_a[j]) + (y_b[j] - y_a[j])*(y_c[i] - y_a[j]))/ np.sqrt((x_c[i] - x_a[j])**2 + (y_c[i] - y_a[j])**2) - ((x_b[j] - x_a[j])*(x_c[i] - x_b[j]) + (y_b[j] - y_a[j])*(y_c[i] - y_b[j]))/ np.sqrt((x_c[i] - x_b[j])**2 + (y_c[i] - y_b[j])**2))\n",
    "\n",
    "    # Berechnen der Anteile der freien Wirbel der linken Seite\n",
    "    for j in range(N):\n",
    "        for i in range(N):\n",
    "            a_Aoo[i, j] = 1 / (4*np.pi) * 1/(y_a[j] - y_c[i]) * ((x_c[i] - x_a[j])/ (np.sqrt((x_c[i] - x_a[j])**2 + (y_c[i] - y_a[j])**2)) + 1)\n",
    "\n",
    "    # Berechnen der Anteile der freien Wirbel der rechten Seite\n",
    "    for j in range(N):\n",
    "        for i in range(N):\n",
    "            a_Boo[i, j] = 1 / (4*np.pi) * 1/(y_b[j] - y_c[i]) * ((x_c[i] - x_b[j])/ (np.sqrt((x_c[i] - x_b[j])**2 + (y_c[i] - y_b[j])**2)) + 1)\n",
    "    \n",
    "    return a_AB, a_Aoo, a_Boo"
   ]
  },
  {
   "cell_type": "code",
   "execution_count": 9,
   "metadata": {},
   "outputs": [],
   "source": [
    "def compute_forces_coeffs(alpha_g, a, s):\n",
    "    \"\"\" Berechnet Kräfte und Beiwerte \"\"\"\n",
    "    \n",
    "    for i in range(alpha_g.shape[0]):\n",
    "        if y_c[i] < -y_ruder:\n",
    "            alpha_g[i] += alpha_0\n",
    "        elif y_c[i] > y_ruder:\n",
    "            alpha_g[i] -= alpha_0\n",
    "\n",
    "    # dimensionslose Position der Aufpunkte\n",
    "    eta = y_c / s\n",
    "\n",
    "    # Berechnung der Ruder- und Rollwirbelstärken\n",
    "    Gamma_ruder = np.linalg.solve(a, alpha_g * (- U_inf)) \n",
    "    Gamma_rollen = np.linalg.solve(a, eta * omega * (- U_inf)) \n",
    "\n",
    "    # Berechnen der Auftriebsanteile und zugehörigen Beiwerte\n",
    "    A_i_ruder = rho * delta_b * U_inf * Gamma_ruder\n",
    "    A_i_rollen = rho * delta_b * U_inf * Gamma_rollen\n",
    "    A_i = A_i_ruder + A_i_rollen\n",
    "\n",
    "    # Berechnen der Rollmomente und zugehörigen Beiwerte\n",
    "    rollmoment_ruder = np.sum(-y_c * A_i_ruder)\n",
    "    rollmoment = np.sum(-y_c * A_i_rollen)\n",
    "\n",
    "    C_L_ruder = 2*rollmoment_ruder / rho / U_inf**2 / S / s\n",
    "    C_L_rollen = 2*rollmoment / rho / U_inf**2 / S / s\n",
    "\n",
    "    return C_L_ruder, C_L_rollen, A_i"
   ]
  },
  {
   "cell_type": "code",
   "execution_count": 10,
   "metadata": {},
   "outputs": [],
   "source": [
    "# Berechnen der Anteile der Koeffizientenmatrix\n",
    "a_AB, a_Aoo, a_Boo = compute_coeff_matrices(y_a, y_b, y_c, x_a, x_b, x_c)\n",
    "\n",
    "a = a_AB + a_Aoo - a_Boo                                # Koeffizientenmatrix\n",
    "alpha_g = np.full((a.shape[0]), alpha, dtype=float)     # Anstellwinkelvektor"
   ]
  },
  {
   "cell_type": "markdown",
   "metadata": {},
   "source": [
    "### **5.1.5 Berechnen von Kräften, Momenten und Beiwerten**"
   ]
  },
  {
   "cell_type": "code",
   "execution_count": 11,
   "metadata": {},
   "outputs": [
    {
     "name": "stdout",
     "output_type": "stream",
     "text": [
      "Dimensionslose Rollgeschwindigkeit:           0.225\n",
      "Dimensionsbehaftete Rollgeschwindigkeit:      25.83 °/s\n"
     ]
    }
   ],
   "source": [
    "C_L_ruder, C_L_rollen, A_i = compute_forces_coeffs(alpha_g, a, s)\n",
    "\n",
    "# Berechnen der Rollgeschwindigkeit\n",
    "Omega_max = C_L_ruder / C_L_rollen\n",
    "omega_x = Omega_max / s * U_inf * 180 / np.pi\n",
    "\n",
    "print(\"Dimensionslose Rollgeschwindigkeit:          \", \"%.3f\" % Omega_max)\n",
    "print(\"Dimensionsbehaftete Rollgeschwindigkeit:     \", \"%.2f\" % omega_x, \"°/s\")"
   ]
  },
  {
   "cell_type": "markdown",
   "metadata": {},
   "source": [
    "#### Auftriebsverteilung"
   ]
  },
  {
   "cell_type": "code",
   "execution_count": 12,
   "metadata": {},
   "outputs": [
    {
     "data": {
      "image/png": "[encoded data removed]",
      "text/plain": [
       "<Figure size 840x420 with 2 Axes>"
      ]
     },
     "metadata": {},
     "output_type": "display_data"
    }
   ],
   "source": [
    "# Hinzufügen von Endpunkten zum plotten\n",
    "A_i = np.insert(A_i, 0, 0)\n",
    "A_i = np.append(A_i, 0)\n",
    "y_c = np.insert(y_c, 0, -s)\n",
    "y_c = np.append(y_c, s)\n",
    "\n",
    "fig, ax1 = plt.subplots(figsize=(6, 3))\n",
    "\n",
    "# Plot der Auftriebsverteilung\n",
    "ax1.plot(y_c, A_i, '-', color=\"firebrick\", label='Auftriebsverteilung')\n",
    "ax1.set_xlabel('Spannweite [m]')\n",
    "ax1.set_ylabel(r'Auftrieb [N]', color='firebrick')\n",
    "ax1.tick_params(axis='y', labelcolor='firebrick')\n",
    "\n",
    "# Erstellen einer zweiten y-Achse (Anstellwinkel)\n",
    "ax2 = ax1.twinx()\n",
    "ax2.plot(y_c[1:-1], alpha_g, '--', color=\"black\", label='Anstellwinkelverteilung')\n",
    "ax2.set_ylabel(r'$\\alpha$ [rad]', color='black')\n",
    "ax2.tick_params(axis='y', labelcolor='black')\n",
    "\n",
    "plt.title('Auftriebs- und Anstellwinkelverteilung')\n",
    "fig.tight_layout()\n",
    "plt.show()"
   ]
  }
 ],
 "metadata": {
  "kernelspec": {
   "display_name": ".venv",
   "language": "python",
   "name": "python3"
  },
  "language_info": {
   "codemirror_mode": {
    "name": "ipython",
    "version": 3
   },
   "file_extension": ".py",
   "mimetype": "text/x-python",
   "name": "python",
   "nbconvert_exporter": "python",
   "pygments_lexer": "ipython3",
   "version": "3.12.4"
  }
 },
 "nbformat": 4,
 "nbformat_minor": 2
}

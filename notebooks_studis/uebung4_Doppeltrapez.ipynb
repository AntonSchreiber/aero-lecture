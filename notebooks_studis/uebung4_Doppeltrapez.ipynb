{
 "cells": [
  {
   "cell_type": "markdown",
   "metadata": {},
   "source": [
    "# **Übung 4: Doppeltrapezflügel**"
   ]
  },
  {
   "cell_type": "code",
   "execution_count": 1,
   "metadata": {},
   "outputs": [],
   "source": [
    "# Importieren von Python-Biblioteken\n",
    "import numpy as np\n",
    "import matplotlib.pyplot as plt\n",
    "from ipywidgets import IntSlider, FloatSlider, fixed, VBox, HBox, Label\n",
    "import ipywidgets as widgets\n",
    "\n",
    "# Erhöhen der Plot-Auflösung\n",
    "plt.rcParams[\"figure.dpi\"] = 140"
   ]
  },
  {
   "cell_type": "markdown",
   "metadata": {},
   "source": [
    "### **4.1.1 Visualisierung: Doppeltrapezflügel**"
   ]
  },
  {
   "cell_type": "code",
   "execution_count": 2,
   "metadata": {},
   "outputs": [],
   "source": [
    "def doppeltrapezfluegel(l_a, l_k, AR, l_i=1.0) -> np.array:\n",
    "    \"\"\"Generiert die Planform eines Doppeltrapezflügels auf Basis der gegebenen Flügeltiefen und Streckung\"\"\"\n",
    "\n",
    "    # Berechnung der Halbspannweite\n",
    "    b = AR * (l_k*0.75 + 0.5*(l_i-l_k)*0.75+l_a*(1-0.75)+0.5*(l_k-l_a)*0.25)\n",
    "    s = b / 2\n",
    "\n",
    "    # Kink-Position (bei 75% der Halbspannweite)\n",
    "    y_lk = 0.75 * s \n",
    "\n",
    "    # Definition aller Eckpunkte\n",
    "    points = np.array([\n",
    "        [0, l_i/2], [y_lk, l_k/2], [s, l_a/2], [s, -l_a/2], [y_lk, -l_k/2], [0, -l_i/2], \n",
    "        [-y_lk, -l_k/2], [-s, -l_a/2], [-s, l_a/2], [-y_lk, l_k/2], [0, l_i/2]\n",
    "    ])\n",
    "    points = np.array([[point[0], point[1] + l_i/2] for point in points])\n",
    "    \n",
    "    return points\n",
    "\n",
    "\n",
    "def plot_doppeltrapezfluegel(l_a, l_k, AR):\n",
    "    \"\"\"Plottet die Planform eines Doppeltrapezflügels auf Basis der gegebenen Flügeltiefen und Streckung\"\"\"\n",
    "\n",
    "    # Flügeleckpunkte generieren\n",
    "    points = doppeltrapezfluegel(l_a, l_k, AR)\n",
    "\n",
    "    # Geometrie plotten\n",
    "    plt.figure(figsize=(7, 3))\n",
    "    plt.plot(points[:,0], points[:, 1], '-', color=\"black\")\n",
    "    plt.vlines(0, 0, 1, \"black\", \"--\")\n",
    "    plt.xlabel('Spannweite [m]')\n",
    "    plt.ylabel('Flügeltiefe [m]')\n",
    "    plt.title('Doppeltrapezflügel')\n",
    "    plt.gca().invert_yaxis()\n",
    "    plt.axis('equal')\n",
    "    plt.show()\n",
    "\n",
    "\n",
    "def widget_doppeltrapezfluegel():\n",
    "    \"\"\"Erzeugt ein widget, mit dem sich die Planform eines Doppeltrapezflügels interaktiv visualisieren lässt\"\"\"\n",
    "\n",
    "    slider_l_k = VBox([Label('Flügeltiefe Kink'), FloatSlider(value=0.8, min=0, max=1.0, step=0.1)])\n",
    "    slider_l_a = VBox([Label('Flügeltiefe außen'), FloatSlider(value=0.5, min=0, max=0.8, step=0.1)])\n",
    "    slider_AR = VBox([Label('Streckung'), FloatSlider(value=10, min=5, max=20, step=1)])\n",
    "\n",
    "    # Interaktiver plot\n",
    "    ui = VBox([slider_l_k, slider_l_a, slider_AR])\n",
    "    ui = VBox([ui], layout=widgets.Layout(justify_content='center'))\n",
    "    out = widgets.interactive_output(plot_doppeltrapezfluegel, {'l_a': slider_l_a.children[1], 'l_k': slider_l_k.children[1], 'AR': slider_AR.children[1]})\n",
    "\n",
    "    return HBox([out, ui])"
   ]
  },
  {
   "cell_type": "code",
   "execution_count": 3,
   "metadata": {},
   "outputs": [
    {
     "data": {
      "application/vnd.jupyter.widget-view+json": {
       "model_id": "4fd0a6a52d5e4670976baec8e44a45da",
       "version_major": 2,
       "version_minor": 0
      },
      "text/plain": [
       "HBox(children=(Output(), VBox(children=(VBox(children=(VBox(children=(Label(value='Flügeltiefe Kink'), FloatSl…"
      ]
     },
     "metadata": {},
     "output_type": "display_data"
    }
   ],
   "source": [
    "display(widget_doppeltrapezfluegel())"
   ]
  },
  {
   "cell_type": "markdown",
   "metadata": {},
   "source": [
    "### **4.1.2 Geometrische Parameter und Randbedinungen**"
   ]
  },
  {
   "cell_type": "code",
   "execution_count": 4,
   "metadata": {},
   "outputs": [],
   "source": [
    "# Konstant\n",
    "alpha = 5                       # Anstellwinel [deg]\n",
    "alpha = alpha / 180 * np.pi     # Anstellwinel [rad]  \n",
    "U_inf = 10.0                    # Anströmgeschwindigkeit [m/s]\n",
    "rho = 1.225                     # Dichte [kg/m^3]\n",
    "l_i = 1.0                       # Flügeltiefe Wurzel [m]"
   ]
  },
  {
   "cell_type": "markdown",
   "metadata": {},
   "source": [
    "# 🟠"
   ]
  },
  {
   "cell_type": "code",
   "execution_count": 5,
   "metadata": {},
   "outputs": [],
   "source": [
    "# Diese Parameter können verändert werden\n",
    "l_a = 0.3                       # Flügeltiefe außen [m]\n",
    "l_k = 0.675                       # Flügeltiefe kink [m]\n",
    "AR = 20                         # Streckung/ Aspect Ratio"
   ]
  },
  {
   "cell_type": "markdown",
   "metadata": {},
   "source": [
    "#### Berechnung weiterer geometrischer Parameter"
   ]
  },
  {
   "cell_type": "code",
   "execution_count": 6,
   "metadata": {},
   "outputs": [
    {
     "name": "stdout",
     "output_type": "stream",
     "text": [
      "Spannweite:                   15.00 m\n",
      "Halbspannweite:               7.50 m\n",
      "Kink-Position:                5.62 m\n",
      "Flügelfläche:                 11.25 m^2\n"
     ]
    }
   ],
   "source": [
    "# Berechnung der Halbspannweite\n",
    "b = AR * (l_k*0.75 + 0.5*(l_i-l_k)*0.75+l_a*(1-0.75)+0.5*(l_k-l_a)*0.25)   \n",
    "s = b / 2 \n",
    "\n",
    "# Berechnung der Kink-Position (bei 75% der Halbspannweite)\n",
    "y_lk = 0.75 * s     \n",
    "\n",
    "# Berechnung der Flügelfläche aus Halbspannweite und Streckung\n",
    "S = b**2 / AR         \n",
    "\n",
    "print(\"Spannweite:                  \", \"%.2f\" % b, \"m\")\n",
    "print(\"Halbspannweite:              \", \"%.2f\" % s, \"m\")\n",
    "print(\"Kink-Position:               \", \"%.2f\" % y_lk, \"m\")\n",
    "print(\"Flügelfläche:                \", \"%.2f\" % S, \"m^2\")"
   ]
  },
  {
   "cell_type": "markdown",
   "metadata": {},
   "source": [
    "### **4.1.3 Visualisierung der Diskretisierung**"
   ]
  },
  {
   "cell_type": "code",
   "execution_count": 7,
   "metadata": {},
   "outputs": [],
   "source": [
    "def tiefe_doppeltrapez(y, y_lk, l_k, l_a, s) -> float:\n",
    "    \"\"\"Berechnet mit gegebenen Geometriepartametern eines Doppeltrapezflügels die lokale Flügeltiefe für eine spannweitige Position\"\"\"\n",
    "    y = abs(y)\n",
    "    if y <= y_lk:\n",
    "        return 1 + (l_k - 1) * (y / y_lk)\n",
    "    else:\n",
    "        return l_k + (l_a - l_k) * ((y - y_lk) / (s - y_lk))\n",
    "    \n",
    "\n",
    "def plot_diskretisierung_doppeltrapez(l_a, l_k, y_lk, AR, s, N):\n",
    "    \"\"\"Plottet die Diskretisierung eines Doppeltrapezflügels auf Basis der Anzahl der Elementarflügel\"\"\"\n",
    "    points = doppeltrapezfluegel(l_a, l_k, AR)\n",
    "    \n",
    "    # Diskretisierung der Halbspannweite\n",
    "    y_values = np.linspace(-s, s, N+1)\n",
    "    chord_values = [tiefe_doppeltrapez(y, y_lk, l_k, l_a, s) for y in y_values]\n",
    "    \n",
    "    # Geometrie plotten\n",
    "    plt.figure(figsize=(6, 3))\n",
    "    plt.plot(points[:,0], points[:, 1], '-', color=\"black\")\n",
    "\n",
    "    # Elementarflügel plotten\n",
    "    for i in range(N):\n",
    "        plt.plot([y_values[i], y_values[i]], [-chord_values[i]/2 + l_i/2, chord_values[i]/2 + l_i/2], 'g-')\n",
    "    \n",
    "    plt.vlines(0, 0, 1, \"black\", \"--\")\n",
    "    plt.xlabel('Spannweite [m]')\n",
    "    plt.ylabel('Flügeltiefe [m]')\n",
    "    plt.title('Diskretisierung Doppeltrapezflügel')\n",
    "    plt.gca().invert_yaxis()\n",
    "    plt.axis('equal')\n",
    "    plt.show()\n",
    "\n",
    "\n",
    "def widget_diskretisierung_doppeltrapez(l_a, l_k, y_lk, AR, s):\n",
    "    \"\"\"Erzeugt ein widget, mit dem sich die Diskretisierung eines Doppeltrapezflügels interaktiv visualisieren lässt\"\"\"\n",
    "\n",
    "    slider_N = VBox([Label('Anzahl der Elementarflügel'), IntSlider(value=30, min=1, max=100, step=1)])\n",
    "\n",
    "    # Interaktiver plot\n",
    "    ui = VBox([slider_N])\n",
    "    ui = VBox([ui], layout=widgets.Layout(justify_content='center'))\n",
    "    out = widgets.interactive_output(plot_diskretisierung_doppeltrapez, {'l_a': fixed(l_a), 'l_k': fixed(l_k), \"y_lk\": fixed(y_lk), 'AR': fixed(AR), \"s\": fixed(s), 'N': slider_N.children[1]})\n",
    "    return HBox([out, ui])"
   ]
  },
  {
   "cell_type": "code",
   "execution_count": 8,
   "metadata": {},
   "outputs": [
    {
     "data": {
      "application/vnd.jupyter.widget-view+json": {
       "model_id": "1de1a45ed4c24032b4d4c6ada376a188",
       "version_major": 2,
       "version_minor": 0
      },
      "text/plain": [
       "HBox(children=(Output(), VBox(children=(VBox(children=(VBox(children=(Label(value='Anzahl der Elementarflügel'…"
      ]
     },
     "execution_count": 8,
     "metadata": {},
     "output_type": "execute_result"
    }
   ],
   "source": [
    "(widget_diskretisierung_doppeltrapez(l_a, l_k, y_lk, AR, s))"
   ]
  },
  {
   "cell_type": "markdown",
   "metadata": {},
   "source": [
    "### **4.1.4 Berechnung der Hufeisenwirbel-Koordinaten**"
   ]
  },
  {
   "cell_type": "markdown",
   "metadata": {},
   "source": [
    "Zur Bestimmung der $N$ (Variable n) unbekannten Wirbelstärken $\\Gamma$ wird die kinematische Strömungsbedingung in den $N$ (Variable $m$) Aufpunkten erfüllt, und man hat ein lineares Gleichungssystem zu lösen. Dafür werden die Koordinaten des tragenden Wirbels entlang der örtlichen $l_p/4$-Linie (indizes a, b) am Rand jedes Elementarflügels sowie die der Aufpunkte im $3l_p/4$–Punkt des Mittelschnittes jedes Elementarflügels (index c) bestimmt. Der Koordinatenursprung (x, y) = (0, 0) liegt hierbei dort, wo sich die Symmetrieachse des Flügels (Rumpf) und die Vorderkante."
   ]
  },
  {
   "cell_type": "code",
   "execution_count": 9,
   "metadata": {},
   "outputs": [],
   "source": [
    "# Anzahl Elementarflügel\n",
    "N = 500                                "
   ]
  },
  {
   "cell_type": "code",
   "execution_count": 10,
   "metadata": {},
   "outputs": [],
   "source": [
    "# Breite eines Elementarflügels   \n",
    "delta_b = b/N                            \n",
    "\n",
    "def x_position(y, l_i, l_k, l_a, y_lk, aufpunkt=False):\n",
    "    \"\"\"Berechnet die Tiefenposition der Punkte A und B und des Aufpunkts C\"\"\"\n",
    "\n",
    "    tiefe = 0.75 if aufpunkt else 0.25\n",
    "    if abs(y) <= y_lk:\n",
    "        return (abs(y)/y_lk * 0.5*(l_i-l_k) + tiefe*(l_i - abs(y)/y_lk * (l_i-l_k)))\n",
    "    else:\n",
    "        return (0.5*(l_i-l_k) + (abs(y)-y_lk)/(s-y_lk) * 0.5*(l_k-l_a) + tiefe*(l_k - (abs(y)-y_lk)/(s-y_lk)*(l_k-l_a)))\n",
    "    \n",
    "\n",
    "def compute_coords(s, N, delta_b, l_i, l_k, l_a, y_lk):\n",
    "    \"\"\"Berechnet die Hufeisenwirbel-Koordinaten aus Basis der Flügelgeometrie und Anzahl der Elementarflügel\"\"\"\n",
    "\n",
    "    # Spannweitige Positionen der Punkte A, B und Aufpunkt C\n",
    "    y_a = np.array([-s +  j    * delta_b for j in range(N)])\n",
    "    y_b = np.array([-s + (j+1) * delta_b for j in range(N)])\n",
    "    y_c = np.array([-s + delta_b/2 + i*delta_b for i in range(N)])\n",
    "\n",
    "    # Tiefenposition der Punkte A und B und des Aufpunkts C\n",
    "    x_a = np.array([x_position(y_i, l_i, l_k, l_a, y_lk) for y_i in y_a])\n",
    "    x_b = np.array([x_position(y_i, l_i, l_k, l_a, y_lk) for y_i in y_b])\n",
    "    x_c = np.array([x_position(y_i, l_i, l_k, l_a, y_lk, True) for y_i in y_c])\n",
    "\n",
    "    # Spannweitige Positionen der bis ins Unendliche reichenden nichttragenden Wirbel\n",
    "    y_aoo = np.array([-s +  j    * delta_b for j in range(N)])\n",
    "    y_boo = np.array([-s + (j+1) * delta_b for j in range(N)])\n",
    "\n",
    "    # Tiefenposition der bis ins Unendliche reichenden nichttragenden Wirbel\n",
    "    x_aoo = x_a + 100*s\n",
    "    x_boo = x_b + 100*s\n",
    "    \n",
    "    return y_a, y_b, y_c, x_a, x_b, x_c, y_aoo, y_boo, x_aoo, x_boo\n",
    "\n",
    "\n",
    "# Berechnen aller Hufeisenwirbel-Koordinaten\n",
    "y_a, y_b, y_c, x_a, x_b, x_c, y_aoo, y_boo, x_aoo, x_boo = compute_coords(s, N, delta_b, l_i, l_k, l_a, y_lk)"
   ]
  },
  {
   "cell_type": "markdown",
   "metadata": {},
   "source": [
    "### **4.1.5 Berechnung der Koeffizientenmatrix**"
   ]
  },
  {
   "cell_type": "markdown",
   "metadata": {},
   "source": [
    "Die Koeffizientenmatrix `a` ist die Summe der gebundenen und freien Wirbel.\n",
    "Die Koeffizientenmatrix der induzierenden Wirbel `a_ind` ist die Summe der freien Wirbel.\n",
    "Die Wirbelstärken `Gamma` werden aus Inverser der Koeffizientenmatrix, Anstellwinkelvektor und Anströmgeschwindigkeit berechnet."
   ]
  },
  {
   "cell_type": "code",
   "execution_count": 11,
   "metadata": {},
   "outputs": [],
   "source": [
    "def compute_coeff_matrices(y_a, y_b, y_c, x_a, x_b, x_c):\n",
    "    \"\"\"Berechnet die drei Anteile der Koeffizientenmatrix\"\"\"\n",
    "    \n",
    "    # Initialisieren der Matrizen\n",
    "    a_AB = np.zeros((x_a.size, x_a.size))\n",
    "    a_Aoo = np.zeros((x_a.size, x_a.size))\n",
    "    a_Boo = np.zeros((x_a.size, x_a.size))\n",
    "\n",
    "    # Berechnen der Anteile der gebundenen Wirbel\n",
    "    for j in range(N):\n",
    "        for i in range(N):\n",
    "            a_AB[i, j] = 1 / (4*np.pi) * (1/((x_c[i] - x_a[j])*(y_c[i] - y_b[j]) - (y_c[i] - y_a[j])*(x_c[i] - x_b[j]))) * (((x_b[j] - x_a[j])*(x_c[i] - x_a[j]) + (y_b[j] - y_a[j])*(y_c[i] - y_a[j]))/ np.sqrt((x_c[i] - x_a[j])**2 + (y_c[i] - y_a[j])**2) - ((x_b[j] - x_a[j])*(x_c[i] - x_b[j]) + (y_b[j] - y_a[j])*(y_c[i] - y_b[j]))/ np.sqrt((x_c[i] - x_b[j])**2 + (y_c[i] - y_b[j])**2))\n",
    "\n",
    "    # Berechnen der Anteile der freien Wirbel der linken Seite\n",
    "    for j in range(N):\n",
    "        for i in range(N):\n",
    "            a_Aoo[i, j] = 1 / (4*np.pi) * 1/(y_a[j] - y_c[i]) * ((x_c[i] - x_a[j])/ (np.sqrt((x_c[i] - x_a[j])**2 + (y_c[i] - y_a[j])**2)) + 1)\n",
    "\n",
    "    # Berechnen der Anteile der freien Wirbel der rechten Seite\n",
    "    for j in range(N):\n",
    "        for i in range(N):\n",
    "            a_Boo[i, j] = 1 / (4*np.pi) * 1/(y_b[j] - y_c[i]) * ((x_c[i] - x_b[j])/ (np.sqrt((x_c[i] - x_b[j])**2 + (y_c[i] - y_b[j])**2)) + 1)\n",
    "    \n",
    "    return a_AB, a_Aoo, a_Boo"
   ]
  },
  {
   "cell_type": "code",
   "execution_count": 12,
   "metadata": {},
   "outputs": [],
   "source": [
    "# Berechnen der Anteile der Koeffizientenmatrix\n",
    "a_AB, a_Aoo, a_Boo = compute_coeff_matrices(y_a, y_b, y_c, x_a, x_b, x_c)\n",
    "\n",
    "a = a_AB + a_Aoo - a_Boo                # Koeffizientenmatrix\n",
    "a_ind = a_Aoo - a_Boo                   # Koeffizientenmatrix der induzierenden Wirbel\n",
    "alpha_g = np.full((a.shape[0]), alpha)    # Anstellwinkelvektor\n",
    "\n",
    "# Löst das lineare Gleichungssystem Ax = b, wobei\n",
    "# A - Koeffizientenmatrix a\n",
    "# x - Zirkulationsvektor Gamma\n",
    "# B - Koeffizientenvektor alpha_g * (- U_inf)\n",
    "Gamma = np.linalg.solve(a, alpha_g * (- U_inf)) "
   ]
  },
  {
   "cell_type": "markdown",
   "metadata": {},
   "source": [
    "### **4.1.6 Berechnung von Kräften und Beiwerten**\n",
    "#### Auftrieb und Widerstand"
   ]
  },
  {
   "cell_type": "code",
   "execution_count": 13,
   "metadata": {},
   "outputs": [
    {
     "name": "stdout",
     "output_type": "stream",
     "text": [
      "Auftrieb:                     337.97 N\n",
      "Induzierter Widerstand:       3.22 N\n"
     ]
    }
   ],
   "source": [
    "# Berechnung des Auftriebs nach Kutta-Joukowsky\n",
    "A_j = rho * delta_b * U_inf * Gamma\n",
    "A = np.sum(A_j)\n",
    "\n",
    "# Berechnung des induzierten Widerstands\n",
    "w_m = a_ind @ Gamma\n",
    "W_ind = np.sum(-rho *w_m @ Gamma * delta_b)\n",
    "\n",
    "print(\"Auftrieb:                    \", \"%.2f\" % A, \"N\")\n",
    "print(\"Induzierter Widerstand:      \", \"%.2f\" % W_ind, \"N\")"
   ]
  },
  {
   "cell_type": "markdown",
   "metadata": {},
   "source": [
    "#### Auftriebsverteilung"
   ]
  },
  {
   "cell_type": "code",
   "execution_count": 14,
   "metadata": {},
   "outputs": [
    {
     "data": {
      "image/png": "[encoded data removed]",
      "text/plain": [
       "<Figure size 840x420 with 1 Axes>"
      ]
     },
     "metadata": {},
     "output_type": "display_data"
    }
   ],
   "source": [
    "# Hinzufügen von Endpunkten zum plotten\n",
    "A_j = np.insert(A_j, 0, 0)\n",
    "A_j = np.append(A_j, 0)\n",
    "y_c = np.insert(y_c, 0, -s)\n",
    "y_c = np.append(y_c, s)\n",
    "\n",
    "# Berechnen der Fläche unter der berechneten Auftriebsverteilung\n",
    "area_distr = np.trapezoid(A_j, y_c)\n",
    "\n",
    "# Erzeugen einer elliptischen Auftriebsverteilung\n",
    "y_elliptisch = np.linspace(-s, s, len(y_c))\n",
    "A_elliptisch_raw = np.sqrt(1 - (y_elliptisch / s) ** 2)\n",
    "\n",
    "# Skalieren der elliptischen Verteilung, sodass die resultierende Auftriebskraft identisch ist\n",
    "area_elliptisch_raw = np.trapezoid(A_elliptisch_raw, y_elliptisch)\n",
    "scale_factor = area_distr / area_elliptisch_raw\n",
    "A_elliptisch = A_elliptisch_raw * scale_factor\n",
    "\n",
    "# Plotten der Auftriebsverteilungen\n",
    "plt.figure(figsize=(6, 3))\n",
    "plt.plot(y_c, A_j, '-', color=\"black\", label='Berechnete Auftriebsverteilung')\n",
    "plt.plot(y_elliptisch, A_elliptisch, '--', color=\"red\", label='Elliptische Auftriebsverteilung')\n",
    "plt.xlabel('Spannweite [m]')\n",
    "plt.ylabel('Auftrieb [N]')\n",
    "plt.title('Auftriebsverteilung')\n",
    "plt.legend()\n",
    "plt.show()"
   ]
  },
  {
   "cell_type": "markdown",
   "metadata": {},
   "source": [
    "#### Aerodynamische Beiwerte und Oswald-Faktor"
   ]
  },
  {
   "cell_type": "code",
   "execution_count": 15,
   "metadata": {},
   "outputs": [
    {
     "name": "stdout",
     "output_type": "stream",
     "text": [
      "Auftriebsbeiwert:                 0.49048\n",
      "Widerstandsbeiwert:               0.00468\n",
      "Widerstandsbeiwert (Ellipse):     0.00383\n",
      "Oswald-Faktor:                    0.818\n"
     ]
    }
   ],
   "source": [
    "# Auftriebsbeiwert\n",
    "C_A = 2*A / rho / U_inf**2 / S\n",
    "\n",
    "# Widerstandsbeiwert (induziert)\n",
    "C_W_ind = 2*W_ind / rho / U_inf**2 / S\n",
    "\n",
    "# Induzierter Widerstand der elliptischen Zirkulationsverteilung\n",
    "C_W_ind_ell = C_A**2 / AR / np.pi\n",
    "\n",
    "# Oswald Faktor\n",
    "Oswald = C_W_ind_ell / C_W_ind\n",
    "\n",
    "print(\"Auftriebsbeiwert:                \", \"%.5f\" % C_A)\n",
    "print(\"Widerstandsbeiwert:              \", \"%.5f\" % C_W_ind)\n",
    "print(\"Widerstandsbeiwert (Ellipse):    \", \"%.5f\" % C_W_ind_ell)\n",
    "print(\"Oswald-Faktor:                   \", \"%.3f\" % Oswald)"
   ]
  }
 ],
 "metadata": {
  "kernelspec": {
   "display_name": ".venv",
   "language": "python",
   "name": "python3"
  },
  "language_info": {
   "codemirror_mode": {
    "name": "ipython",
    "version": 3
   },
   "file_extension": ".py",
   "mimetype": "text/x-python",
   "name": "python",
   "nbconvert_exporter": "python",
   "pygments_lexer": "ipython3",
   "version": "3.12.4"
  }
 },
 "nbformat": 4,
 "nbformat_minor": 2
}
